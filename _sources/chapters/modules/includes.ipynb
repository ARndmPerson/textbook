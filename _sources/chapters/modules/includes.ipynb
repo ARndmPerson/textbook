{
 "cells": [
  {
   "cell_type": "markdown",
   "id": "4787190c",
   "metadata": {},
   "source": [
    "# Includes\n",
    "\n",
    "{{ video_embed | replace(\"%%VID%%\", \"SmG3ChuOLpQ\")}}\n",
    "\n",
    "Copying and pasting code is almost always a bad idea. Duplication of code causes\n",
    "duplication and proliferation of errors. So why are we so prone to making this\n",
    "mistake? Maybe because it always seems like the easier option &mdash; easier and\n",
    "quicker than applying the Abstraction Principle as we should to factor out\n",
    "common code.\n",
    "\n",
    "The OCaml module system provides a neat feature called *includes* that is like a\n",
    "principled copy-and-paste that is quick and easy to use, but avoids actual\n",
    "duplication. It can be used to solve some of the same problems as *inheritance*\n",
    "in object-oriented languages.\n",
    "\n",
    "Let's start with an example. Recall this implementation of sets as lists:"
   ]
  },
  {
   "cell_type": "code",
   "execution_count": 1,
   "id": "317a5128",
   "metadata": {
    "tags": [
     "hide-output"
    ]
   },
   "outputs": [
    {
     "data": {
      "text/plain": [
       "module type Set =\n",
       "  sig\n",
       "    type 'a t\n",
       "    val empty : 'a t\n",
       "    val mem : 'a -> 'a t -> bool\n",
       "    val add : 'a -> 'a t -> 'a t\n",
       "    val elements : 'a t -> 'a list\n",
       "  end\n"
      ]
     },
     "execution_count": 1,
     "metadata": {},
     "output_type": "execute_result"
    },
    {
     "data": {
      "text/plain": [
       "module ListSet : Set\n"
      ]
     },
     "execution_count": 1,
     "metadata": {},
     "output_type": "execute_result"
    }
   ],
   "source": [
    "module type Set = sig\n",
    "  type 'a t\n",
    "  val empty : 'a t\n",
    "  val mem : 'a -> 'a t -> bool\n",
    "  val add : 'a -> 'a t -> 'a t\n",
    "  val elements : 'a t -> 'a list\n",
    "end\n",
    "\n",
    "module ListSet : Set = struct\n",
    "  type 'a t = 'a list\n",
    "  let empty = []\n",
    "  let mem = List.mem\n",
    "  let add = List.cons\n",
    "  let elements s = List.sort_uniq Stdlib.compare s\n",
    "end"
   ]
  },
  {
   "cell_type": "markdown",
   "id": "858c09be",
   "metadata": {},
   "source": [
    "Suppose we wanted to add a function `of_list : 'a list -> 'a t` that could\n",
    "construct a set out of a list. If we had access to the source code of both\n",
    "`ListSet` and `Set`, and if we were permitted to modify it, this wouldn't be\n",
    "hard. But what if they were third-party libraries for which we didn't have\n",
    "source code?\n",
    "\n",
    "In Java, we might use inheritance to solve this problem:\n",
    "\n",
    "```java\n",
    "interface Set<T> { ... }\n",
    "class ListSet<T> implements Set<T> { ... }\n",
    "class ListSetExtended<T> extends ListSet<T> {\n",
    "  Set<T> ofList(List<T> lst) { ... }\n",
    "}\n",
    "```\n",
    "\n",
    "That helps us to reuse code, because the subclass inherits all the methods of\n",
    "its superclass.\n",
    "\n",
    "OCaml *includes* are similar. They enable a module to include all the items\n",
    "defined by another module, or a module type to include all the specifications of\n",
    "another module type.\n",
    "\n",
    "Here's how we can use includes to solve the problem of adding `of_list` to\n",
    "`ListSet`:"
   ]
  },
  {
   "cell_type": "code",
   "execution_count": 2,
   "id": "8d1dd438",
   "metadata": {},
   "outputs": [
    {
     "data": {
      "text/plain": [
       "module ListSetExtended :\n",
       "  sig\n",
       "    type 'a t = 'a ListSet.t\n",
       "    val empty : 'a t\n",
       "    val mem : 'a -> 'a t -> bool\n",
       "    val add : 'a -> 'a t -> 'a t\n",
       "    val elements : 'a t -> 'a list\n",
       "    val of_list : 'a list -> 'a t\n",
       "  end\n"
      ]
     },
     "execution_count": 2,
     "metadata": {},
     "output_type": "execute_result"
    }
   ],
   "source": [
    "module ListSetExtended = struct\n",
    "  include ListSet\n",
    "  let of_list lst = List.fold_right add lst empty\n",
    "end"
   ]
  },
  {
   "cell_type": "markdown",
   "id": "084e14c7",
   "metadata": {},
   "source": [
    "This code says that `ListSetExtended` is a module that includes all the\n",
    "definitions of the `ListSet` module, as well as a definition of `of_list`. We\n",
    "don't have to know the source code implementing `ListSet` to make this happen.\n",
    "\n",
    "```{note}\n",
    "You might wonder we why can't simply implement `of_list` as the identity\n",
    "function. See the section below on encapsulation for the answer.\n",
    "```\n",
    "\n",
    "## Semantics of Includes\n",
    "\n",
    "Includes can be used inside of structures and signatures. When we include inside\n",
    "a signature, we must be including another signature. And when we include inside\n",
    "a structure, we must be including another structure.\n",
    "\n",
    "**Including a structure** is effectively just syntactic sugar for writing a\n",
    "local definition for each name defined in the module. Writing `include ListSet`\n",
    "as we did above, for example, has an effect similar to writing the following:"
   ]
  },
  {
   "cell_type": "code",
   "execution_count": 3,
   "id": "291a2f04",
   "metadata": {},
   "outputs": [
    {
     "data": {
      "text/plain": [
       "module ListSetExtended :\n",
       "  sig\n",
       "    type 'a t = 'a ListSet.t\n",
       "    val empty : 'a ListSet.t\n",
       "    val mem : 'a -> 'a ListSet.t -> bool\n",
       "    val add : 'a -> 'a ListSet.t -> 'a ListSet.t\n",
       "    val elements : 'a ListSet.t -> 'a list\n",
       "    val of_list : 'a list -> 'a ListSet.t\n",
       "  end\n"
      ]
     },
     "execution_count": 3,
     "metadata": {},
     "output_type": "execute_result"
    }
   ],
   "source": [
    "module ListSetExtended = struct\n",
    "  (* BEGIN all the includes *)\n",
    "  type 'a t = 'a ListSet.t\n",
    "  let empty = ListSet.empty\n",
    "  let mem = ListSet.mem\n",
    "  let add = ListSet.add\n",
    "  let elements = ListSet.elements\n",
    "  (* END all the includes *)\n",
    "  let of_list lst = List.fold_right add lst empty\n",
    "end"
   ]
  },
  {
   "cell_type": "markdown",
   "id": "f45dd001",
   "metadata": {},
   "source": [
    "None of that is actually copying the source code of `ListSet`. Rather, the\n",
    "`include` just creates a new definition in `ListSetExtended` with the same name\n",
    "as each definition in `ListSet`. But if the set of names defined inside\n",
    "`ListSet` ever changed, the `include` would reflect that change, whereas a\n",
    "copy-paste job would not.\n",
    "\n",
    "**Including a signature** is much the same. For example, we could write:"
   ]
  },
  {
   "cell_type": "code",
   "execution_count": 4,
   "id": "94317541",
   "metadata": {},
   "outputs": [
    {
     "data": {
      "text/plain": [
       "module type SetExtended =\n",
       "  sig\n",
       "    type 'a t\n",
       "    val empty : 'a t\n",
       "    val mem : 'a -> 'a t -> bool\n",
       "    val add : 'a -> 'a t -> 'a t\n",
       "    val elements : 'a t -> 'a list\n",
       "    val of_list : 'a list -> 'a t\n",
       "  end\n"
      ]
     },
     "execution_count": 4,
     "metadata": {},
     "output_type": "execute_result"
    }
   ],
   "source": [
    "module type SetExtended = sig\n",
    "  include Set\n",
    "  val of_list : 'a list -> 'a t\n",
    "end"
   ]
  },
  {
   "cell_type": "markdown",
   "id": "27dadfcd",
   "metadata": {},
   "source": [
    "Which would have an effect similar to writing the following:"
   ]
  },
  {
   "cell_type": "code",
   "execution_count": 5,
   "id": "73f209fa",
   "metadata": {},
   "outputs": [
    {
     "data": {
      "text/plain": [
       "module type SetExtended =\n",
       "  sig\n",
       "    type 'a t\n",
       "    val empty : 'a t\n",
       "    val mem : 'a -> 'a t -> bool\n",
       "    val add : 'a -> 'a t -> 'a t\n",
       "    val elements : 'a t -> 'a list\n",
       "    val of_list : 'a list -> 'a t\n",
       "  end\n"
      ]
     },
     "execution_count": 5,
     "metadata": {},
     "output_type": "execute_result"
    }
   ],
   "source": [
    "module type SetExtended = sig\n",
    "  (* BEGIN all the includes *)\n",
    "  type 'a t\n",
    "  val empty : 'a t\n",
    "  val mem : 'a -> 'a t -> bool\n",
    "  val add : 'a -> 'a t -> 'a t\n",
    "  val elements  : 'a t -> 'a list\n",
    "  (* END all the includes *)\n",
    "  val of_list : 'a list -> 'a t\n",
    "end"
   ]
  },
  {
   "cell_type": "markdown",
   "id": "cfd24d98",
   "metadata": {},
   "source": [
    "That module type would be suitable for `ListSetExtended`:"
   ]
  },
  {
   "cell_type": "code",
   "execution_count": 6,
   "id": "e617463b",
   "metadata": {},
   "outputs": [
    {
     "data": {
      "text/plain": [
       "module ListSetExtended : SetExtended\n"
      ]
     },
     "execution_count": 6,
     "metadata": {},
     "output_type": "execute_result"
    }
   ],
   "source": [
    "module ListSetExtended : SetExtended = struct\n",
    "  include ListSet\n",
    "  let of_list lst = List.fold_right add lst empty\n",
    "end"
   ]
  },
  {
   "cell_type": "markdown",
   "id": "ed827014",
   "metadata": {},
   "source": [
    "## Encapsulation and Includes\n",
    "\n",
    "We mentioned above that you might wonder why we didn't write this simpler\n",
    "definition of `of_list`:"
   ]
  },
  {
   "cell_type": "code",
   "execution_count": 7,
   "id": "6e31ae97",
   "metadata": {
    "tags": [
     "raises-exception"
    ]
   },
   "outputs": [
    {
     "ename": "error",
     "evalue": "compile_error",
     "output_type": "error",
     "traceback": [
      "File \"[7]\", lines 1-4, characters 39-3:\n1 | .......................................struct\n2 |   include ListSet\n3 |   let of_list lst = lst\n4 | end\nError: Signature mismatch:\n       ...\n       Values do not match:\n         val of_list : 'a -> 'a\n       is not included in\n         val of_list : 'a list -> 'a t\n       File \"[5]\", line 9, characters 2-31: Expected declaration\n       File \"[7]\", line 3, characters 6-13: Actual declaration\n"
     ]
    }
   ],
   "source": [
    "module ListSetExtended : SetExtended = struct\n",
    "  include ListSet\n",
    "  let of_list lst = lst\n",
    "end"
   ]
  },
  {
   "cell_type": "markdown",
   "id": "00a4ae8a",
   "metadata": {},
   "source": [
    "Check out that error message.  It looks like `of_list` doesn't have the right\n",
    "type.  What if we try adding some type annotations?"
   ]
  },
  {
   "cell_type": "code",
   "execution_count": 8,
   "id": "8245d752",
   "metadata": {
    "tags": [
     "raises-exception"
    ]
   },
   "outputs": [
    {
     "ename": "error",
     "evalue": "compile_error",
     "output_type": "error",
     "traceback": [
      "File \"[8]\", line 3, characters 39-42:\n3 |   let of_list (lst : 'a list) : 'a t = lst\n                                           ^^^\nError: This expression has type 'a list\n       but an expression was expected of type 'a t = 'a ListSet.t\n"
     ]
    }
   ],
   "source": [
    "module ListSetExtended : SetExtended = struct\n",
    "  include ListSet\n",
    "  let of_list (lst : 'a list) : 'a t = lst\n",
    "end"
   ]
  },
  {
   "cell_type": "markdown",
   "id": "eae172cc",
   "metadata": {},
   "source": [
    "Ah, now the problem is clearer: in the body of `of_list`, the equality of `'a t`\n",
    "and `'a list` isn't known. In `ListSetExtended`, we do know that\n",
    "`'a t = 'a ListSet.t`, because that's what the `include` gave us. But the fact\n",
    "that `'a ListSet.t = 'a list` was hidden when `ListSet` was sealed at module\n",
    "type `Set`. So, includes must obey encapsulation, just like the rest of the\n",
    "module system.\n",
    "\n",
    "One workaround is to rewrite the definitions as follows:"
   ]
  },
  {
   "cell_type": "code",
   "execution_count": 9,
   "id": "69dd8d81",
   "metadata": {},
   "outputs": [
    {
     "data": {
      "text/plain": [
       "module ListSetImpl :\n",
       "  sig\n",
       "    type 'a t = 'a list\n",
       "    val empty : 'a list\n",
       "    val mem : 'a -> 'a list -> bool\n",
       "    val add : 'a -> 'a list -> 'a list\n",
       "    val elements : 'a list -> 'a list\n",
       "  end\n"
      ]
     },
     "execution_count": 9,
     "metadata": {},
     "output_type": "execute_result"
    },
    {
     "data": {
      "text/plain": [
       "module ListSet : Set\n"
      ]
     },
     "execution_count": 9,
     "metadata": {},
     "output_type": "execute_result"
    },
    {
     "data": {
      "text/plain": [
       "module type SetExtended =\n",
       "  sig\n",
       "    type 'a t\n",
       "    val empty : 'a t\n",
       "    val mem : 'a -> 'a t -> bool\n",
       "    val add : 'a -> 'a t -> 'a t\n",
       "    val elements : 'a t -> 'a list\n",
       "    val of_list : 'a list -> 'a t\n",
       "  end\n"
      ]
     },
     "execution_count": 9,
     "metadata": {},
     "output_type": "execute_result"
    },
    {
     "data": {
      "text/plain": [
       "module ListSetExtendedImpl :\n",
       "  sig\n",
       "    type 'a t = 'a list\n",
       "    val empty : 'a list\n",
       "    val mem : 'a -> 'a list -> bool\n",
       "    val add : 'a -> 'a list -> 'a list\n",
       "    val elements : 'a list -> 'a list\n",
       "    val of_list : 'a -> 'a\n",
       "  end\n"
      ]
     },
     "execution_count": 9,
     "metadata": {},
     "output_type": "execute_result"
    },
    {
     "data": {
      "text/plain": [
       "module ListSetExtended : SetExtended\n"
      ]
     },
     "execution_count": 9,
     "metadata": {},
     "output_type": "execute_result"
    }
   ],
   "source": [
    "module ListSetImpl = struct\n",
    "  type 'a t = 'a list\n",
    "  let empty = []\n",
    "  let mem = List.mem\n",
    "  let add = List.cons\n",
    "  let elements s = List.sort_uniq Stdlib.compare s\n",
    "end\n",
    "\n",
    "module ListSet : Set = ListSetImpl\n",
    "\n",
    "module type SetExtended = sig\n",
    "  include Set\n",
    "  val of_list : 'a list -> 'a t\n",
    "end\n",
    "\n",
    "module ListSetExtendedImpl = struct\n",
    "  include ListSetImpl\n",
    "  let of_list lst = lst\n",
    "end\n",
    "\n",
    "module ListSetExtended : SetExtended = ListSetExtendedImpl"
   ]
  },
  {
   "cell_type": "markdown",
   "id": "849eafd9",
   "metadata": {},
   "source": [
    "The important change is that `ListSetImpl` is not sealed, so its type `'a t` is\n",
    "not abstract. When we include it in `ListSetExtended`, we can therefore exploit\n",
    "the fact that it's a synonym for `'a list`.\n",
    "\n",
    "What we just did is effectively the same as what Java does to handle the\n",
    "visibility modifiers `public`, `private`, etc. The \"private version\" of a class\n",
    "is like the `Impl` version above: anyone who can see that version gets to see\n",
    "all the exposed items (fields in Java, types in OCaml), without any\n",
    "encapsulation. The \"public version\" of a class is like the sealed version above:\n",
    "anyone who can see that version is forced to treat the items as abstract, hence\n",
    "encapsulated.\n",
    "\n",
    "With that technique, if we want to provide a new implementation of one of the\n",
    "included functions we *could* do that too:"
   ]
  },
  {
   "cell_type": "code",
   "execution_count": 10,
   "id": "14cbf376",
   "metadata": {},
   "outputs": [
    {
     "data": {
      "text/plain": [
       "module ListSetExtendedImpl :\n",
       "  sig\n",
       "    type 'a t = 'a list\n",
       "    val empty : 'a list\n",
       "    val mem : 'a -> 'a list -> bool\n",
       "    val add : 'a -> 'a list -> 'a list\n",
       "    val of_list : 'a list -> 'a list\n",
       "    val elements : 'a list -> 'a list\n",
       "  end\n"
      ]
     },
     "execution_count": 10,
     "metadata": {},
     "output_type": "execute_result"
    }
   ],
   "source": [
    "module ListSetExtendedImpl = struct\n",
    "  include ListSetImpl\n",
    "  let of_list lst = List.fold_right add lst empty\n",
    "  let rec elements = function\n",
    "    | [] -> []\n",
    "    | h :: t -> if mem h t then elements t else h :: elements t\n",
    "end"
   ]
  },
  {
   "cell_type": "markdown",
   "id": "b0164860",
   "metadata": {},
   "source": [
    "But that's a bad idea. First, it's actually a quadratic implementation of\n",
    "`elements` instead of linearithmic. Second, it does not *replace* the original\n",
    "implementation of `elements`. Remember the semantics of modules: all definitions\n",
    "are evaluated from top to bottom, in order. So the new definition of `elements`\n",
    "above won't come into use until the very end of evaluation. If any earlier\n",
    "functions had happened to use `elements` as a helper, they would use the\n",
    "original linearithmic version, not the new quadratic version.\n",
    "\n",
    "```{warning}\n",
    "This differs from what you might expect from Java, which uses a language feature\n",
    "called [dynamic dispatch][dd] to figure out which method implementation to\n",
    "invoke. Dynamic dispatch is arguably *the* defining feature of object-oriented\n",
    "languages. OCaml functions are not methods, and they do not use dynamic\n",
    "dispatch.\n",
    "```\n",
    "\n",
    "[dd]: https://en.wikipedia.org/wiki/Dynamic_dispatch\n",
    "\n",
    "\n",
    "## Include vs. Open\n",
    "\n",
    "{{ video_embed | replace(\"%%VID%%\", \"P1-gLiagAK4\")}}\n",
    "\n",
    "The `include` and `open` statements are quite similar, but they have\n",
    "a subtly different effect on a structure.  Consider this code:"
   ]
  },
  {
   "cell_type": "code",
   "execution_count": 11,
   "id": "6e836886",
   "metadata": {},
   "outputs": [
    {
     "data": {
      "text/plain": [
       "module M : sig val x : int end\n"
      ]
     },
     "execution_count": 11,
     "metadata": {},
     "output_type": "execute_result"
    },
    {
     "data": {
      "text/plain": [
       "module N : sig val x : int val y : int end\n"
      ]
     },
     "execution_count": 11,
     "metadata": {},
     "output_type": "execute_result"
    },
    {
     "data": {
      "text/plain": [
       "module O : sig val y : int end\n"
      ]
     },
     "execution_count": 11,
     "metadata": {},
     "output_type": "execute_result"
    }
   ],
   "source": [
    "module M = struct\n",
    "  let x = 0\n",
    "end\n",
    "\n",
    "module N = struct\n",
    "  include M\n",
    "  let y = x + 1\n",
    "end\n",
    "\n",
    "module O = struct\n",
    "  open M\n",
    "  let y = x + 1\n",
    "end"
   ]
  },
  {
   "cell_type": "markdown",
   "id": "24d4b342",
   "metadata": {},
   "source": [
    "Look closely at the values contained in each structure. `N` has both an `x` and\n",
    "`y`, whereas `O` has only a `y`. The reason is that `include M` causes all the\n",
    "definitions of `M` to also be included in `N`, so the definition of `x` from `M`\n",
    "is present in `N`. But `open M` only made those definitions available in the\n",
    "*scope* of `O`; it doesn't actually make them part of the *structure*. So `O`\n",
    "does not contain a definition of `x`, even though `x` is in scope during the\n",
    "evaluation of `O`'s definition of `y`.\n",
    "\n",
    "A metaphor for understanding this difference might be: `open M` imports\n",
    "definitions from `M` and makes them available for local consumption, but they\n",
    "aren't exported to the outside world. Whereas `include M` imports definitions\n",
    "from `M`, makes them available for local consumption, and additionally exports\n",
    "them to the outside world.\n",
    "\n",
    "## Including Code in Multiple Modules\n",
    "\n",
    "Recall that we also had an implementation of sets that made sure every element\n",
    "of the underlying list was unique:"
   ]
  },
  {
   "cell_type": "code",
   "execution_count": 12,
   "id": "0bb0e518",
   "metadata": {},
   "outputs": [
    {
     "data": {
      "text/plain": [
       "module UniqListSet : Set\n"
      ]
     },
     "execution_count": 12,
     "metadata": {},
     "output_type": "execute_result"
    }
   ],
   "source": [
    "module UniqListSet : Set = struct\n",
    "  (** All values in the list must be unique. *)\n",
    "  type 'a t = 'a list\n",
    "  let empty = []\n",
    "  let mem = List.mem\n",
    "  let add x s = if mem x s then s else x :: s\n",
    "  let elements = Fun.id\n",
    "end"
   ]
  },
  {
   "cell_type": "markdown",
   "id": "28317afc",
   "metadata": {},
   "source": [
    "Suppose we wanted add `of_list` to that module too. One possibility would be to\n",
    "copy and paste that function from `ListSet` into `UniqListSet`. But that's poor\n",
    "software engineering. So let's rule that out right away as a non-solution.\n",
    "\n",
    "Instead, suppose we try to define the function outside of either module:"
   ]
  },
  {
   "cell_type": "code",
   "execution_count": 13,
   "id": "488fae8f",
   "metadata": {
    "tags": [
     "raises-exception"
    ]
   },
   "outputs": [
    {
     "ename": "error",
     "evalue": "compile_error",
     "output_type": "error",
     "traceback": [
      "File \"[13]\", line 1, characters 34-37:\n1 | let of_list lst = List.fold_right add lst empty\n                                      ^^^\nError: Unbound value add\n"
     ]
    }
   ],
   "source": [
    "let of_list lst = List.fold_right add lst empty"
   ]
  },
  {
   "cell_type": "markdown",
   "id": "b8884a67",
   "metadata": {},
   "source": [
    "The problem is we either need to choose which module's `add` and `empty` we\n",
    "want. But as soon as we do, the function becomes useful only with that one\n",
    "module:"
   ]
  },
  {
   "cell_type": "code",
   "execution_count": 14,
   "id": "7aaf47e5",
   "metadata": {},
   "outputs": [
    {
     "data": {
      "text/plain": [
       "val of_list : 'a list -> 'a ListSet.t = <fun>\n"
      ]
     },
     "execution_count": 14,
     "metadata": {},
     "output_type": "execute_result"
    }
   ],
   "source": [
    "let of_list lst = List.fold_right ListSet.add lst ListSet.empty"
   ]
  },
  {
   "cell_type": "markdown",
   "id": "ad5c058e",
   "metadata": {},
   "source": [
    "We could make `add` and `empty` be parameters instead:"
   ]
  },
  {
   "cell_type": "code",
   "execution_count": 15,
   "id": "abac0ed2",
   "metadata": {},
   "outputs": [
    {
     "data": {
      "text/plain": [
       "val of_list' : ('a -> 'b -> 'b) -> 'b -> 'a list -> 'b = <fun>\n"
      ]
     },
     "execution_count": 15,
     "metadata": {},
     "output_type": "execute_result"
    },
    {
     "data": {
      "text/plain": [
       "val of_list : 'a list -> 'a ListSet.t = <fun>\n"
      ]
     },
     "execution_count": 15,
     "metadata": {},
     "output_type": "execute_result"
    },
    {
     "data": {
      "text/plain": [
       "val of_list_uniq : 'a list -> 'a UniqListSet.t = <fun>\n"
      ]
     },
     "execution_count": 15,
     "metadata": {},
     "output_type": "execute_result"
    }
   ],
   "source": [
    "let of_list' add empty lst = List.fold_right add lst empty\n",
    "\n",
    "let of_list lst = of_list' ListSet.add ListSet.empty lst\n",
    "let of_list_uniq lst = of_list' UniqListSet.add UniqListSet.empty lst"
   ]
  },
  {
   "cell_type": "markdown",
   "id": "125eb89b",
   "metadata": {},
   "source": [
    "But this is annoying in a couple of ways. First, we have to remember which\n",
    "function name to call, whereas all the other operations that are part of those\n",
    "modules have the same name, regardless of which module they're in. Second, the\n",
    "`of_list` functions live outside either module, so clients who open one of the\n",
    "modules won't automatically get the ability to name those functions.\n",
    "\n",
    "Let's try to use includes to solve this problem. First, we write a module that\n",
    "contains the parameterized implementation:"
   ]
  },
  {
   "cell_type": "code",
   "execution_count": 16,
   "id": "4e064a36",
   "metadata": {},
   "outputs": [
    {
     "data": {
      "text/plain": [
       "module SetOfList :\n",
       "  sig val of_list' : ('a -> 'b -> 'b) -> 'b -> 'a list -> 'b end\n"
      ]
     },
     "execution_count": 16,
     "metadata": {},
     "output_type": "execute_result"
    }
   ],
   "source": [
    "module SetOfList = struct\n",
    "  let of_list' add empty lst = List.fold_right add lst empty\n",
    "end"
   ]
  },
  {
   "cell_type": "markdown",
   "id": "df1b3ddd",
   "metadata": {},
   "source": [
    "Then we include that module to get the helper function:"
   ]
  },
  {
   "cell_type": "code",
   "execution_count": 17,
   "id": "2c0b98b0",
   "metadata": {},
   "outputs": [
    {
     "data": {
      "text/plain": [
       "module UniqListSetExtended : SetExtended\n"
      ]
     },
     "execution_count": 17,
     "metadata": {},
     "output_type": "execute_result"
    },
    {
     "data": {
      "text/plain": [
       "module ListSetExtended : SetExtended\n"
      ]
     },
     "execution_count": 17,
     "metadata": {},
     "output_type": "execute_result"
    }
   ],
   "source": [
    "module UniqListSetExtended : SetExtended = struct\n",
    "  include UniqListSet\n",
    "  include SetOfList\n",
    "  let of_list lst = of_list' add empty lst\n",
    "end\n",
    "\n",
    "module ListSetExtended : SetExtended = struct\n",
    "  include ListSet\n",
    "  include SetOfList\n",
    "  let of_list lst = of_list' add empty lst\n",
    "end"
   ]
  },
  {
   "cell_type": "markdown",
   "id": "af426973",
   "metadata": {},
   "source": [
    "That works, but we've only partially succeeded in achieving code reuse:\n",
    "\n",
    "- On the positive side, the code that implements `of_list'` has been factored\n",
    "  out into a single location and reused in the two structures.\n",
    "\n",
    "- But on the negative side, we still had to write an implementation of `of_list`\n",
    "  in both modules. Worse yet, those implementations are identical. So there's\n",
    "  still code duplication occurring.\n",
    "\n",
    "Could we do better? Yes. And that leads us to functors, next."
   ]
  }
 ],
 "metadata": {
  "jupytext": {
   "cell_metadata_filter": "-all",
   "formats": "md:myst",
   "text_representation": {
    "extension": ".md",
    "format_name": "myst",
    "format_version": 0.13,
    "jupytext_version": "1.10.3"
   }
  },
  "kernelspec": {
   "display_name": "OCaml",
   "language": "OCaml",
   "name": "ocaml-jupyter"
  },
  "language_info": {
   "codemirror_mode": "text/x-ocaml",
   "file_extension": ".ml",
   "mimetype": "text/x-ocaml",
   "name": "OCaml",
   "nbconverter_exporter": null,
   "pygments_lexer": "OCaml",
   "version": "4.11.1"
  },
  "source_map": [
   14,
   33,
   50,
   78,
   83,
   104,
   115,
   124,
   129,
   133,
   144,
   148,
   153,
   160,
   166,
   171,
   177,
   188,
   210,
   227,
   235,
   263,
   277,
   298,
   307,
   315,
   318,
   324,
   326,
   330,
   335,
   346,
   350,
   354,
   366
  ]
 },
 "nbformat": 4,
 "nbformat_minor": 5
}