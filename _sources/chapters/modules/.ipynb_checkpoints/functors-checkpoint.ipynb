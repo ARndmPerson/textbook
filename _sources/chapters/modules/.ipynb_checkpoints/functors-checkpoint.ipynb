{
 "cells": [
  {
   "cell_type": "markdown",
   "id": "dba2ea99",
   "metadata": {},
   "source": [
    "# Functors\n",
    "\n",
    "{{ video_embed | replace(\"%%VID%%\", \"CLi5RmgQ9Mg\")}}\n",
    "\n",
    "The problem we were having in the previous section was that we wanted to add\n",
    "code to two different modules, but that code needed to be parameterized on the\n",
    "details of the module to which it was being added. It's that kind of\n",
    "parameterization that is enabled by an OCaml language feature called *functors*.\n",
    "\n",
    "```{note}\n",
    "**Why the name \"functor\"?** In [category theory][intellectualterrorism], a\n",
    "*category* contains *morphisms*, which are a generalization of functions as we\n",
    "know them, and a *functor* is map between categories. Likewise, OCaml modules\n",
    "contain functions, and OCaml functors map from modules to modules.\n",
    "```\n",
    "\n",
    "[intellectualterrorism]: https://en.wikipedia.org/wiki/Category_theory\n",
    "\n",
    "The name is unfortunately intimidating, but **a functor is simply a \"function\"\n",
    "from modules to modules.** The word \"function\" is in quotation marks in that\n",
    "sentence only because it's a kind of function that's not interchangeable with\n",
    "the rest of the functions we've already seen. OCaml's type system is\n",
    "*stratified*: module values are distinct from other values, so functions from\n",
    "modules to modules cannot be written or used in the same way as functions from\n",
    "values to values. But conceptually, functors really are just functions.\n",
    "\n",
    "Here's a tiny example of a functor:"
   ]
  },
  {
   "cell_type": "code",
   "execution_count": 1,
   "id": "634f890b",
   "metadata": {},
   "outputs": [
    {
     "data": {
      "text/plain": [
       "module type X = sig val x : int end\n"
      ]
     },
     "execution_count": 1,
     "metadata": {},
     "output_type": "execute_result"
    },
    {
     "data": {
      "text/plain": [
       "module IncX : functor (M : X) -> sig val x : int end\n"
      ]
     },
     "execution_count": 1,
     "metadata": {},
     "output_type": "execute_result"
    }
   ],
   "source": [
    "module type X = sig\n",
    "  val x : int\n",
    "end\n",
    "\n",
    "module IncX (M : X) = struct\n",
    "  let x = M.x + 1\n",
    "end"
   ]
  },
  {
   "cell_type": "markdown",
   "id": "fa7ab185",
   "metadata": {},
   "source": [
    "The functor's name is `IncX`. It's essentially a function from modules to\n",
    "modules. As a function, it takes an input and produces an output. Its input is\n",
    "named `M`, and the type of its input is `X`. Its output is the structure that\n",
    "appears on the right-hand side of the equals sign: `struct let x = M.x + 1 end`.\n",
    "\n",
    "Another way to think about `IncX` is that it's a *parameterized structure*. The\n",
    "parameter that it takes is named `M` and has type `X`. The structure itself has\n",
    "a single value named `x` in it. The value that `x` has will depend on the\n",
    "parameter `M`.\n",
    "\n",
    "Since functors are essentially functions, we *apply* them. Here's an example of\n",
    "applying `IncX`:"
   ]
  },
  {
   "cell_type": "code",
   "execution_count": 2,
   "id": "8e095c78",
   "metadata": {},
   "outputs": [
    {
     "data": {
      "text/plain": [
       "module A : sig val x : int end\n"
      ]
     },
     "execution_count": 2,
     "metadata": {},
     "output_type": "execute_result"
    }
   ],
   "source": [
    "module A = struct let x = 0 end"
   ]
  },
  {
   "cell_type": "code",
   "execution_count": 3,
   "id": "7c6e8c98",
   "metadata": {},
   "outputs": [
    {
     "data": {
      "text/plain": [
       "- : int = 0\n"
      ]
     },
     "execution_count": 3,
     "metadata": {},
     "output_type": "execute_result"
    }
   ],
   "source": [
    "A.x"
   ]
  },
  {
   "cell_type": "code",
   "execution_count": 4,
   "id": "454f2fdc",
   "metadata": {},
   "outputs": [
    {
     "data": {
      "text/plain": [
       "module B : sig val x : int end\n"
      ]
     },
     "execution_count": 4,
     "metadata": {},
     "output_type": "execute_result"
    }
   ],
   "source": [
    "module B = IncX (A)"
   ]
  },
  {
   "cell_type": "code",
   "execution_count": 5,
   "id": "9f6fab4a",
   "metadata": {},
   "outputs": [
    {
     "data": {
      "text/plain": [
       "- : int = 1\n"
      ]
     },
     "execution_count": 5,
     "metadata": {},
     "output_type": "execute_result"
    }
   ],
   "source": [
    "B.x"
   ]
  },
  {
   "cell_type": "code",
   "execution_count": 6,
   "id": "4bbdcd27",
   "metadata": {},
   "outputs": [
    {
     "data": {
      "text/plain": [
       "module C : sig val x : int end\n"
      ]
     },
     "execution_count": 6,
     "metadata": {},
     "output_type": "execute_result"
    }
   ],
   "source": [
    "module C = IncX (B)"
   ]
  },
  {
   "cell_type": "code",
   "execution_count": 7,
   "id": "d6f5bfc4",
   "metadata": {},
   "outputs": [
    {
     "data": {
      "text/plain": [
       "- : int = 2\n"
      ]
     },
     "execution_count": 7,
     "metadata": {},
     "output_type": "execute_result"
    }
   ],
   "source": [
    "C.x"
   ]
  },
  {
   "cell_type": "markdown",
   "id": "b0bf962f",
   "metadata": {},
   "source": [
    "Each time, we pass `IncX` a module. When we pass it the module bound to the name\n",
    "`A`, the input to `IncX` is `struct let x = 0 end`. Functor `IncX` takes that\n",
    "input and produces an output `struct let x = A.x + 1 end`. Since `A.x` is `0`,\n",
    "the result is `struct let x = 1 end`. So `B` is bound to `struct let x = 1 end`.\n",
    "Similarly, `C` ends up being bound to `struct let x = 2 end`.\n",
    "\n",
    "Although the functor `IncX` returns a module that is quite similar to its input\n",
    "module, that need not be the case. In fact, a functor can return any module it\n",
    "likes, perhaps something very different than its input structure:"
   ]
  },
  {
   "cell_type": "code",
   "execution_count": 8,
   "id": "338c277e",
   "metadata": {},
   "outputs": [
    {
     "data": {
      "text/plain": [
       "module AddX : functor (M : X) -> sig val add : int -> int end\n"
      ]
     },
     "execution_count": 8,
     "metadata": {},
     "output_type": "execute_result"
    }
   ],
   "source": [
    "module AddX (M : X) = struct\n",
    "  let add y = M.x + y\n",
    "end"
   ]
  },
  {
   "cell_type": "markdown",
   "id": "cad22662",
   "metadata": {},
   "source": [
    "Let's apply that functor to a module.  The module doesn't even have to\n",
    "be bound to a name; we can just write an anonymous structure:"
   ]
  },
  {
   "cell_type": "code",
   "execution_count": 9,
   "id": "363f58d0",
   "metadata": {},
   "outputs": [
    {
     "data": {
      "text/plain": [
       "module Add42 : sig val add : int -> int end\n"
      ]
     },
     "execution_count": 9,
     "metadata": {},
     "output_type": "execute_result"
    }
   ],
   "source": [
    "module Add42 = AddX (struct let x = 42 end)"
   ]
  },
  {
   "cell_type": "code",
   "execution_count": 10,
   "id": "a63dc016",
   "metadata": {},
   "outputs": [
    {
     "data": {
      "text/plain": [
       "- : int = 43\n"
      ]
     },
     "execution_count": 10,
     "metadata": {},
     "output_type": "execute_result"
    }
   ],
   "source": [
    "Add42.add 1"
   ]
  },
  {
   "cell_type": "markdown",
   "id": "2b028ed9",
   "metadata": {},
   "source": [
    "Note that the input module to `AddX` contains a value named `x`, but the output\n",
    "module from `AddX` does not:"
   ]
  },
  {
   "cell_type": "code",
   "execution_count": 11,
   "id": "5fcc0222",
   "metadata": {
    "tags": [
     "raises-exception"
    ]
   },
   "outputs": [
    {
     "ename": "error",
     "evalue": "compile_error",
     "output_type": "error",
     "traceback": [
      "File \"[11]\", line 1, characters 0-7:\n1 | Add42.x\n    ^^^^^^^\nError: Unbound value Add42.x\n"
     ]
    }
   ],
   "source": [
    "Add42.x"
   ]
  },
  {
   "cell_type": "markdown",
   "id": "2eb4ffe8",
   "metadata": {},
   "source": [
    "```{warning}\n",
    "It's tempting to think that a functor is the same as `extends` in Java, and that\n",
    "the functor therefore extends the input module with new definitions while\n",
    "keeping the old definitions around too. The example above shows that is not the\n",
    "case. A functor is essentially just a function, and that function can return\n",
    "whatever the programmer wants. In fact the output of the functor could be\n",
    "arbitrarily different than the input.\n",
    "```\n",
    "\n",
    "## Functor Syntax and Semantics\n",
    "\n",
    "In the functor syntax we've been using:\n",
    "\n",
    "```ocaml\n",
    "module F (M : S) = ...\n",
    "end\n",
    "```\n",
    "\n",
    "the type annotation `: S` and the parentheses around it, `(M : S)` are required.\n",
    "The reason why is that OCaml needs the type information about `S` to be provided\n",
    "in order to do a good job with type inference for `F` itself.\n",
    "\n",
    "Much like functions, functors can be written anonymously. The following two\n",
    "syntaxes for functors are equivalent:\n",
    "\n",
    "```ocaml\n",
    "module F (M : S) = ...\n",
    "\n",
    "module F = functor (M : S) -> ...\n",
    "```\n",
    "\n",
    "The second form uses the `functor` keyword to create an anonymous functor, like\n",
    "how the `fun` keyword creates an anonymous function.\n",
    "\n",
    "And functors can be parameterized on multiple structures:\n",
    "\n",
    "```ocaml\n",
    "module F (M1 : S1) ... (Mn : Sn) = ...\n",
    "```\n",
    "\n",
    "Of course, that's just syntactic sugar for a *higher-order functor* that takes\n",
    "a structure as input and returns an anonymous functor:\n",
    "\n",
    "```ocaml\n",
    "module F = functor (M1 : S1) -> ... -> functor (Mn : Sn) -> ...\n",
    "```\n",
    "\n",
    "If you want to specify the output type of a functor, the syntax is again\n",
    "similar to functions:\n",
    "\n",
    "```ocaml\n",
    "module F (M : Si) : So = ...\n",
    "```\n",
    "\n",
    "As usual, it's also possible to write the output type annotation on the module\n",
    "expression:\n",
    "\n",
    "```ocaml\n",
    "module F (M : Si) = (... : So)\n",
    "```\n",
    "\n",
    "To evaluate an application `module_expression1 (module_expression2)`, the first\n",
    "module expression is evaluated and must produce a functor `F`. The second module\n",
    "expression is then evaluated to a module `M`. The functor is then applied to the\n",
    "module. The functor will be producing a new module `N` as part of that\n",
    "application. That new module is evaluated as always, in order of definition from\n",
    "top to bottom, with the definitions of `M` available for use.\n",
    "\n",
    "## Functor Type Syntax and Semantics\n",
    "\n",
    "The simplest syntax for functor types is actually the same as for functions:\n",
    "\n",
    "```ocaml\n",
    "module_type -> module_type\n",
    "```\n",
    "\n",
    "For example, `X -> Add` below is a functor type, and it works for the `AddX`\n",
    "module we defined earlier in this section:"
   ]
  },
  {
   "cell_type": "code",
   "execution_count": 12,
   "id": "a78d96ed",
   "metadata": {},
   "outputs": [
    {
     "data": {
      "text/plain": [
       "module type Add = sig val add : int -> int end\n"
      ]
     },
     "execution_count": 12,
     "metadata": {},
     "output_type": "execute_result"
    },
    {
     "data": {
      "text/plain": [
       "module CheckAddX : X -> Add\n"
      ]
     },
     "execution_count": 12,
     "metadata": {},
     "output_type": "execute_result"
    }
   ],
   "source": [
    "module type Add = sig val add : int -> int end\n",
    "module CheckAddX : X -> Add = AddX"
   ]
  },
  {
   "cell_type": "markdown",
   "id": "296d091c",
   "metadata": {},
   "source": [
    "Functor type syntax becomes more complicated if the output module type is\n",
    "dependent upon the input module type. For example, suppose we wanted to create a\n",
    "functor that pairs up a value from one module with another value:"
   ]
  },
  {
   "cell_type": "code",
   "execution_count": 13,
   "id": "79fa00c5",
   "metadata": {},
   "outputs": [
    {
     "data": {
      "text/plain": [
       "module type T = sig type t val x : t end\n"
      ]
     },
     "execution_count": 13,
     "metadata": {},
     "output_type": "execute_result"
    },
    {
     "data": {
      "text/plain": [
       "module Pair1 : functor (M : T) -> sig val p : M.t * int end\n"
      ]
     },
     "execution_count": 13,
     "metadata": {},
     "output_type": "execute_result"
    }
   ],
   "source": [
    "module type T = sig\n",
    "  type t\n",
    "  val x : t\n",
    "end\n",
    "\n",
    "module Pair1 (M : T) = struct\n",
    "  let p = (M.x, 1)\n",
    "end"
   ]
  },
  {
   "cell_type": "markdown",
   "id": "39140b94",
   "metadata": {},
   "source": [
    "The type of `Pair1` turns out to be:\n",
    "\n",
    "```ocaml\n",
    "functor (M : T) -> sig val p : M.t * int end\n",
    "```\n",
    "\n",
    "So we could also write:"
   ]
  },
  {
   "cell_type": "code",
   "execution_count": 14,
   "id": "878bcb5a",
   "metadata": {},
   "outputs": [
    {
     "data": {
      "text/plain": [
       "module type P1 = functor (M : T) -> sig val p : M.t * int end\n"
      ]
     },
     "execution_count": 14,
     "metadata": {},
     "output_type": "execute_result"
    },
    {
     "data": {
      "text/plain": [
       "module Pair1 : P1\n"
      ]
     },
     "execution_count": 14,
     "metadata": {},
     "output_type": "execute_result"
    }
   ],
   "source": [
    "module type P1 = functor (M : T) -> sig val p : M.t * int end\n",
    "\n",
    "module Pair1 : P1 = functor (M : T) -> struct\n",
    "  let p = (M.x, 1)\n",
    "end"
   ]
  },
  {
   "cell_type": "markdown",
   "id": "a9a7c0a1",
   "metadata": {},
   "source": [
    "Module type `P1` is the type of a functor that takes an input module named `M`\n",
    "of module type `T`, and returns an output module whose module type is given by\n",
    "the signature `sig..end`. Inside the signature, the name `M` is in scope. That's\n",
    "why we can write `M.t` in it, thereby ensuring that the type of the first\n",
    "component of pair `p` is the type from the *specific* module `M` that is passed\n",
    "into `Pair1`, not any *other* module. For example, here are two different\n",
    "instantiations:"
   ]
  },
  {
   "cell_type": "code",
   "execution_count": 15,
   "id": "99768d3d",
   "metadata": {},
   "outputs": [
    {
     "data": {
      "text/plain": [
       "module P0 : sig val p : int * int end\n"
      ]
     },
     "execution_count": 15,
     "metadata": {},
     "output_type": "execute_result"
    },
    {
     "data": {
      "text/plain": [
       "module PA : sig val p : char * int end\n"
      ]
     },
     "execution_count": 15,
     "metadata": {},
     "output_type": "execute_result"
    }
   ],
   "source": [
    "module P0 = Pair1 (struct type t = int let x = 0 end)\n",
    "module PA = Pair1 (struct type t = char let x = 'a' end)"
   ]
  },
  {
   "cell_type": "markdown",
   "id": "c1b658ea",
   "metadata": {},
   "source": [
    "Note the difference between `int` and `char` in the resulting module types. It's\n",
    "important that the output module type of `Pair1` can distinguish those. And\n",
    "that's why `M` has to be nameable on the right-hand side of the arrow in `P1`.\n",
    "\n",
    "```{note}\n",
    "Functor types are an example of an advanced programming language feature called\n",
    "*dependent types*, with which the **type** of an output is determined by the\n",
    "**value** of an input. That's different than the normal case of a function,\n",
    "where it's the output **value** that's determined by the input value, and the\n",
    "output **type** is independent of the input value.\n",
    "\n",
    "Dependent types enable type systems to express much more about the correctness\n",
    "of a program, but type checking and inference for dependent types is much more\n",
    "challenging. Practical dependent type systems are an active area of research.\n",
    "Perhaps someday they will become popular in mainstream languages.\n",
    "```\n",
    "\n",
    "The module type of a functor's actual argument need not be identical to the\n",
    "formal declared module type of the argument; it's fine to be a subtype. For\n",
    "example, it's fine to apply `F` below to either `X` or `Z`. The extra item in\n",
    "`Z` won't cause any difficulty."
   ]
  },
  {
   "cell_type": "code",
   "execution_count": 16,
   "id": "35ca8812",
   "metadata": {},
   "outputs": [
    {
     "data": {
      "text/plain": [
       "module F : functor (M : sig val x : int end) -> sig val y : int end\n"
      ]
     },
     "execution_count": 16,
     "metadata": {},
     "output_type": "execute_result"
    },
    {
     "data": {
      "text/plain": [
       "module X : sig val x : int end\n"
      ]
     },
     "execution_count": 16,
     "metadata": {},
     "output_type": "execute_result"
    },
    {
     "data": {
      "text/plain": [
       "module Z : sig val x : int val z : int end\n"
      ]
     },
     "execution_count": 16,
     "metadata": {},
     "output_type": "execute_result"
    },
    {
     "data": {
      "text/plain": [
       "module FX : sig val y : int end\n"
      ]
     },
     "execution_count": 16,
     "metadata": {},
     "output_type": "execute_result"
    },
    {
     "data": {
      "text/plain": [
       "module FZ : sig val y : int end\n"
      ]
     },
     "execution_count": 16,
     "metadata": {},
     "output_type": "execute_result"
    }
   ],
   "source": [
    "module F (M : sig val x : int end) = struct let y = M.x end\n",
    "module X = struct let x = 0 end\n",
    "module Z = struct let x = 0;; let z = 0 end\n",
    "module FX = F (X)\n",
    "module FZ = F (Z)"
   ]
  },
  {
   "cell_type": "markdown",
   "id": "8a2890a3",
   "metadata": {},
   "source": [
    "## The `Map` Module\n",
    "\n",
    "{{ video_embed | replace(\"%%VID%%\", \"sCbUwQvNYJA\")}}\n",
    "\n",
    "The standard library's Map module implements a map (a binding from keys to\n",
    "values) using balanced binary trees. It uses functors in an important way. In\n",
    "this section, we study how to use it. You can see the\n",
    "[implementation of that module on GitHub][mapimplsrc] as well as its\n",
    "[interface][mapintsrc].\n",
    "\n",
    "[mapintsrc]: https://github.com/ocaml/ocaml/blob/trunk/stdlib/map.mli\n",
    "[mapimplsrc]: https://github.com/ocaml/ocaml/blob/trunk/stdlib/map.ml\n",
    "\n",
    "The Map module defines a functor `Make` that creates a structure implementing a\n",
    "map over a particular type of keys. That type is the input structure to `Make`.\n",
    "The type of that input structure is `Map.OrderedType`, which are types that\n",
    "support a `compare` operation:"
   ]
  },
  {
   "cell_type": "code",
   "execution_count": 17,
   "id": "6836ab46",
   "metadata": {},
   "outputs": [
    {
     "data": {
      "text/plain": [
       "module type OrderedType = sig type t val compare : t -> t -> int end\n"
      ]
     },
     "execution_count": 17,
     "metadata": {},
     "output_type": "execute_result"
    }
   ],
   "source": [
    "module type OrderedType = sig\n",
    "  type t\n",
    "  val compare : t -> t -> int\n",
    "end"
   ]
  },
  {
   "cell_type": "markdown",
   "id": "e884be9e",
   "metadata": {},
   "source": [
    "The Map module needs ordering, because balanced binary trees need to be able to\n",
    "compare keys to determine whether one is greater than another. The `compare`\n",
    "function's specification is the same as that for the comparison argument to\n",
    "`List.sort_uniq`, which we previously discussed:\n",
    "\n",
    "- The comparison should return `0` if two keys are equal.\n",
    "- The comparison should return a strictly negative number if the first key is\n",
    "  lesser than the second.\n",
    "- The comparison should return a strictly positive number if the first key is\n",
    "  greater than the second.\n",
    "\n",
    "````{note}\n",
    "Does that specification seem a little strange? Does it seem hard to remember\n",
    "when to return a negative vs. positive number? Why not define a variant instead?\n",
    "```ocaml\n",
    "type order = LT | EQ | GT\n",
    "val compare : t -> t -> order\n",
    "```\n",
    "Alas, historically many languages have used comparison functions with similar\n",
    "specifications, such as the C standard library's [`strcmp` function][strcmp].\n",
    "When comparing two integers, it does make the comparison easy: just perform a\n",
    "subtraction. It's not necessarily so easy for other data types.\n",
    "\n",
    "[strcmp]: http://www.gnu.org/software/libc/manual/html_node/String_002fArray-Comparison.html\n",
    "````\n",
    "\n",
    "The output of `Map.Make` supports all the usual operations we would expect from\n",
    "a dictionary:\n",
    "\n",
    "```ocaml\n",
    "module type S = sig\n",
    "  type key\n",
    "  type 'a t\n",
    "  val empty: 'a t\n",
    "  val mem: key -> 'a t -> bool\n",
    "  val add: key -> 'a -> 'a t -> 'a t\n",
    "  val find: key -> 'a t -> 'a\n",
    "  ...\n",
    "end\n",
    "```\n",
    "\n",
    "The type variable `'a` is the type of values in the map.  So any particular\n",
    "map module created by `Map.Make` can handle only one type of key, but is not\n",
    "restricted to any particular type of value.\n",
    "\n",
    "### An Example Map\n",
    "\n",
    "Here's an example of using the `Map.Make` functor:"
   ]
  },
  {
   "cell_type": "code",
   "execution_count": 18,
   "id": "819ac366",
   "metadata": {
    "tags": [
     "hide-output"
    ]
   },
   "outputs": [
    {
     "data": {
      "text/plain": [
       "module IntMap :\n",
       "  sig\n",
       "    type key = Int.t\n",
       "    type 'a t = 'a Map.Make(Int).t\n",
       "    val empty : 'a t\n",
       "    val is_empty : 'a t -> bool\n",
       "    val mem : key -> 'a t -> bool\n",
       "    val add : key -> 'a -> 'a t -> 'a t\n",
       "    val update : key -> ('a option -> 'a option) -> 'a t -> 'a t\n",
       "    val singleton : key -> 'a -> 'a t\n",
       "    val remove : key -> 'a t -> 'a t\n",
       "    val merge :\n",
       "      (key -> 'a option -> 'b option -> 'c option) -> 'a t -> 'b t -> 'c t\n",
       "    val union : (key -> 'a -> 'a -> 'a option) -> 'a t -> 'a t -> 'a t\n",
       "    val compare : ('a -> 'a -> int) -> 'a t -> 'a t -> int\n",
       "    val equal : ('a -> 'a -> bool) -> 'a t -> 'a t -> bool\n",
       "    val iter : (key -> 'a -> unit) -> 'a t -> unit\n",
       "    val fold : (key -> 'a -> 'b -> 'b) -> 'a t -> 'b -> 'b\n",
       "    val for_all : (key -> 'a -> bool) -> 'a t -> bool\n",
       "    val exists : (key -> 'a -> bool) -> 'a t -> bool\n",
       "    val filter : (key -> 'a -> bool) -> 'a t -> 'a t\n",
       "    val filter_map : (key -> 'a -> 'b option) -> 'a t -> 'b t\n",
       "    val partition : (key -> 'a -> bool) -> 'a t -> 'a t * 'a t\n",
       "    val cardinal : 'a t -> int\n",
       "    val bindings : 'a t -> (key * 'a) list\n",
       "    val min_binding : 'a t -> key * 'a\n",
       "    val min_binding_opt : 'a t -> (key * 'a) option\n",
       "    val max_binding : 'a t -> key * 'a\n",
       "    val max_binding_opt : 'a t -> (key * 'a) option\n",
       "    val choose : 'a t -> key * 'a\n",
       "    val choose_opt : 'a t -> (key * 'a) option\n",
       "    val split : key -> 'a t -> 'a t * 'a option * 'a t\n",
       "    val find : key -> 'a t -> 'a\n",
       "    val find_opt : key -> 'a t -> 'a option\n",
       "    val find_first : (key -> bool) -> 'a t -> key * 'a\n",
       "    val find_first_opt : (key -> bool) -> 'a t -> (key * 'a) option\n",
       "    val find_last : (key -> bool) -> 'a t -> key * 'a\n",
       "    val find_last_opt : (key -> bool) -> 'a t -> (key * 'a) option\n",
       "    val map : ('a -> 'b) -> 'a t -> 'b t\n",
       "    val mapi : (key -> 'a -> 'b) -> 'a t -> 'b t\n",
       "    val to_seq : 'a t -> (key * 'a) Seq.t\n",
       "    val to_rev_seq : 'a t -> (key * 'a) Seq.t\n",
       "    val to_seq_from : key -> 'a t -> (key * 'a) Seq.t\n",
       "    val add_seq : (key * 'a) Seq.t -> 'a t -> 'a t\n",
       "    val of_seq : (key * 'a) Seq.t -> 'a t\n",
       "  end\n"
      ]
     },
     "execution_count": 18,
     "metadata": {},
     "output_type": "execute_result"
    }
   ],
   "source": [
    "module IntMap = Map.Make(Int)"
   ]
  },
  {
   "cell_type": "markdown",
   "id": "6013bd6f",
   "metadata": {},
   "source": [
    "If you show that output, you'll see the long module type of `IntMap`. The `Int`\n",
    "module is part of the standard library. Conveniently, it already defines the two\n",
    "items required by `OrderedType`, which are `t` and `compare`, with appropriate\n",
    "behaviors. The standard library also already defines modules for the other\n",
    "primitive types (`String`, etc.) that make it convenient to use any primitive\n",
    "type as a key.\n",
    "\n",
    "Now let's try out that map by mapping an `int` to a `string`:"
   ]
  },
  {
   "cell_type": "code",
   "execution_count": 19,
   "id": "b55c7d85",
   "metadata": {},
   "outputs": [
    {
     "data": {
      "text/plain": [
       "val m1 : string IntMap.t = <abstr>\n"
      ]
     },
     "execution_count": 19,
     "metadata": {},
     "output_type": "execute_result"
    }
   ],
   "source": [
    "open IntMap;;\n",
    "let m1 = add 1 \"one\" empty"
   ]
  },
  {
   "cell_type": "code",
   "execution_count": 20,
   "id": "a989cda2",
   "metadata": {},
   "outputs": [
    {
     "data": {
      "text/plain": [
       "- : string = \"one\"\n"
      ]
     },
     "execution_count": 20,
     "metadata": {},
     "output_type": "execute_result"
    }
   ],
   "source": [
    "find 1 m1"
   ]
  },
  {
   "cell_type": "code",
   "execution_count": 21,
   "id": "d7bf1ea0",
   "metadata": {},
   "outputs": [
    {
     "data": {
      "text/plain": [
       "- : bool = false\n"
      ]
     },
     "execution_count": 21,
     "metadata": {},
     "output_type": "execute_result"
    }
   ],
   "source": [
    "mem 42 m1"
   ]
  },
  {
   "cell_type": "code",
   "execution_count": 22,
   "id": "ea3de963",
   "metadata": {
    "tags": [
     "raises-exception"
    ]
   },
   "outputs": [
    {
     "ename": "error",
     "evalue": "runtime_error",
     "output_type": "error",
     "traceback": [
      "\u001b[31mException: Not_found.\nRaised at Stdlib__Map.Make.find in file \"map.ml\", line 137, characters 10-25\nCalled from Stdlib__Fun.protect in file \"fun.ml\", line 33, characters 8-15\nRe-raised at Stdlib__Fun.protect in file \"fun.ml\", line 38, characters 6-52\nCalled from Topeval.load_lambda in file \"toplevel/byte/topeval.ml\", line 89, characters 4-150\n\u001b[0m"
     ]
    }
   ],
   "source": [
    "find 42 m1"
   ]
  },
  {
   "cell_type": "code",
   "execution_count": 23,
   "id": "ded718a0",
   "metadata": {},
   "outputs": [
    {
     "data": {
      "text/plain": [
       "- : (IntMap.key * string) list = [(1, \"one\")]\n"
      ]
     },
     "execution_count": 23,
     "metadata": {},
     "output_type": "execute_result"
    }
   ],
   "source": [
    "bindings m1"
   ]
  },
  {
   "cell_type": "markdown",
   "id": "b4c11619",
   "metadata": {},
   "source": [
    "The same `IntMap` module allows us to map an `int` to a `float`:"
   ]
  },
  {
   "cell_type": "code",
   "execution_count": 24,
   "id": "40b281e1",
   "metadata": {},
   "outputs": [
    {
     "data": {
      "text/plain": [
       "val m2 : float IntMap.t = <abstr>\n"
      ]
     },
     "execution_count": 24,
     "metadata": {},
     "output_type": "execute_result"
    }
   ],
   "source": [
    "let m2 = add 1 1. empty"
   ]
  },
  {
   "cell_type": "code",
   "execution_count": 25,
   "id": "865e2657",
   "metadata": {},
   "outputs": [
    {
     "data": {
      "text/plain": [
       "- : (IntMap.key * float) list = [(1, 1.)]\n"
      ]
     },
     "execution_count": 25,
     "metadata": {},
     "output_type": "execute_result"
    }
   ],
   "source": [
    "bindings m2"
   ]
  },
  {
   "cell_type": "markdown",
   "id": "8d01bd09",
   "metadata": {},
   "source": [
    "But the keys must be `int`, not any other type:"
   ]
  },
  {
   "cell_type": "code",
   "execution_count": 26,
   "id": "2da19cc8",
   "metadata": {
    "tags": [
     "raises-exception"
    ]
   },
   "outputs": [
    {
     "ename": "error",
     "evalue": "compile_error",
     "output_type": "error",
     "traceback": [
      "File \"[26]\", line 1, characters 13-17:\n1 | let m3 = add true \"one\" empty\n                 ^^^^\nError: This expression has type bool but an expression was expected of type\n         IntMap.key = int\n"
     ]
    }
   ],
   "source": [
    "let m3 = add true \"one\" empty"
   ]
  },
  {
   "cell_type": "markdown",
   "id": "eb5aef6e",
   "metadata": {},
   "source": [
    "That's because the `IntMap` module was specifically created for keys that are\n",
    "integers and ordered accordingly. Again, order is crucial, because the\n",
    "underlying data structure is a binary search tree, which requires key\n",
    "comparisons to figure out where in the tree to store a key. You can even see\n",
    "that in the [standard library source code (v4.12)][mapv412], of which the\n",
    "following is a lightly-edited extract:\n",
    "\n",
    "[mapv412]: https://github.com/ocaml/ocaml/blob/4.12/stdlib/map.ml\n",
    "\n",
    "```ocaml\n",
    "module Make (Ord : OrderedType) = struct\n",
    "  type key = Ord.t\n",
    "\n",
    "  type 'a t =\n",
    "    | Empty\n",
    "    | Node of {l : 'a t; v : key; d : 'a; r : 'a t; h : int}\n",
    "      (** left subtree, key, value/data, right subtree, height of node *)\n",
    "\n",
    "  let empty = Empty\n",
    "\n",
    "  let rec mem x = function\n",
    "    | Empty -> false\n",
    "    | Node {l, v, r} ->\n",
    "        let c = Ord.compare x v in\n",
    "        c = 0 || mem x (if c < 0 then l else r)\n",
    "  ...\n",
    "end\n",
    "```\n",
    "\n",
    "The `key` type is defined to be a synonym for the type `t` inside `Ord`, so\n",
    "`key` values are comparable using `Ord.compare`.  The `mem` function uses\n",
    "that to compare keys and decide whether to recurse on the left subtree or right\n",
    "subtree.\n",
    "\n",
    "Note how the implementor of `Map` had a tricky problem to solve: balanced binary\n",
    "search trees require a way to compare keys, but the implementor can't know in\n",
    "advance all the different types of keys that a client of the data structure will\n",
    "want to use. And each type of key might need its own comparison function.\n",
    "Although `Stdlib.compare` *can* be used to compare any two values of the same\n",
    "type, the result it returns isn't necessarily what a client will want. For\n",
    "example, it's not guaranteed to sort names in the way we wanted above.\n",
    "\n",
    "So the implementor of `Map` used a functor to solve their problem. They\n",
    "parameterized on a module that bundles together the type of keys with a function\n",
    "that can be used to compare them. It's the client's responsibility to implement\n",
    "that module.\n",
    "\n",
    "The Java Collections Framework solves a similar problem in the TreeMap class,\n",
    "which has a [constructor that takes a Comparator][treemapcomparator]. There, the\n",
    "client has the responsibility of implementing a class for comparisons, rather\n",
    "than a structure. Though the language features are different, the idea is the\n",
    "same.\n",
    "\n",
    "[treemapcomparator]: https://docs.oracle.com/javase/8/docs/api/java/util/TreeMap.html#TreeMap-java.util.Comparator-\n",
    "\n",
    "### Maps with Custom Key Types\n",
    "\n",
    "When the type of a key becomes complicated, we might want to write our own\n",
    "custom comparison function. For example, suppose we want a map in which keys are\n",
    "records representing names, and in which names are sorted alphabetically by last\n",
    "name then by first name. In the code below, we provide a module `Name` that can\n",
    "compare records that way:"
   ]
  },
  {
   "cell_type": "code",
   "execution_count": 27,
   "id": "a27e3dc8",
   "metadata": {},
   "outputs": [
    {
     "data": {
      "text/plain": [
       "type name = { first : string; last : string; }\n"
      ]
     },
     "execution_count": 27,
     "metadata": {},
     "output_type": "execute_result"
    },
    {
     "data": {
      "text/plain": [
       "module Name : sig type t = name val compare : name -> name -> int end\n"
      ]
     },
     "execution_count": 27,
     "metadata": {},
     "output_type": "execute_result"
    }
   ],
   "source": [
    "type name = {first : string; last : string}\n",
    "\n",
    "module Name = struct\n",
    "  type t = name\n",
    "  let compare { first = first1; last = last1 } { first = first2; last = last2 }\n",
    "      =\n",
    "    match String.compare last1 last2 with\n",
    "    | 0 -> String.compare first1 first2\n",
    "    | c -> c\n",
    "end"
   ]
  },
  {
   "cell_type": "markdown",
   "id": "28090439",
   "metadata": {},
   "source": [
    "The `Name` module can be used as input to `Map.Make` because it satisfies the\n",
    "`Map.OrderedType` signature:"
   ]
  },
  {
   "cell_type": "code",
   "execution_count": 28,
   "id": "f54263e1",
   "metadata": {
    "tags": [
     "hide-output"
    ]
   },
   "outputs": [
    {
     "data": {
      "text/plain": [
       "module NameMap :\n",
       "  sig\n",
       "    type key = Name.t\n",
       "    type 'a t = 'a Map.Make(Name).t\n",
       "    val empty : 'a t\n",
       "    val is_empty : 'a t -> bool\n",
       "    val mem : key -> 'a t -> bool\n",
       "    val add : key -> 'a -> 'a t -> 'a t\n",
       "    val update : key -> ('a option -> 'a option) -> 'a t -> 'a t\n",
       "    val singleton : key -> 'a -> 'a t\n",
       "    val remove : key -> 'a t -> 'a t\n",
       "    val merge :\n",
       "      (key -> 'a option -> 'b option -> 'c option) -> 'a t -> 'b t -> 'c t\n",
       "    val union : (key -> 'a -> 'a -> 'a option) -> 'a t -> 'a t -> 'a t\n",
       "    val compare : ('a -> 'a -> int) -> 'a t -> 'a t -> int\n",
       "    val equal : ('a -> 'a -> bool) -> 'a t -> 'a t -> bool\n",
       "    val iter : (key -> 'a -> unit) -> 'a t -> unit\n",
       "    val fold : (key -> 'a -> 'b -> 'b) -> 'a t -> 'b -> 'b\n",
       "    val for_all : (key -> 'a -> bool) -> 'a t -> bool\n",
       "    val exists : (key -> 'a -> bool) -> 'a t -> bool\n",
       "    val filter : (key -> 'a -> bool) -> 'a t -> 'a t\n",
       "    val filter_map : (key -> 'a -> 'b option) -> 'a t -> 'b t\n",
       "    val partition : (key -> 'a -> bool) -> 'a t -> 'a t * 'a t\n",
       "    val cardinal : 'a t -> int\n",
       "    val bindings : 'a t -> (key * 'a) list\n",
       "    val min_binding : 'a t -> key * 'a\n",
       "    val min_binding_opt : 'a t -> (key * 'a) option\n",
       "    val max_binding : 'a t -> key * 'a\n",
       "    val max_binding_opt : 'a t -> (key * 'a) option\n",
       "    val choose : 'a t -> key * 'a\n",
       "    val choose_opt : 'a t -> (key * 'a) option\n",
       "    val split : key -> 'a t -> 'a t * 'a option * 'a t\n",
       "    val find : key -> 'a t -> 'a\n",
       "    val find_opt : key -> 'a t -> 'a option\n",
       "    val find_first : (key -> bool) -> 'a t -> key * 'a\n",
       "    val find_first_opt : (key -> bool) -> 'a t -> (key * 'a) option\n",
       "    val find_last : (key -> bool) -> 'a t -> key * 'a\n",
       "    val find_last_opt : (key -> bool) -> 'a t -> (key * 'a) option\n",
       "    val map : ('a -> 'b) -> 'a t -> 'b t\n",
       "    val mapi : (key -> 'a -> 'b) -> 'a t -> 'b t\n",
       "    val to_seq : 'a t -> (key * 'a) Seq.t\n",
       "    val to_rev_seq : 'a t -> (key * 'a) Seq.t\n",
       "    val to_seq_from : key -> 'a t -> (key * 'a) Seq.t\n",
       "    val add_seq : (key * 'a) Seq.t -> 'a t -> 'a t\n",
       "    val of_seq : (key * 'a) Seq.t -> 'a t\n",
       "  end\n"
      ]
     },
     "execution_count": 28,
     "metadata": {},
     "output_type": "execute_result"
    }
   ],
   "source": [
    "module NameMap = Map.Make (Name)"
   ]
  },
  {
   "cell_type": "markdown",
   "id": "5c172387",
   "metadata": {},
   "source": [
    "Now we could use that map to associate names with birth years:"
   ]
  },
  {
   "cell_type": "code",
   "execution_count": 29,
   "id": "89ed9c90",
   "metadata": {},
   "outputs": [
    {
     "data": {
      "text/plain": [
       "val k1 : name = {first = \"Kourtney\"; last = \"Kardashian\"}\n"
      ]
     },
     "execution_count": 29,
     "metadata": {},
     "output_type": "execute_result"
    },
    {
     "data": {
      "text/plain": [
       "val k2 : name = {first = \"Kimberly\"; last = \"Kardashian\"}\n"
      ]
     },
     "execution_count": 29,
     "metadata": {},
     "output_type": "execute_result"
    },
    {
     "data": {
      "text/plain": [
       "val k3 : name = {first = \"Khloe\"; last = \"Kardashian\"}\n"
      ]
     },
     "execution_count": 29,
     "metadata": {},
     "output_type": "execute_result"
    },
    {
     "data": {
      "text/plain": [
       "val k4 : name = {first = \"Kanye\"; last = \"West\"}\n"
      ]
     },
     "execution_count": 29,
     "metadata": {},
     "output_type": "execute_result"
    },
    {
     "data": {
      "text/plain": [
       "val nm : int NameMap.t = <abstr>\n"
      ]
     },
     "execution_count": 29,
     "metadata": {},
     "output_type": "execute_result"
    },
    {
     "data": {
      "text/plain": [
       "val lst : (NameMap.key * int) list =\n",
       "  [({first = \"Khloe\"; last = \"Kardashian\"}, 1984);\n",
       "   ({first = \"Kimberly\"; last = \"Kardashian\"}, 1980);\n",
       "   ({first = \"Kourtney\"; last = \"Kardashian\"}, 1979);\n",
       "   ({first = \"Kanye\"; last = \"West\"}, 1977)]\n"
      ]
     },
     "execution_count": 29,
     "metadata": {},
     "output_type": "execute_result"
    }
   ],
   "source": [
    "let k1 = {last = \"Kardashian\"; first = \"Kourtney\"}\n",
    "let k2 = {last = \"Kardashian\"; first = \"Kimberly\"}\n",
    "let k3 = {last = \"Kardashian\"; first = \"Khloe\"}\n",
    "let k4 = {last = \"West\"; first = \"Kanye\"}\n",
    "\n",
    "let nm =\n",
    "  NameMap.(empty |> add k1 1979 |> add k2 1980 |> add k3 1984 |> add k4 1977)\n",
    "\n",
    "let lst = NameMap.bindings nm"
   ]
  },
  {
   "cell_type": "markdown",
   "id": "842ba479",
   "metadata": {},
   "source": [
    "Note how the order of keys in that list is not the same as the order in which we\n",
    "added them. The list is sorted according to the `Name.compare` function we\n",
    "wrote. Several of the other functions in the `Map.S` signature will also process\n",
    "map bindings in that sorted order&mdash;for example, `map`, `fold`, and `iter`.\n",
    "\n",
    "### How `Map` Uses Module Type Constraints\n",
    "\n",
    "In the standard library's `map.mli` interface, the specification for\n",
    "`Map.Make` is:\n",
    "\n",
    "```ocaml\n",
    "module Make (Ord : OrderedType) : S with type key = Ord.t\n",
    "```\n",
    "\n",
    "The `with` constraint there is crucial. Recall that type constraints specialize\n",
    "a module type. Here, `S with type key = Ord.t` specializes `S` to expose the\n",
    "equality of `S.key` and `Ord.t`. In other words, the type of keys is the ordered\n",
    "type.\n",
    "\n",
    "You can see the effect of that sharing constraint by looking at the module type\n",
    "of our `IntMap` example from before. The sharing constraint is what caused the\n",
    "`= Int.t` to be present:\n",
    "\n",
    "```ocaml\n",
    "module IntMap : sig\n",
    "  type key = Int.t\n",
    "  ...\n",
    "end\n",
    "```\n",
    "\n",
    "And the `Int` module contains this line:\n",
    "\n",
    "```ocaml\n",
    "type t = int\n",
    "```\n",
    "\n",
    "So `IntMap.key = Int.t = int`, which is exactly why we're allowed to pass\n",
    "an `int` to the `add` and `mem` functions of `IntMap`.\n",
    "\n",
    "Without the type constraint, type `key` would have remained abstract. We can\n",
    "simulate that by adding a module type annotation of `Map.S`, thereby\n",
    "resealing the module at that type without exposing the equality:"
   ]
  },
  {
   "cell_type": "code",
   "execution_count": 30,
   "id": "072aa81e",
   "metadata": {},
   "outputs": [
    {
     "data": {
      "text/plain": [
       "module UnusableMap : Map.S\n"
      ]
     },
     "execution_count": 30,
     "metadata": {},
     "output_type": "execute_result"
    }
   ],
   "source": [
    "module UnusableMap = (IntMap : Map.S);;"
   ]
  },
  {
   "cell_type": "markdown",
   "id": "e5753204",
   "metadata": {},
   "source": [
    "Now it's impossible to add a binding to the map:"
   ]
  },
  {
   "cell_type": "code",
   "execution_count": 31,
   "id": "865f96a2",
   "metadata": {
    "tags": [
     "raises-exception"
    ]
   },
   "outputs": [
    {
     "ename": "error",
     "evalue": "compile_error",
     "output_type": "error",
     "traceback": [
      "File \"[31]\", line 1, characters 34-35:\n1 | let m = UnusableMap.(empty |> add 0 \"zero\")\n                                      ^\nError: This expression has type int but an expression was expected of type\n         UnusableMap.key\n"
     ]
    }
   ],
   "source": [
    "let m = UnusableMap.(empty |> add 0 \"zero\")"
   ]
  },
  {
   "cell_type": "markdown",
   "id": "562aba19",
   "metadata": {},
   "source": [
    "This kind of use case is why module type constraints are quite important in\n",
    "effective programming with the OCaml module system. Often it is necessary to\n",
    "specialize the output type of a functor to show a relationship between a type in\n",
    "it and a type in one of the functor's inputs. Thinking through exactly what\n",
    "constraint is necessary can be challenging, though!\n",
    "\n",
    "## Using Functors\n",
    "\n",
    "With `Map` we saw one use case for functors: producing a data structure that was\n",
    "parameterized on a client-provided ordering. Here are two more use cases.\n",
    "\n",
    "### Test Suites\n",
    "\n",
    "Here are two implementations of a stack:"
   ]
  },
  {
   "cell_type": "code",
   "execution_count": 32,
   "id": "cbc5541c",
   "metadata": {
    "tags": [
     "hide-output"
    ]
   },
   "outputs": [
    {
     "data": {
      "text/plain": [
       "exception Empty\n"
      ]
     },
     "execution_count": 32,
     "metadata": {},
     "output_type": "execute_result"
    },
    {
     "data": {
      "text/plain": [
       "module type Stack =\n",
       "  sig\n",
       "    type 'a t\n",
       "    val empty : 'a t\n",
       "    val push : 'a -> 'a t -> 'a t\n",
       "    val peek : 'a t -> 'a\n",
       "    val pop : 'a t -> 'a t\n",
       "  end\n"
      ]
     },
     "execution_count": 32,
     "metadata": {},
     "output_type": "execute_result"
    },
    {
     "data": {
      "text/plain": [
       "module ListStack :\n",
       "  sig\n",
       "    type 'a t = 'a list\n",
       "    val empty : 'a list\n",
       "    val push : 'a -> 'a list -> 'a list\n",
       "    val peek : 'a list -> 'a\n",
       "    val pop : 'a list -> 'a list\n",
       "  end\n"
      ]
     },
     "execution_count": 32,
     "metadata": {},
     "output_type": "execute_result"
    },
    {
     "data": {
      "text/plain": [
       "module VariantStack :\n",
       "  sig\n",
       "    type 'a t = E | S of 'a * 'a t\n",
       "    val empty : 'a t\n",
       "    val push : 'a -> 'a t -> 'a t\n",
       "    val peek : 'a t -> 'a\n",
       "    val pop : 'a t -> 'a t\n",
       "  end\n"
      ]
     },
     "execution_count": 32,
     "metadata": {},
     "output_type": "execute_result"
    }
   ],
   "source": [
    "exception Empty\n",
    "\n",
    "module type Stack = sig\n",
    "  type 'a t\n",
    "  val empty : 'a t\n",
    "  val push : 'a -> 'a t -> 'a t\n",
    "  val peek : 'a t -> 'a\n",
    "  val pop : 'a t -> 'a t\n",
    "end\n",
    "\n",
    "module ListStack = struct\n",
    "  type 'a t = 'a list\n",
    "  let empty = []\n",
    "  let push = List.cons\n",
    "  let peek = function [] -> raise Empty | x :: _ -> x\n",
    "  let pop = function [] -> raise Empty | _ :: s -> s\n",
    "end\n",
    "\n",
    "module VariantStack = struct\n",
    "  type 'a t = E | S of 'a * 'a t\n",
    "  let empty = E\n",
    "  let push x s = S (x, s)\n",
    "  let peek = function E -> raise Empty | S (x, _) -> x\n",
    "  let pop = function E -> raise Empty | S (_, s) -> s\n",
    "end"
   ]
  },
  {
   "cell_type": "markdown",
   "id": "f9ca905e",
   "metadata": {},
   "source": [
    "Suppose we wanted to write an OUnit test for `ListStack`:"
   ]
  },
  {
   "cell_type": "code",
   "execution_count": 33,
   "id": "aceb7beb",
   "metadata": {
    "tags": [
     "remove-cell"
    ]
   },
   "outputs": [
    {
     "name": "stdout",
     "output_type": "stream",
     "text": [
      "- : unit = ()\n",
      "Findlib has been successfully loaded. Additional directives:\n",
      "  #require \"package\";;      to load a package\n",
      "  #list;;                   to list the available packages\n",
      "  #camlp4o;;                to load camlp4 (standard syntax)\n",
      "  #camlp4r;;                to load camlp4 (revised syntax)\n",
      "  #predicates \"p,q,...\";;   to set these predicates\n",
      "  Topfind.reset();;         to force that packages will be reloaded\n",
      "  #thread;;                 to enable threads\n",
      "\n",
      "- : unit = ()\n",
      "No such package: ounit2\n"
     ]
    },
    {
     "ename": "error",
     "evalue": "compile_error",
     "output_type": "error",
     "traceback": [
      "File \"[33]\", line 3, characters 5-11:\n3 | open OUnit2;;\n         ^^^^^^\nError: Unbound module OUnit2\nHint: Did you mean Unit?\n"
     ]
    }
   ],
   "source": [
    "#use \"topfind\";;\n",
    "#require \"ounit2\";;\n",
    "open OUnit2;;"
   ]
  },
  {
   "cell_type": "code",
   "execution_count": 34,
   "id": "45de09b4",
   "metadata": {
    "tags": [
     "remove-output"
    ]
   },
   "outputs": [
    {
     "ename": "error",
     "evalue": "compile_error",
     "output_type": "error",
     "traceback": [
      "File \"[34]\", line 1, characters 37-40:\n1 | let test = \"peek (push x empty) = x\" >:: fun _ ->\n                                         ^^^\nError: Unbound value >::\n"
     ]
    }
   ],
   "source": [
    "let test = \"peek (push x empty) = x\" >:: fun _ ->\n",
    "  assert_equal 1 ListStack.(empty |> push 1 |> peek)"
   ]
  },
  {
   "cell_type": "markdown",
   "id": "edda413b",
   "metadata": {},
   "source": [
    "Unfortunately, to test a `VariantStack`, we'd have to duplicate that code:"
   ]
  },
  {
   "cell_type": "code",
   "execution_count": 35,
   "id": "503d4820",
   "metadata": {
    "tags": [
     "remove-output"
    ]
   },
   "outputs": [
    {
     "ename": "error",
     "evalue": "compile_error",
     "output_type": "error",
     "traceback": [
      "File \"[35]\", line 1, characters 38-41:\n1 | let test' = \"peek (push x empty) = x\" >:: fun _ ->\n                                          ^^^\nError: Unbound value >::\n"
     ]
    }
   ],
   "source": [
    "let test' = \"peek (push x empty) = x\" >:: fun _ ->\n",
    "  assert_equal 1 VariantStack.(empty |> push 1 |> peek)"
   ]
  },
  {
   "cell_type": "markdown",
   "id": "1e696530",
   "metadata": {},
   "source": [
    "And if we had other stack implementations, we'd have to duplicate the test for\n",
    "them, too. That's not so horrible to contemplate if it's just one test case for\n",
    "a couple implementations, but if it's hundreds of tests for even a couple\n",
    "implementations, that's just too much duplication to be good software\n",
    "engineering.\n",
    "\n",
    "Functors offer a better solution. We can write a functor that is parameterized\n",
    "on the stack implementation, and produces the test for that implementation:"
   ]
  },
  {
   "cell_type": "code",
   "execution_count": 36,
   "id": "a0c40df1",
   "metadata": {
    "tags": [
     "remove-output"
    ]
   },
   "outputs": [
    {
     "ename": "error",
     "evalue": "compile_error",
     "output_type": "error",
     "traceback": [
      "File \"[36]\", line 3, characters 30-33:\n3 |     \"peek (push x empty) = x\" >:: fun _ ->\n                                  ^^^\nError: Unbound value >::\n"
     ]
    }
   ],
   "source": [
    "module StackTester (S : Stack) = struct\n",
    "  let tests = [\n",
    "    \"peek (push x empty) = x\" >:: fun _ ->\n",
    "      assert_equal 1 S.(empty |> push 1 |> peek)\n",
    "  ]\n",
    "end\n",
    "\n",
    "module ListStackTester = StackTester (ListStack)\n",
    "module VariantStackTester = StackTester (VariantStack)\n",
    "\n",
    "let all_tests = List.flatten [\n",
    "  ListStackTester.tests;\n",
    "  VariantStackTester.tests\n",
    "]"
   ]
  },
  {
   "cell_type": "markdown",
   "id": "578b43bb",
   "metadata": {},
   "source": [
    "Now whenever we invent a new test we add it to `StackTester`, and it\n",
    "automatically gets run on both stack implementations. Nice!\n",
    "\n",
    "There is still some objectionable code duplication, though, in that we\n",
    "have to write two lines of code per implementation.  We can eliminate\n",
    "that duplication through the use of first-class modules:"
   ]
  },
  {
   "cell_type": "code",
   "execution_count": 37,
   "id": "4a69c264",
   "metadata": {
    "tags": [
     "remove-output"
    ]
   },
   "outputs": [
    {
     "data": {
      "text/plain": [
       "val stacks : (module Stack) list = [<module>; <module>]\n"
      ]
     },
     "execution_count": 37,
     "metadata": {},
     "output_type": "execute_result"
    },
    {
     "ename": "error",
     "evalue": "compile_error",
     "output_type": "error",
     "traceback": [
      "File \"[37]\", line 6, characters 19-30:\n6 |     let module T = StackTester (S) in\n                       ^^^^^^^^^^^\nError: Unbound module StackTester\n"
     ]
    }
   ],
   "source": [
    "let stacks = [ (module ListStack : Stack); (module VariantStack) ]\n",
    "\n",
    "let all_tests =\n",
    "  let tests m =\n",
    "    let module S = (val m : Stack) in\n",
    "    let module T = StackTester (S) in\n",
    "    T.tests\n",
    "  in\n",
    "  let open List in\n",
    "  stacks |> map tests |> flatten"
   ]
  },
  {
   "cell_type": "markdown",
   "id": "5b015a18",
   "metadata": {},
   "source": [
    "Now it suffices just to add the newest stack implementation to the `stacks`\n",
    "list. Nicer!\n",
    "\n",
    "### Extending Multiple Modules\n",
    "\n",
    "Earlier, we tried to add a function `of_list` to both `ListSet` and\n",
    "`UniqListSet` without having any duplicated code, but we didn't totally succeed.\n",
    "Now let's really do it right.\n",
    "\n",
    "The problem we had earlier was that we needed to parameterize the implementation\n",
    "of `of_list` on the `add` function and `empty` value in the set module. We can\n",
    "accomplish that parameterization with a functor:"
   ]
  },
  {
   "cell_type": "code",
   "execution_count": 38,
   "id": "33cf7f8c",
   "metadata": {
    "tags": [
     "remove-output"
    ]
   },
   "outputs": [
    {
     "data": {
      "text/plain": [
       "module type Set =\n",
       "  sig\n",
       "    type 'a t\n",
       "    val empty : 'a t\n",
       "    val mem : 'a -> 'a t -> bool\n",
       "    val add : 'a -> 'a t -> 'a t\n",
       "    val elements : 'a t -> 'a list\n",
       "  end\n"
      ]
     },
     "execution_count": 38,
     "metadata": {},
     "output_type": "execute_result"
    },
    {
     "data": {
      "text/plain": [
       "module SetOfList :\n",
       "  functor (S : Set) -> sig val of_list : 'a list -> 'a S.t end\n"
      ]
     },
     "execution_count": 38,
     "metadata": {},
     "output_type": "execute_result"
    }
   ],
   "source": [
    "module type Set = sig\n",
    "  type 'a t\n",
    "  val empty : 'a t\n",
    "  val mem : 'a -> 'a t -> bool\n",
    "  val add : 'a -> 'a t -> 'a t\n",
    "  val elements : 'a t -> 'a list\n",
    "end\n",
    "\n",
    "module SetOfList (S : Set) = struct\n",
    "  let of_list lst = List.fold_right S.add lst S.empty\n",
    "end"
   ]
  },
  {
   "cell_type": "markdown",
   "id": "7ad4e69d",
   "metadata": {},
   "source": [
    "Notice how the functor, in its body, uses `S.add`. It takes the implementation\n",
    "of `add` from `S` and uses it to implement `of_list` (and the same for `empty`),\n",
    "thus solving the exact problem we had before when we tried to use includes.\n",
    "\n",
    "When we apply `SetOfList` to our set implementations, we get modules\n",
    "containing an `of_list` function for each implementation:"
   ]
  },
  {
   "cell_type": "code",
   "execution_count": 39,
   "id": "907a57c0",
   "metadata": {
    "tags": [
     "remove-output"
    ]
   },
   "outputs": [
    {
     "data": {
      "text/plain": [
       "module ListSet : Set\n"
      ]
     },
     "execution_count": 39,
     "metadata": {},
     "output_type": "execute_result"
    },
    {
     "data": {
      "text/plain": [
       "module UniqListSet : Set\n"
      ]
     },
     "execution_count": 39,
     "metadata": {},
     "output_type": "execute_result"
    }
   ],
   "source": [
    "module ListSet : Set = struct\n",
    "  type 'a t = 'a list\n",
    "  let empty = []\n",
    "  let mem = List.mem\n",
    "  let add = List.cons\n",
    "  let elements s = List.sort_uniq Stdlib.compare s\n",
    "end\n",
    "\n",
    "module UniqListSet : Set = struct\n",
    "  (** All values in the list must be unique. *)\n",
    "  type 'a t = 'a list\n",
    "  let empty = []\n",
    "  let mem = List.mem\n",
    "  let add x s = if mem x s then s else x :: s\n",
    "  let elements = Fun.id\n",
    "end"
   ]
  },
  {
   "cell_type": "code",
   "execution_count": 40,
   "id": "57024fae",
   "metadata": {},
   "outputs": [
    {
     "data": {
      "text/plain": [
       "module OfList : sig val of_list : 'a list -> 'a ListSet.t end\n"
      ]
     },
     "execution_count": 40,
     "metadata": {},
     "output_type": "execute_result"
    },
    {
     "data": {
      "text/plain": [
       "module UniqOfList : sig val of_list : 'a list -> 'a UniqListSet.t end\n"
      ]
     },
     "execution_count": 40,
     "metadata": {},
     "output_type": "execute_result"
    }
   ],
   "source": [
    "module OfList = SetOfList (ListSet)\n",
    "module UniqOfList = SetOfList (UniqListSet)"
   ]
  },
  {
   "cell_type": "markdown",
   "id": "ec501c30",
   "metadata": {},
   "source": [
    "The functor has enabled the code reuse we couldn't get before: we now can\n",
    "implement a single `of_list` function and from it derive implementations for two\n",
    "different sets.\n",
    "\n",
    "But that's the **only** function those two modules contain. Really what we want\n",
    "is a full set implementation that also contains the `of_list` function. We can\n",
    "get that by combining includes with functors:"
   ]
  },
  {
   "cell_type": "code",
   "execution_count": 41,
   "id": "bd6b9000",
   "metadata": {},
   "outputs": [
    {
     "data": {
      "text/plain": [
       "module SetWithOfList :\n",
       "  functor (S : Set) ->\n",
       "    sig\n",
       "      type 'a t = 'a S.t\n",
       "      val empty : 'a t\n",
       "      val mem : 'a -> 'a t -> bool\n",
       "      val add : 'a -> 'a t -> 'a t\n",
       "      val elements : 'a t -> 'a list\n",
       "      val of_list : 'a list -> 'a S.t\n",
       "    end\n"
      ]
     },
     "execution_count": 41,
     "metadata": {},
     "output_type": "execute_result"
    }
   ],
   "source": [
    "module SetWithOfList (S : Set) = struct\n",
    "  include S\n",
    "  let of_list lst = List.fold_right S.add lst S.empty\n",
    "end"
   ]
  },
  {
   "cell_type": "markdown",
   "id": "269aea4d",
   "metadata": {},
   "source": [
    "That functor takes a set as input, and produces a module that contains\n",
    "everything from that set (because of the `include`) as well as a new function\n",
    "`of_list`.\n",
    "\n",
    "When we apply the functor, we get a very nice set module:"
   ]
  },
  {
   "cell_type": "code",
   "execution_count": 42,
   "id": "1b0fd40e",
   "metadata": {},
   "outputs": [
    {
     "data": {
      "text/plain": [
       "module SetL :\n",
       "  sig\n",
       "    type 'a t = 'a ListSet.t\n",
       "    val empty : 'a t\n",
       "    val mem : 'a -> 'a t -> bool\n",
       "    val add : 'a -> 'a t -> 'a t\n",
       "    val elements : 'a t -> 'a list\n",
       "    val of_list : 'a list -> 'a ListSet.t\n",
       "  end\n"
      ]
     },
     "execution_count": 42,
     "metadata": {},
     "output_type": "execute_result"
    },
    {
     "data": {
      "text/plain": [
       "module UniqSetL :\n",
       "  sig\n",
       "    type 'a t = 'a UniqListSet.t\n",
       "    val empty : 'a t\n",
       "    val mem : 'a -> 'a t -> bool\n",
       "    val add : 'a -> 'a t -> 'a t\n",
       "    val elements : 'a t -> 'a list\n",
       "    val of_list : 'a list -> 'a UniqListSet.t\n",
       "  end\n"
      ]
     },
     "execution_count": 42,
     "metadata": {},
     "output_type": "execute_result"
    }
   ],
   "source": [
    "module SetL = SetWithOfList (ListSet)\n",
    "module UniqSetL = SetWithOfList (UniqListSet)"
   ]
  },
  {
   "cell_type": "code",
   "execution_count": null,
   "id": "fb51deb4",
   "metadata": {},
   "outputs": [],
   "source": []
  },
  {
   "cell_type": "markdown",
   "id": "0189a7a8",
   "metadata": {},
   "source": [
    "Notice how the output structure records the fact that its type `t` is the same\n",
    "type as the type `t` in its input structure. They share it because of the\n",
    "`include`.\n",
    "\n",
    "Stepping back, what we just did bears more than a passing resemblance to class\n",
    "extension in Java. We created a base module and extended its functionality with\n",
    "new code while preserving its old functionality. But whereas class extension\n",
    "necessitates that the newly extended class is a subtype of the old, and that it\n",
    "still has all the old functionality, OCaml functors are more fine-grained in\n",
    "what they can accomplish. We can choose whether they include the old\n",
    "functionality. And no subtyping relationships are necessarily involved.\n",
    "Moreover, the functor we wrote can be used to extend **any** set implementation\n",
    "with `of_list`, whereas class extension applies to just a **single** base class.\n",
    "There are ways of achieving something similar in object-oriented languages with\n",
    "*mixins*, which enable a class to re-use functionality from other classes\n",
    "without necessitating the complication of multiple inheritance."
   ]
  }
 ],
 "metadata": {
  "jupytext": {
   "cell_metadata_filter": "-all",
   "formats": "md:myst",
   "text_representation": {
    "extension": ".md",
    "format_name": "myst",
    "format_version": 0.13,
    "jupytext_version": "1.10.3"
   }
  },
  "kernelspec": {
   "display_name": "OCaml",
   "language": "OCaml",
   "name": "ocaml-jupyter"
  },
  "language_info": {
   "codemirror_mode": "text/x-ocaml",
   "file_extension": ".ml",
   "mimetype": "text/x-ocaml",
   "name": "OCaml",
   "nbconverter_exporter": null,
   "pygments_lexer": "OCaml",
   "version": "4.14.0"
  },
  "source_map": [
   14,
   44,
   52,
   66,
   70,
   74,
   78,
   82,
   86,
   88,
   100,
   104,
   109,
   113,
   115,
   120,
   123,
   204,
   207,
   213,
   222,
   232,
   238,
   248,
   251,
   275,
   281,
   301,
   306,
   357,
   360,
   371,
   375,
   378,
   381,
   385,
   387,
   391,
   394,
   396,
   400,
   403,
   468,
   479,
   484,
   487,
   491,
   501,
   546,
   548,
   552,
   555,
   572,
   599,
   603,
   610,
   614,
   618,
   622,
   633,
   649,
   658,
   670,
   685,
   698,
   707,
   727,
   730,
   740,
   745,
   753,
   756
  ]
 },
 "nbformat": 4,
 "nbformat_minor": 5
}
