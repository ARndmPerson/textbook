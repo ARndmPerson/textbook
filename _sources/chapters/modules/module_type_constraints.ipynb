{
 "cells": [
  {
   "cell_type": "markdown",
   "id": "deecf5f3",
   "metadata": {},
   "source": [
    "# Module Type Constraints\n",
    "\n",
    "We have extolled the virtues of encapsulation. Now we're going to do something\n",
    "that might seem counter-intuitive: selectively violate encapsulation.\n",
    "\n",
    "As a motivating example, here is a module type that represents values that\n",
    "support the usual operations from arithmetic, or more precisely, a *[field][]*:\n",
    "\n",
    "[field]: https://en.wikipedia.org/wiki/Field_(mathematics)"
   ]
  },
  {
   "cell_type": "code",
   "execution_count": 1,
   "id": "6bb2f56b",
   "metadata": {},
   "outputs": [
    {
     "data": {
      "text/plain": [
       "module type Field =\n",
       "  sig\n",
       "    type t\n",
       "    val zero : t\n",
       "    val one : t\n",
       "    val ( + ) : t -> t -> t\n",
       "    val ( * ) : t -> t -> t\n",
       "    val ( ~- ) : t -> t\n",
       "    val to_string : t -> string\n",
       "  end\n"
      ]
     },
     "execution_count": 1,
     "metadata": {},
     "output_type": "execute_result"
    }
   ],
   "source": [
    "module type Field = sig\n",
    "  type t\n",
    "  val zero : t\n",
    "  val one : t\n",
    "  val ( + ) : t -> t -> t\n",
    "  val ( * ) : t -> t -> t\n",
    "  val ( ~- ) : t -> t\n",
    "  val to_string : t -> string\n",
    "end"
   ]
  },
  {
   "cell_type": "markdown",
   "id": "d4351901",
   "metadata": {},
   "source": [
    "Recall that we must write `( * )` instead of `(*)` because the latter would be\n",
    "parsed as beginning a comment. And we write the `~` in `(~-)` to indicate a\n",
    "*unary* negation operator.\n",
    "\n",
    "This is a bit weird of an example. We don't normally think of numbers as a data\n",
    "structure. But what is a data structure except for a set of values and\n",
    "operations on them? The `Field` module type makes it clear that's what we have.\n",
    "\n",
    "Here is a module that implements that module type:"
   ]
  },
  {
   "cell_type": "code",
   "execution_count": 2,
   "id": "3e83edfa",
   "metadata": {},
   "outputs": [
    {
     "data": {
      "text/plain": [
       "module IntField : Field\n"
      ]
     },
     "execution_count": 2,
     "metadata": {},
     "output_type": "execute_result"
    }
   ],
   "source": [
    "module IntField : Field = struct\n",
    "  type t = int\n",
    "  let zero = 0\n",
    "  let one = 1\n",
    "  let ( + ) = Stdlib.( + )\n",
    "  let ( * ) = Stdlib.( * )\n",
    "  let ( ~- ) = Stdlib.( ~- )\n",
    "  let to_string = string_of_int\n",
    "end"
   ]
  },
  {
   "cell_type": "markdown",
   "id": "375de9a5",
   "metadata": {},
   "source": [
    "Because `t` is abstract, the toplevel can't give us good output about what the\n",
    "sum of one and one is:"
   ]
  },
  {
   "cell_type": "code",
   "execution_count": 3,
   "id": "87a3a807",
   "metadata": {},
   "outputs": [
    {
     "data": {
      "text/plain": [
       "- : IntField.t = <abstr>\n"
      ]
     },
     "execution_count": 3,
     "metadata": {},
     "output_type": "execute_result"
    }
   ],
   "source": [
    "IntField.(one + one)"
   ]
  },
  {
   "cell_type": "markdown",
   "id": "3837a2d1",
   "metadata": {},
   "source": [
    "But we could convert it to a string:"
   ]
  },
  {
   "cell_type": "code",
   "execution_count": 4,
   "id": "5d20c5dc",
   "metadata": {},
   "outputs": [
    {
     "data": {
      "text/plain": [
       "- : string = \"2\"\n"
      ]
     },
     "execution_count": 4,
     "metadata": {},
     "output_type": "execute_result"
    }
   ],
   "source": [
    "IntField.(one + one |> to_string)"
   ]
  },
  {
   "cell_type": "markdown",
   "id": "51ccb191",
   "metadata": {},
   "source": [
    "We could even install a pretty printer to avoid having to manually call\n",
    "`to_string`:"
   ]
  },
  {
   "cell_type": "code",
   "execution_count": 5,
   "id": "68a9fc05",
   "metadata": {},
   "outputs": [
    {
     "data": {
      "text/plain": [
       "val pp_intfield : Format.formatter -> IntField.t -> unit = <fun>\n"
      ]
     },
     "execution_count": 5,
     "metadata": {},
     "output_type": "execute_result"
    },
    {
     "data": {
      "text/plain": [
       "- : IntField.t = 2\n"
      ]
     },
     "execution_count": 5,
     "metadata": {},
     "output_type": "execute_result"
    }
   ],
   "source": [
    "let pp_intfield fmt i =\n",
    "  Format.fprintf fmt \"%s\" (IntField.to_string i);;\n",
    "\n",
    "#install_printer pp_intfield;;\n",
    "\n",
    "IntField.(one + one)"
   ]
  },
  {
   "cell_type": "markdown",
   "id": "3f7607fb",
   "metadata": {},
   "source": [
    "We could implement other kinds of fields, too:"
   ]
  },
  {
   "cell_type": "code",
   "execution_count": 6,
   "id": "26849b76",
   "metadata": {},
   "outputs": [
    {
     "data": {
      "text/plain": [
       "module FloatField : Field\n"
      ]
     },
     "execution_count": 6,
     "metadata": {},
     "output_type": "execute_result"
    }
   ],
   "source": [
    "module FloatField : Field = struct\n",
    "  type t = float\n",
    "  let zero = 0.\n",
    "  let one = 1.\n",
    "  let ( + ) = Stdlib.( +. )\n",
    "  let ( * ) = Stdlib.( *. )\n",
    "  let ( ~- ) = Stdlib.( ~-. )\n",
    "  let to_string = string_of_float\n",
    "end"
   ]
  },
  {
   "cell_type": "markdown",
   "id": "b921ee6c",
   "metadata": {},
   "source": [
    "Then we'd have to install a printer for it, too:"
   ]
  },
  {
   "cell_type": "code",
   "execution_count": 7,
   "id": "5e2c22da",
   "metadata": {},
   "outputs": [
    {
     "data": {
      "text/plain": [
       "val pp_floatfield : Format.formatter -> FloatField.t -> unit = <fun>\n"
      ]
     },
     "execution_count": 7,
     "metadata": {},
     "output_type": "execute_result"
    },
    {
     "data": {
      "text/plain": [
       "- : FloatField.t = 2.\n"
      ]
     },
     "execution_count": 7,
     "metadata": {},
     "output_type": "execute_result"
    }
   ],
   "source": [
    "let pp_floatfield fmt f =\n",
    "  Format.fprintf fmt \"%s\" (FloatField.to_string f);;\n",
    "\n",
    "#install_printer pp_floatfield;;\n",
    "\n",
    "FloatField.(one + one)"
   ]
  },
  {
   "cell_type": "markdown",
   "id": "e94ba87b",
   "metadata": {},
   "source": [
    "Was there really a need to make type `t` abstract in the field examples above?\n",
    "Arguably not. And if it were not abstract, we wouldn't have to go to the trouble\n",
    "of converting abstract values into strings, or installing printers. Let's pursue\n",
    "that idea, next.\n",
    "\n",
    "## Specializing Module Types\n",
    "\n",
    "In the past, we've seen that we can leave off the module type annotation,\n",
    "then do a separate check to make sure the structure satisfies the signature:"
   ]
  },
  {
   "cell_type": "code",
   "execution_count": 8,
   "id": "7208256e",
   "metadata": {
    "tags": [
     "hide-output"
    ]
   },
   "outputs": [
    {
     "data": {
      "text/plain": [
       "module IntField :\n",
       "  sig\n",
       "    type t = int\n",
       "    val zero : int\n",
       "    val one : int\n",
       "    val ( + ) : int -> int -> int\n",
       "    val ( * ) : int -> int -> int\n",
       "    val ( ~- ) : int -> int\n",
       "    val to_string : int -> string\n",
       "  end\n"
      ]
     },
     "execution_count": 8,
     "metadata": {},
     "output_type": "execute_result"
    }
   ],
   "source": [
    "module IntField = struct\n",
    "  type t = int\n",
    "  let zero = 0\n",
    "  let one = 1\n",
    "  let ( + ) = Stdlib.( + )\n",
    "  let ( * ) = Stdlib.( * )\n",
    "  let ( ~- ) = Stdlib.( ~- )\n",
    "  let to_string = string_of_int\n",
    "end\n",
    "\n",
    "module _ : Field = IntField"
   ]
  },
  {
   "cell_type": "code",
   "execution_count": 9,
   "id": "e0069bfc",
   "metadata": {},
   "outputs": [
    {
     "data": {
      "text/plain": [
       "- : int = 2\n"
      ]
     },
     "execution_count": 9,
     "metadata": {},
     "output_type": "execute_result"
    }
   ],
   "source": [
    "IntField.(one + one)"
   ]
  },
  {
   "cell_type": "markdown",
   "id": "d8529385",
   "metadata": {},
   "source": [
    "There's a more sophisticated way of accomplishing the same goal. We can\n",
    "specialize the `Field` module type to specify that `t` must be `int` or `float`.\n",
    "We do that by adding a *constraint* using the `with` keyword:"
   ]
  },
  {
   "cell_type": "code",
   "execution_count": 10,
   "id": "48342d35",
   "metadata": {},
   "outputs": [
    {
     "data": {
      "text/plain": [
       "module type INT_FIELD =\n",
       "  sig\n",
       "    type t = int\n",
       "    val zero : t\n",
       "    val one : t\n",
       "    val ( + ) : t -> t -> t\n",
       "    val ( * ) : t -> t -> t\n",
       "    val ( ~- ) : t -> t\n",
       "    val to_string : t -> string\n",
       "  end\n"
      ]
     },
     "execution_count": 10,
     "metadata": {},
     "output_type": "execute_result"
    }
   ],
   "source": [
    "module type INT_FIELD = Field with type t = int"
   ]
  },
  {
   "cell_type": "markdown",
   "id": "f8114ef4",
   "metadata": {},
   "source": [
    "Note how the `INT_FIELD` module type now specifies that `t` and `int` are the\n",
    "same type. It exposes or *shares* that fact with the world, so we could\n",
    "call these \"sharing constraints.\"\n",
    "\n",
    "Now `IntField` can be given that module type:"
   ]
  },
  {
   "cell_type": "code",
   "execution_count": 11,
   "id": "40427a5c",
   "metadata": {},
   "outputs": [
    {
     "data": {
      "text/plain": [
       "module IntField : INT_FIELD\n"
      ]
     },
     "execution_count": 11,
     "metadata": {},
     "output_type": "execute_result"
    }
   ],
   "source": [
    "module IntField : INT_FIELD = struct\n",
    "  type t = int\n",
    "  let zero = 0\n",
    "  let one = 1\n",
    "  let ( + ) = Stdlib.( + )\n",
    "  let ( * ) = Stdlib.( * )\n",
    "  let ( ~- ) = Stdlib.( ~- )\n",
    "  let to_string = string_of_int\n",
    "end"
   ]
  },
  {
   "cell_type": "markdown",
   "id": "c32742ef",
   "metadata": {},
   "source": [
    "And since the equality of `t` and `int` is exposed, the toplevel can print\n",
    "values of type `t` without any help needed from a pretty printer:"
   ]
  },
  {
   "cell_type": "code",
   "execution_count": 12,
   "id": "b8654756",
   "metadata": {},
   "outputs": [
    {
     "data": {
      "text/plain": [
       "- : IntField.t = 2\n"
      ]
     },
     "execution_count": 12,
     "metadata": {},
     "output_type": "execute_result"
    }
   ],
   "source": [
    "IntField.(one + one)"
   ]
  },
  {
   "cell_type": "markdown",
   "id": "eecf89f7",
   "metadata": {},
   "source": [
    "Programmers can even mix and match built-in `int` values with those provided\n",
    "by `IntField`:"
   ]
  },
  {
   "cell_type": "code",
   "execution_count": 13,
   "id": "81029288",
   "metadata": {},
   "outputs": [
    {
     "data": {
      "text/plain": [
       "- : IntField.t = 2\n"
      ]
     },
     "execution_count": 13,
     "metadata": {},
     "output_type": "execute_result"
    }
   ],
   "source": [
    "IntField.(1 + one)"
   ]
  },
  {
   "cell_type": "markdown",
   "id": "3d72adf3",
   "metadata": {},
   "source": [
    "The same can be done for floats:"
   ]
  },
  {
   "cell_type": "code",
   "execution_count": 14,
   "id": "56af7e5e",
   "metadata": {},
   "outputs": [
    {
     "data": {
      "text/plain": [
       "module type FLOAT_FIELD =\n",
       "  sig\n",
       "    type t = float\n",
       "    val zero : t\n",
       "    val one : t\n",
       "    val ( + ) : t -> t -> t\n",
       "    val ( * ) : t -> t -> t\n",
       "    val ( ~- ) : t -> t\n",
       "    val to_string : t -> string\n",
       "  end\n"
      ]
     },
     "execution_count": 14,
     "metadata": {},
     "output_type": "execute_result"
    },
    {
     "data": {
      "text/plain": [
       "module FloatField : FLOAT_FIELD\n"
      ]
     },
     "execution_count": 14,
     "metadata": {},
     "output_type": "execute_result"
    }
   ],
   "source": [
    "module type FLOAT_FIELD = Field with type t = float\n",
    "\n",
    "module FloatField : FLOAT_FIELD = struct\n",
    "  type t = float\n",
    "  let zero = 0.\n",
    "  let one = 1.\n",
    "  let ( + ) = Stdlib.( +. )\n",
    "  let ( * ) = Stdlib.( *. )\n",
    "  let ( ~- ) = Stdlib.( ~-. )\n",
    "  let to_string = string_of_float\n",
    "end"
   ]
  },
  {
   "cell_type": "markdown",
   "id": "896db40d",
   "metadata": {},
   "source": [
    "It turns out there's no need to separately define `INT_FIELD` and `FLOAT_FIELD`.\n",
    "The `with` keyword can be used as part of the `module` definition, though the\n",
    "syntax becomes a little harder to read because of the proximity of the two `=`\n",
    "signs:"
   ]
  },
  {
   "cell_type": "code",
   "execution_count": 15,
   "id": "1fb6ae1c",
   "metadata": {},
   "outputs": [
    {
     "data": {
      "text/plain": [
       "module FloatField :\n",
       "  sig\n",
       "    type t = float\n",
       "    val zero : t\n",
       "    val one : t\n",
       "    val ( + ) : t -> t -> t\n",
       "    val ( * ) : t -> t -> t\n",
       "    val ( ~- ) : t -> t\n",
       "    val to_string : t -> string\n",
       "  end\n"
      ]
     },
     "execution_count": 15,
     "metadata": {},
     "output_type": "execute_result"
    }
   ],
   "source": [
    "module FloatField : Field with type t = float = struct\n",
    "  type t = float\n",
    "  let zero = 0.\n",
    "  let one = 1.\n",
    "  let ( + ) = Stdlib.( +. )\n",
    "  let ( * ) = Stdlib.( *. )\n",
    "  let ( ~- ) = Stdlib.( ~-. )\n",
    "  let to_string = string_of_float\n",
    "end"
   ]
  },
  {
   "cell_type": "markdown",
   "id": "a902c4e5",
   "metadata": {},
   "source": [
    "## Constraints\n",
    "\n",
    "**Syntax.**\n",
    "\n",
    "There are two sorts of constraints. One is the sort we saw above, with `type`\n",
    "equations:\n",
    "\n",
    "- `T with type x = t`, where `T` is a module type, `x` is a type name, and\n",
    "  `t` is a type.\n",
    "\n",
    "The other sort is a `module` equation, which is syntactic sugar for specifying\n",
    "the equality of *all* types in the two modules:\n",
    "\n",
    "- `T with module M = N`, where `M` and `N` are module names.\n",
    "\n",
    "Multiple constraints can be added with the `and` keyword:\n",
    "\n",
    "- `T with constraint1 and constraint2 and ... constraintN`\n",
    "\n",
    "**Static semantics.**\n",
    "\n",
    "The constrained module type `T with type x = t` is the same as `T`, except that\n",
    "the declaration of `type x` inside `T` is replaced by `type x = t`. For example,\n",
    "compare the two signatures output below:"
   ]
  },
  {
   "cell_type": "code",
   "execution_count": 16,
   "id": "b48d20c6",
   "metadata": {},
   "outputs": [
    {
     "data": {
      "text/plain": [
       "module type T = sig type t end\n"
      ]
     },
     "execution_count": 16,
     "metadata": {},
     "output_type": "execute_result"
    },
    {
     "data": {
      "text/plain": [
       "module type U = sig type t = int end\n"
      ]
     },
     "execution_count": 16,
     "metadata": {},
     "output_type": "execute_result"
    }
   ],
   "source": [
    "module type T = sig type t end\n",
    "module type U = T with type t = int"
   ]
  },
  {
   "cell_type": "markdown",
   "id": "c57ec238",
   "metadata": {},
   "source": [
    "Likewise, `T with module M = N` is the same as `T`, except that the any\n",
    "declaration `type x` inside the module type of `M` is replaced by\n",
    "`type x = N.X`. (And the same recursively for any nested modules.) It takes more\n",
    "work to give and understand this example:"
   ]
  },
  {
   "cell_type": "code",
   "execution_count": 17,
   "id": "62ce8e7e",
   "metadata": {},
   "outputs": [
    {
     "data": {
      "text/plain": [
       "module type XY = sig type x type y end\n"
      ]
     },
     "execution_count": 17,
     "metadata": {},
     "output_type": "execute_result"
    },
    {
     "data": {
      "text/plain": [
       "module type T = sig module A : XY end\n"
      ]
     },
     "execution_count": 17,
     "metadata": {},
     "output_type": "execute_result"
    },
    {
     "data": {
      "text/plain": [
       "module B : sig type x = int type y = float end\n"
      ]
     },
     "execution_count": 17,
     "metadata": {},
     "output_type": "execute_result"
    },
    {
     "data": {
      "text/plain": [
       "module type U = sig module A : sig type x = int type y = float end end\n"
      ]
     },
     "execution_count": 17,
     "metadata": {},
     "output_type": "execute_result"
    },
    {
     "data": {
      "text/plain": [
       "module C : U\n"
      ]
     },
     "execution_count": 17,
     "metadata": {},
     "output_type": "execute_result"
    }
   ],
   "source": [
    "module type XY = sig\n",
    "  type x\n",
    "  type y\n",
    "end\n",
    "\n",
    "module type T = sig\n",
    "  module A : XY\n",
    "end\n",
    "\n",
    "module B = struct\n",
    "  type x = int\n",
    "  type y = float\n",
    "end\n",
    "\n",
    "module type U = T with module A = B\n",
    "\n",
    "module C : U = struct\n",
    "  module A = struct\n",
    "    type x = int\n",
    "    type y = float\n",
    "    let x = 42\n",
    "  end\n",
    "end"
   ]
  },
  {
   "cell_type": "markdown",
   "id": "6e48354e",
   "metadata": {},
   "source": [
    "Focus on the output for module type `U`. Notice that the types of `x` and `y` in\n",
    "it have become `int` and `float` because of the `module A = B` constraint. Also\n",
    "notice how modules `B` and `C.A` are *not* the same module; the latter has an\n",
    "extra item `x` in it. So the syntax `module A = B` is potentially confusing. The\n",
    "constraint is not specifying that the two *modules* are the same. Rather, it\n",
    "specifies that all their *types* are constrained to be equal.\n",
    "\n",
    "**Dynamic semantics.**\n",
    "\n",
    "There are no dynamic semantics for constraints, because they are only for type\n",
    "checking."
   ]
  }
 ],
 "metadata": {
  "jupytext": {
   "cell_metadata_filter": "-all",
   "formats": "md:myst",
   "text_representation": {
    "extension": ".md",
    "format_name": "myst",
    "format_version": 0.13,
    "jupytext_version": "1.10.3"
   }
  },
  "kernelspec": {
   "display_name": "OCaml",
   "language": "OCaml",
   "name": "ocaml-jupyter"
  },
  "language_info": {
   "codemirror_mode": "text/x-ocaml",
   "file_extension": ".ml",
   "mimetype": "text/x-ocaml",
   "name": "OCaml",
   "nbconverter_exporter": null,
   "pygments_lexer": "OCaml",
   "version": "4.11.1"
  },
  "source_map": [
   14,
   26,
   36,
   48,
   58,
   63,
   65,
   69,
   71,
   76,
   83,
   87,
   97,
   101,
   108,
   120,
   135,
   137,
   143,
   145,
   153,
   163,
   168,
   170,
   175,
   177,
   181,
   193,
   200,
   210,
   237,
   240,
   247,
   271
  ]
 },
 "nbformat": 4,
 "nbformat_minor": 5
}