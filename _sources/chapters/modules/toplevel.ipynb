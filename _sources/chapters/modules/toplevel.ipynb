{
 "cells": [
  {
   "cell_type": "markdown",
   "id": "6ded67be",
   "metadata": {},
   "source": [
    "# Modules and the Toplevel\n",
    "\n",
    "{{ video_embed | replace(\"%%VID%%\", \"4yo-04VVzIw\")}}\n",
    "\n",
    "There are several pragmatics involving modules and the toplevel that are\n",
    "important to master to use the two together effectively.\n",
    "\n",
    "## Loading Compiled Modules\n",
    "\n",
    "Compiling an OCaml file produces a module having the same name as the file, but\n",
    "with the first letter capitalized. These compiled modules can be loaded into the\n",
    "toplevel using `#load`.\n",
    "\n",
    "For example, suppose you create a file called `mods.ml`, and put the following\n",
    "code in it:\n",
    "\n",
    "```ocaml\n",
    "let b = \"bigred\"\n",
    "let inc x = x + 1\n",
    "module M = struct\n",
    "  let y = 42\n",
    "end\n",
    "```\n",
    "\n",
    "Note that there is no `module Mods = struct ... end` around that. The code is at\n",
    "the topmost level of the file, as it were.\n",
    "\n",
    "Then suppose you type `ocamlbuild mods.byte` to compile it. Inside the `_build`\n",
    "directory you will now find the files that `ocamlbuild` produced. One of them is\n",
    "`mods.cmo`: this is a <u>c</u>ompiled <u>m</u>odule <u>o</u>bject file, aka\n",
    "bytecode.\n",
    "\n",
    "You can make this bytecode available for use in the toplevel with the following\n",
    "directives. Recall that the `#` character is required in front of a directive.\n",
    "It is not part of the prompt.\n",
    "\n",
    "```ocaml\n",
    "# #directory \"_build\";;\n",
    "# #load \"mods.cmo\";;\n",
    "```\n",
    "\n",
    "The first directive tells utop to add the `_build` directory to the path in\n",
    "which it looks for compiled (and source) files. The second directive loads the\n",
    "bytecode found in `mods.cmo`, thus making a module named `Mods` available to be\n",
    "used.  It exactly as if you had entered this code:"
   ]
  },
  {
   "cell_type": "code",
   "execution_count": 1,
   "id": "d27af2f4",
   "metadata": {},
   "outputs": [
    {
     "data": {
      "text/plain": [
       "module Mods :\n",
       "  sig val b : string val inc : int -> int module M : sig val y : int end end\n"
      ]
     },
     "execution_count": 1,
     "metadata": {},
     "output_type": "execute_result"
    }
   ],
   "source": [
    "module Mods = struct\n",
    "  let b = \"bigred\"\n",
    "  let inc x = x + 1\n",
    "  module M = struct\n",
    "    let y = 42\n",
    "  end\n",
    "end"
   ]
  },
  {
   "cell_type": "markdown",
   "id": "2d06f8b9",
   "metadata": {},
   "source": [
    "Both of these expressions will therefore evaluate successfully:"
   ]
  },
  {
   "cell_type": "code",
   "execution_count": 2,
   "id": "859d7de5",
   "metadata": {},
   "outputs": [
    {
     "data": {
      "text/plain": [
       "- : string = \"bigred\"\n"
      ]
     },
     "execution_count": 2,
     "metadata": {},
     "output_type": "execute_result"
    },
    {
     "data": {
      "text/plain": [
       "- : int = 42\n"
      ]
     },
     "execution_count": 2,
     "metadata": {},
     "output_type": "execute_result"
    }
   ],
   "source": [
    "Mods.b;;\n",
    "Mods.M.y;;"
   ]
  },
  {
   "cell_type": "markdown",
   "id": "2f38ede0",
   "metadata": {},
   "source": [
    "But this will fail:"
   ]
  },
  {
   "cell_type": "code",
   "execution_count": 3,
   "id": "67653445",
   "metadata": {
    "tags": [
     "raises-exception"
    ]
   },
   "outputs": [
    {
     "ename": "error",
     "evalue": "compile_error",
     "output_type": "error",
     "traceback": [
      "File \"[3]\", line 1, characters 0-3:\n1 | inc\n    ^^^\nError: Unbound value inc\nHint: Did you mean incr?\n"
     ]
    }
   ],
   "source": [
    "inc"
   ]
  },
  {
   "cell_type": "markdown",
   "id": "623bf42a",
   "metadata": {},
   "source": [
    "It fails because `inc` is in the namespace of `Mods`."
   ]
  },
  {
   "cell_type": "code",
   "execution_count": 4,
   "id": "bd737237",
   "metadata": {},
   "outputs": [
    {
     "data": {
      "text/plain": [
       "- : int -> int = <fun>\n"
      ]
     },
     "execution_count": 4,
     "metadata": {},
     "output_type": "execute_result"
    }
   ],
   "source": [
    "Mods.inc"
   ]
  },
  {
   "cell_type": "markdown",
   "id": "2525b894",
   "metadata": {},
   "source": [
    "Of course, if you open the module, you can directly name `inc`:"
   ]
  },
  {
   "cell_type": "code",
   "execution_count": 5,
   "id": "990eab83",
   "metadata": {},
   "outputs": [
    {
     "data": {
      "text/plain": [
       "- : int -> int = <fun>\n"
      ]
     },
     "execution_count": 5,
     "metadata": {},
     "output_type": "execute_result"
    }
   ],
   "source": [
    "open Mods;;\n",
    "inc;;"
   ]
  },
  {
   "cell_type": "markdown",
   "id": "8305dd7b",
   "metadata": {},
   "source": [
    "## Initializing the Toplevel\n",
    "\n",
    "If you are doing a lot of testing of a particular module, it can be annoying to\n",
    "have to type those directives (`#directory` and `#load`) every time you start\n",
    "utop. You really want to initialize the toplevel with some code as it launches,\n",
    "so that you don't have to keep typing that code.\n",
    "\n",
    "The solution is to create a file in the working directory and call that file\n",
    "`.ocamlinit`. Note that the `.` at the front of that filename is required and\n",
    "makes it a [hidden file][hidden] that won't appear in directory listings unless\n",
    "explicitly requested (e.g., with `ls -a`). Everything in `.ocamlinit` will be\n",
    "processed by utop when it loads.\n",
    "\n",
    "[hidden]: https://en.wikipedia.org/wiki/Hidden_file_and_hidden_directory\n",
    "\n",
    "For example, suppose you create a file named `.ocamlinit` in the same directory\n",
    "as `mods.ml`, and in that file put the following code:\n",
    "\n",
    "```ocaml\n",
    "#directory \"_build\";;\n",
    "#load \"mods.cmo\";;\n",
    "open Mods\n",
    "```\n",
    "\n",
    "Now restart utop. All the names defined in `Mods` will already be in scope. For\n",
    "example, these will both succeed:"
   ]
  },
  {
   "cell_type": "code",
   "execution_count": 6,
   "id": "a5432160",
   "metadata": {},
   "outputs": [
    {
     "data": {
      "text/plain": [
       "- : int -> int = <fun>\n"
      ]
     },
     "execution_count": 6,
     "metadata": {},
     "output_type": "execute_result"
    },
    {
     "data": {
      "text/plain": [
       "- : int = 42\n"
      ]
     },
     "execution_count": 6,
     "metadata": {},
     "output_type": "execute_result"
    }
   ],
   "source": [
    "inc;;\n",
    "M.y;;"
   ]
  },
  {
   "cell_type": "markdown",
   "id": "84964ee5",
   "metadata": {},
   "source": [
    "## Requiring Libraries\n",
    "\n",
    "Suppose you were to add the following lines to the end of `mods.ml`:\n",
    "\n",
    "```ocaml\n",
    "open OUnit2\n",
    "let test = \"testb\" >:: (fun _ -> assert_equal \"bigred\" b)\n",
    "```\n",
    "\n",
    "If you try to recompile the module with `ocamlbuild mods.byte`, it will fail.\n",
    "The problem is that you need to tell the build system to include the third-party\n",
    "library OUnit. Recompiling with `ocamlbuild -pkg ounit2 mods.byte` will, as\n",
    "usual, succeed.\n",
    "\n",
    "But if you restart utop, there will be an error message:\n",
    "\n",
    "```text\n",
    "File \".ocamlinit\", line 1:\n",
    "Error: Reference to undefined global `OUnit2'\n",
    "```\n",
    "\n",
    "The problem is that the OUnit library hasn't been loaded into utop yet. It can\n",
    "be with the following directive:\n",
    "\n",
    "```ocaml\n",
    "#require \"ounit2\";;\n",
    "```\n",
    "\n",
    "Now you can successfully load your own module without getting an error.\n",
    "\n",
    "```ocaml\n",
    "#load \"mods.cmo\";;\n",
    "```\n",
    "\n",
    "Moreover, if you add that `#require` directive to `.ocamlinit` anywhere before\n",
    "the `#load` directive, the \"undefined global\" error will go away.\n",
    "\n",
    "## Dependencies\n",
    "\n",
    "When compiling a file, the build system automatically figures out which other\n",
    "files it depends on and recompiles those as necessary. The toplevel, however, is\n",
    "not as sophisticated: you have to make sure to load all the dependencies of a\n",
    "file.\n",
    "\n",
    "Suppose you have a file named `mods2.ml` in the same directory as `mods.ml`\n",
    "from above, and `mods2.ml` contains this code:\n",
    "\n",
    "```ocaml\n",
    "open Mods\n",
    "let x = inc 0\n",
    "```\n",
    "\n",
    "If you run `ocamlbuild -pkg ounit2 mods2.byte`, the compilation will succeed.\n",
    "You don't have to name `mods.byte` on the command line, even though `mods2.ml`\n",
    "depends on the module `Mod`. The build system is smart that way.\n",
    "\n",
    "Also suppose that `.ocamlinit` contains exactly the following:\n",
    "\n",
    "```ocaml\n",
    "#directory \"_build\";;\n",
    "#require \"ounit2\";;\n",
    "```\n",
    "\n",
    "If you restart utop and try to load `mods2.cmo`, you will get an error:\n",
    "\n",
    "```text\n",
    "# #load \"mods2.cmo\";;\n",
    "Error: Reference to undefined global `Mods'\n",
    "```\n",
    "\n",
    "The problem is that the toplevel does not automatically load the modules that\n",
    "`Mods2` depends upon. There are two ways to solve this problem.\n",
    "First, you can manually load the dependencies, like this:\n",
    "\n",
    "```ocaml\n",
    "# #load \"mods.cmo\";;\n",
    "# #load \"mods2.cmo\";;\n",
    "```\n",
    "\n",
    "Second, you could instead tell the toplevel to load `Mods2` and recursively\n",
    "to load everything it depends on:\n",
    "\n",
    "```ocaml\n",
    "# #load_rec \"mods2.cmo\";;\n",
    "```\n",
    "\n",
    "And that is probably the better solution.\n",
    "\n",
    "## Load vs Use\n",
    "\n",
    "There is a big difference between `#load`-ing a compiled module file and\n",
    "`#use`-ing an uncompiled source file. The former loads bytecode and makes it\n",
    "available for use. For example, loading `mods.cmo` caused the `Mod` module to be\n",
    "available, and we could access its members with expressions like `Mod.b`. The\n",
    "latter (`#use`) is *textual inclusion*: it's like typing the contents of the\n",
    "file directly into the toplevel. So using `mods.ml` does **not** cause a `Mod`\n",
    "module to be available, and the definitions in the file can be accessed\n",
    "directly, e.g., `b`.\n",
    "\n",
    "For example, in the following interaction, we can directly refer to `b` but\n",
    "cannot use the qualified name `Mods.b`:\n",
    "\n",
    "```text\n",
    "# #use \"mods.ml\"\n",
    "\n",
    "# b;;\n",
    "val b : string = \"bigred\"\n",
    "\n",
    "# Mods.b;;\n",
    "Error: Unbound module Mods\n",
    "```\n",
    "\n",
    "Whereas in this interaction the situation is reversed:\n",
    "\n",
    "```text\n",
    "# #directory \"_build\";;\n",
    "# #load \"mods.cmo\";;\n",
    "\n",
    "# Mods.b;;\n",
    "- : string = \"bigred\"\n",
    "\n",
    "# b;;\n",
    "Error: Unbound value b\n",
    "```\n",
    "\n",
    "So when you're using the toplevel to experiment with your code, it's often\n",
    "better to work with `#load` rather than `#use`. The `#load` directive accurately\n",
    "reflects how your modules interact with each other and with the outside world."
   ]
  }
 ],
 "metadata": {
  "jupytext": {
   "cell_metadata_filter": "-all",
   "formats": "md:myst",
   "text_representation": {
    "extension": ".md",
    "format_name": "myst",
    "format_version": 0.13,
    "jupytext_version": "1.10.3"
   }
  },
  "kernelspec": {
   "display_name": "OCaml",
   "language": "OCaml",
   "name": "ocaml-jupyter"
  },
  "language_info": {
   "codemirror_mode": "text/x-ocaml",
   "file_extension": ".ml",
   "mimetype": "text/x-ocaml",
   "name": "OCaml",
   "nbconverter_exporter": null,
   "pygments_lexer": "OCaml",
   "version": "4.11.1"
  },
  "source_map": [
   14,
   62,
   70,
   74,
   77,
   80,
   83,
   86,
   88,
   92,
   95,
   124,
   127
  ]
 },
 "nbformat": 4,
 "nbformat_minor": 5
}