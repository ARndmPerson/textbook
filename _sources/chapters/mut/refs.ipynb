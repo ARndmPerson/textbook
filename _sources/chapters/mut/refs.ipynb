{
 "cells": [
  {
   "cell_type": "markdown",
   "id": "685df882",
   "metadata": {},
   "source": [
    "# Refs\n",
    "\n",
    "{{ video_embed | replace(\"%%VID%%\", \"R0tGac0jaEQ\")}}\n",
    "\n",
    "A *ref* is like a pointer or reference in an imperative language. It is a\n",
    "location in memory whose contents may change. Refs are also called *ref cells*,\n",
    "the idea being that there's a cell in memory that can change.\n",
    "\n",
    "Here's an example of creating a ref, getting the value from inside it, changing\n",
    "its contents, and observing the changed contents:"
   ]
  },
  {
   "cell_type": "code",
   "execution_count": 1,
   "id": "a41fb6a7",
   "metadata": {},
   "outputs": [
    {
     "data": {
      "text/plain": [
       "val x : int ref = {contents = 0}\n"
      ]
     },
     "execution_count": 1,
     "metadata": {},
     "output_type": "execute_result"
    }
   ],
   "source": [
    "let x = ref 0;;"
   ]
  },
  {
   "cell_type": "code",
   "execution_count": 2,
   "id": "4b1ae453",
   "metadata": {},
   "outputs": [
    {
     "data": {
      "text/plain": [
       "- : int = 0\n"
      ]
     },
     "execution_count": 2,
     "metadata": {},
     "output_type": "execute_result"
    }
   ],
   "source": [
    "!x;;"
   ]
  },
  {
   "cell_type": "code",
   "execution_count": 3,
   "id": "490f0649",
   "metadata": {},
   "outputs": [
    {
     "data": {
      "text/plain": [
       "- : unit = ()\n"
      ]
     },
     "execution_count": 3,
     "metadata": {},
     "output_type": "execute_result"
    }
   ],
   "source": [
    "x := 1;;"
   ]
  },
  {
   "cell_type": "code",
   "execution_count": 4,
   "id": "d47dbb36",
   "metadata": {},
   "outputs": [
    {
     "data": {
      "text/plain": [
       "- : int = 1\n"
      ]
     },
     "execution_count": 4,
     "metadata": {},
     "output_type": "execute_result"
    }
   ],
   "source": [
    "!x;;"
   ]
  },
  {
   "cell_type": "markdown",
   "id": "46d8c0e9",
   "metadata": {},
   "source": [
    "The first phrase, `let x = ref 0`, creates a reference using the `ref` keyword.\n",
    "That's a location in memory whose contents are initialized to `0`. Think of the\n",
    "location itself as being an address&mdash;for example, 0x3110bae0&mdash;even\n",
    "though there's no way to write down such an address in an OCaml program. The\n",
    "keyword `ref` is what causes the memory location to be allocated and\n",
    "initialized.\n",
    "\n",
    "The first part of the response from OCaml, `val x : int ref`, indicates that `x`\n",
    "is a variable whose type is `int ref`. We have a new type constructor here. Much\n",
    "like `list` and `option` are type constructors, so is `ref`. A `t ref`, for any\n",
    "type `t`, is a reference to a memory location that is guaranteed to contain a\n",
    "value of type `t`. As usual we should read a type from right to left: `t ref`\n",
    "means a reference to a `t`. The second part of the response shows us the\n",
    "contents of the memory location. Indeed, the contents have been initialized to\n",
    "`0`.\n",
    "\n",
    "The second phrase, `!x`, dereferences `x` and returns the contents of the memory\n",
    "location. Note that `!` is the dereference operator in OCaml, not Boolean\n",
    "negation.\n",
    "\n",
    "The third phrase, `x := 1`, is an assignment. It mutates the contents `x` to be\n",
    "`1`. Note that `x` itself still points to the same location (i.e., address) in\n",
    "memory. Memory is mutable; variable bindings are not. What changes is the\n",
    "contents. The response from OCaml is simply `()`, meaning that the assignment\n",
    "took place&mdash;much like printing functions return `()` to indicate that the\n",
    "printing did happen.\n",
    "\n",
    "The fourth phrase, `!x` again dereferences `x` to demonstrate that the contents\n",
    "of the memory location did indeed change.\n",
    "\n",
    "## Aliasing\n",
    "\n",
    "{{ video_embed | replace(\"%%VID%%\", \"pt06BxGhjDQ\")}}\n",
    "\n",
    "Now that we have refs, we have *aliasing*: two refs could point to the same\n",
    "memory location, hence updating through one causes the other to also be updated.\n",
    "For example,"
   ]
  },
  {
   "cell_type": "code",
   "execution_count": 5,
   "id": "f6f2d64f",
   "metadata": {},
   "outputs": [
    {
     "data": {
      "text/plain": [
       "val x : int ref = {contents = 42}\n"
      ]
     },
     "execution_count": 5,
     "metadata": {},
     "output_type": "execute_result"
    },
    {
     "data": {
      "text/plain": [
       "val y : int ref = {contents = 42}\n"
      ]
     },
     "execution_count": 5,
     "metadata": {},
     "output_type": "execute_result"
    },
    {
     "data": {
      "text/plain": [
       "val z : int ref = {contents = 42}\n"
      ]
     },
     "execution_count": 5,
     "metadata": {},
     "output_type": "execute_result"
    },
    {
     "data": {
      "text/plain": [
       "- : unit = ()\n"
      ]
     },
     "execution_count": 5,
     "metadata": {},
     "output_type": "execute_result"
    },
    {
     "data": {
      "text/plain": [
       "val w : int = 85\n"
      ]
     },
     "execution_count": 5,
     "metadata": {},
     "output_type": "execute_result"
    }
   ],
   "source": [
    "let x = ref 42;;\n",
    "let y = ref 42;;\n",
    "let z = x;;\n",
    "x := 43;;\n",
    "let w = !y + !z;;"
   ]
  },
  {
   "cell_type": "markdown",
   "id": "aadd7fec",
   "metadata": {},
   "source": [
    "The result of executing that code is that `w` is bound to `85`, because\n",
    "`let z = x` causes `z` and `x` to become aliases, hence updating `x` to be `43`\n",
    "also causes `z` to be `43`.\n",
    "\n",
    "## Syntax and Semantics\n",
    "\n",
    "{{ video_embed | replace(\"%%VID%%\", \"ByV1N3hDgSw\")}}\n",
    "\n",
    "The semantics of refs is based on *locations* in memory. Locations are values\n",
    "that can be passed to and returned from functions. But unlike other values\n",
    "(e.g., integers, variants), there is no way to directly write a location in an\n",
    "OCaml program. That's different than languages like C, in which programmers can\n",
    "directly write memory addresses and do arithmetic on pointers. C programmers\n",
    "want that kind of low-level access to do things like interface with hardware and\n",
    "build operating systems. Higher-level programmers are willing to forego it to\n",
    "get *memory safety*. That's a hard term to define, but according to\n",
    "[Hicks 2014][memory-safety-hicks] it intuitively means that\n",
    "\n",
    "* pointers are only created in a safe way that defines their legal memory\n",
    "  region,\n",
    "\n",
    "* pointers can only be dereferenced if they point to their allotted memory\n",
    "  region,\n",
    "\n",
    "* that region is (still) defined.\n",
    "\n",
    "[memory-safety-hicks]: http://www.pl-enthusiast.net/2014/07/21/memory-safety/\n",
    "\n",
    "**Syntax.**\n",
    "\n",
    "* Ref creation: `ref e`\n",
    "\n",
    "* Ref assignment: `e1 := e2`\n",
    "\n",
    "* Dereference: `!e`\n",
    "\n",
    "**Dynamic semantics.**\n",
    "\n",
    "* To evaluate `ref e`,\n",
    "\n",
    "  - Evaluate `e` to a value `v`\n",
    "\n",
    "  - Allocate a new location `loc` in memory to hold `v`\n",
    "\n",
    "  - Store `v` in `loc`\n",
    "\n",
    "  - Return `loc`\n",
    "\n",
    "* To evaluate `e1 := e2`,\n",
    "\n",
    "  - Evaluate `e2` to a value `v`, and `e1` to a location `loc`.\n",
    "\n",
    "  - Store `v` in `loc`.\n",
    "\n",
    "  - Return `()`, i.e., unit.\n",
    "\n",
    "* To evaluate `!e`,\n",
    "\n",
    "  - Evaluate `e` to a location `loc`.\n",
    "\n",
    "  - Return the contents of `loc`.\n",
    "\n",
    "**Static semantics.**\n",
    "\n",
    "We have a new type constructor, `ref`, such that `t ref` is a type for any type\n",
    "`t`. Note that the `ref` keyword is used in two ways: as a type constructor, and\n",
    "as an expression that constructs refs.\n",
    "\n",
    "* `ref e : t ref` if  `e : t`.\n",
    "\n",
    "* `e1 := e2 : unit` if `e1 : t ref` and `e2 : t`.\n",
    "\n",
    "* `!e : t` if `e : t ref`.\n",
    "\n",
    "## Sequencing of Effects\n",
    "\n",
    "{{ video_embed | replace(\"%%VID%%\", \"aj0bpOyv7Gs\")}}\n",
    "\n",
    "The semicolon operator is used to sequence effects, such as mutating refs. We've\n",
    "seen semicolon occur previously with printing. Now that we're studying\n",
    "mutability, it's time to treat it formally.\n",
    "\n",
    "* **Syntax:** `e1; e2`\n",
    "\n",
    "* **Dynamic semantics:** To evaluate `e1; e2`,\n",
    "\n",
    "  - First evaluate `e1` to a value `v1`.\n",
    "\n",
    "  - Then evaluate `e2` to a value `v2`.\n",
    "\n",
    "  - Return `v2`.  (`v1` is not used at all.)\n",
    "\n",
    "  - If there are multiple expressions in a sequence, e.g., `e1; e2; ...; en`,\n",
    "    then evaluate each one in order from left to right, returning only `vn`.\n",
    "    Another way to think about this is that semicolon is right\n",
    "    associative&mdash;for example `e1; e2; e3` is the same as `e1; (e2; e3))`.\n",
    "\n",
    "* **Static semantics:** `e1; e2 : t` if `e1 : unit` and `e2 : t`. Similarly,\n",
    "  `e1; e2; ...; en : t` if `e1 : unit`, `e2 : unit`, ... (i.e., all expressions\n",
    "  except `en` have type `unit`), and `en : t`.\n",
    "\n",
    "The typing rule for semicolon is designed to prevent programmer mistakes. For\n",
    "example, a programmer who writes `2+3; 7` probably didn't mean to: there's no\n",
    "reason to evaluate `2+3` then throw away the result and instead return `7`. The\n",
    "compiler will give you a warning if you violate this particular typing rule.\n",
    "\n",
    "To get rid of the warning (if you're sure that's what you need to do), there's a\n",
    "function `ignore : 'a -> unit` in the standard library. Using it,\n",
    "`ignore(2+3); 7` will compile without a warning. Of course, you could code up\n",
    "`ignore` yourself: `let ignore _ = ()`.\n",
    "\n",
    "## Example: Mutable Counter\n",
    "\n",
    "{{ video_embed | replace(\"%%VID%%\", \"o5wFQvCRJsc\")}}\n",
    "\n",
    "Here is code that implements a *counter*. Every time `next_val` is called, it\n",
    "returns one more than the previous time."
   ]
  },
  {
   "cell_type": "code",
   "execution_count": 6,
   "id": "b8dbe46c",
   "metadata": {},
   "outputs": [
    {
     "data": {
      "text/plain": [
       "val counter : int ref = {contents = 0}\n"
      ]
     },
     "execution_count": 6,
     "metadata": {},
     "output_type": "execute_result"
    },
    {
     "data": {
      "text/plain": [
       "val next_val : unit -> int = <fun>\n"
      ]
     },
     "execution_count": 6,
     "metadata": {},
     "output_type": "execute_result"
    }
   ],
   "source": [
    "let counter = ref 0\n",
    "\n",
    "let next_val =\n",
    "  fun () ->\n",
    "    counter := !counter + 1;\n",
    "    !counter"
   ]
  },
  {
   "cell_type": "code",
   "execution_count": 7,
   "id": "73f31534",
   "metadata": {},
   "outputs": [
    {
     "data": {
      "text/plain": [
       "- : int = 1\n"
      ]
     },
     "execution_count": 7,
     "metadata": {},
     "output_type": "execute_result"
    }
   ],
   "source": [
    "next_val ()"
   ]
  },
  {
   "cell_type": "code",
   "execution_count": 8,
   "id": "ad230f52",
   "metadata": {},
   "outputs": [
    {
     "data": {
      "text/plain": [
       "- : int = 2\n"
      ]
     },
     "execution_count": 8,
     "metadata": {},
     "output_type": "execute_result"
    }
   ],
   "source": [
    "next_val ()"
   ]
  },
  {
   "cell_type": "code",
   "execution_count": 9,
   "id": "65e7dc42",
   "metadata": {},
   "outputs": [
    {
     "data": {
      "text/plain": [
       "- : int = 3\n"
      ]
     },
     "execution_count": 9,
     "metadata": {},
     "output_type": "execute_result"
    }
   ],
   "source": [
    "next_val ()"
   ]
  },
  {
   "cell_type": "markdown",
   "id": "63927c63",
   "metadata": {},
   "source": [
    "In the implementation of `next_val`, there are two expressions separated by\n",
    "semi-colon. The first expression, `counter := !counter + 1`, is an assignment\n",
    "that increments `counter` by 1. The second expression, `!counter`, returns the\n",
    "newly incremented contents of `counter`.\n",
    "\n",
    "The `next_val` function is unusual in that every time we call it, it returns a\n",
    "different value. That's quite different than any of the functions we've\n",
    "implemented ourselves so far, which have always been *deterministic*: for a\n",
    "given input, they always produced the same output. On the other hand, we've seen\n",
    "some library functions that are *nondeterministic*, for example, functions in\n",
    "the `Random` module, and `Stdlib.read_line`. It's no coincidence that those\n",
    "happen to be implemented using mutable features.\n",
    "\n",
    "We could improve our counter in a couple ways. First, there is a library\n",
    "function `incr : int ref -> unit` that increments an `int ref` by 1. Thus it is\n",
    "like the `++` operator that is familiar from many languages in the C family.\n",
    "Using it, we could write `incr counter` instead of `counter := !counter + 1`.\n",
    "(There's also a `decr` function that decrements by 1.)\n",
    "\n",
    "Second, the way we coded the counter currently exposes the `counter` variable to\n",
    "the outside world. Maybe we're prefer to hide it so that clients of `next_val`\n",
    "can't directly change it. We could do so by nesting `counter` inside the scope\n",
    "of `next_val`:"
   ]
  },
  {
   "cell_type": "code",
   "execution_count": 10,
   "id": "899571ff",
   "metadata": {},
   "outputs": [
    {
     "data": {
      "text/plain": [
       "val next_val : unit -> int = <fun>\n"
      ]
     },
     "execution_count": 10,
     "metadata": {},
     "output_type": "execute_result"
    }
   ],
   "source": [
    "let next_val =\n",
    "  let counter = ref 0 in\n",
    "  fun () ->\n",
    "    incr counter;\n",
    "    !counter"
   ]
  },
  {
   "cell_type": "markdown",
   "id": "0690e0d5",
   "metadata": {},
   "source": [
    "Now `counter` is in scope inside of `next_val`, but not accessible outside that\n",
    "scope.\n",
    "\n",
    "When we gave the dynamic semantics of let expressions before, we talked about\n",
    "substitution. One way to think about the definition of `next_val` is as follows.\n",
    "\n",
    "* First, the expression `ref 0` is evaluated. That returns a location `loc`,\n",
    "  which is an address in memory. The contents of that address are initialized to\n",
    "  `0`.\n",
    "\n",
    "* Second, everywhere in the body of the let expression that `counter` occurs, we\n",
    "  substitute for it that location. So we get:\n",
    "  ```\n",
    "  fun () -> incr loc; !loc\n",
    "  ```\n",
    "\n",
    "* Third, that anonymous function is bound to `next_val`.\n",
    "\n",
    "So any time `next_val` is called, it increments and returns the contents of that\n",
    "one memory location `loc`.\n",
    "\n",
    "Now imagine that we instead had written the following (broken) code:"
   ]
  },
  {
   "cell_type": "code",
   "execution_count": 11,
   "id": "82032b80",
   "metadata": {},
   "outputs": [
    {
     "data": {
      "text/plain": [
       "val next_val_broken : unit -> int = <fun>\n"
      ]
     },
     "execution_count": 11,
     "metadata": {},
     "output_type": "execute_result"
    }
   ],
   "source": [
    "let next_val_broken = fun () ->\n",
    "  let counter = ref 0 in\n",
    "  incr counter;\n",
    "  !counter"
   ]
  },
  {
   "cell_type": "markdown",
   "id": "1390b9ae",
   "metadata": {},
   "source": [
    "It's only a little different:  the binding of `counter` occurs after\n",
    "the `fun () ->` instead of before.  But it makes a huge difference:"
   ]
  },
  {
   "cell_type": "code",
   "execution_count": 12,
   "id": "6c1ec422",
   "metadata": {},
   "outputs": [
    {
     "data": {
      "text/plain": [
       "- : int = 1\n"
      ]
     },
     "execution_count": 12,
     "metadata": {},
     "output_type": "execute_result"
    },
    {
     "data": {
      "text/plain": [
       "- : int = 1\n"
      ]
     },
     "execution_count": 12,
     "metadata": {},
     "output_type": "execute_result"
    },
    {
     "data": {
      "text/plain": [
       "- : int = 1\n"
      ]
     },
     "execution_count": 12,
     "metadata": {},
     "output_type": "execute_result"
    }
   ],
   "source": [
    "next_val_broken ();;\n",
    "next_val_broken ();;\n",
    "next_val_broken ();;"
   ]
  },
  {
   "cell_type": "markdown",
   "id": "fcf85a4f",
   "metadata": {},
   "source": [
    "Every time we call `next_val_broken`, it returns `1`: we no longer have a\n",
    "counter. What's going wrong here?\n",
    "\n",
    "The problem is that every time `next_val_broken` is called, the first thing it\n",
    "does is to evaluate `ref 0` to a new location that is initialized to `0`. That\n",
    "location is then incremented to `1`, and `1` is returned. *Every* call to\n",
    "`next_val_broken` is thus allocating a new ref cell, whereas `next_val`\n",
    "allocates just *one* new ref cell.\n",
    "\n",
    "## Example: Pointers\n",
    "\n",
    "In languages like C, pointers combine two features: they can be null, and they\n",
    "can be changed. (Java has a similar construct with object references, but that\n",
    "term is confusing in our OCaml context since \"reference\" currently means a ref\n",
    "cell. So we'll stick with the word \"pointer\".) Let's code up pointers using\n",
    "OCaml ref cells."
   ]
  },
  {
   "cell_type": "code",
   "execution_count": 13,
   "id": "c39a31b3",
   "metadata": {},
   "outputs": [
    {
     "data": {
      "text/plain": [
       "type 'a pointer = 'a ref option\n"
      ]
     },
     "execution_count": 13,
     "metadata": {},
     "output_type": "execute_result"
    }
   ],
   "source": [
    "type 'a pointer = 'a ref option"
   ]
  },
  {
   "cell_type": "markdown",
   "id": "9cd69334",
   "metadata": {},
   "source": [
    "As usual, read that type right to left. The `option` part of it encodes the fact\n",
    "that a pointer might be null. We're using `None` to represent that possibility."
   ]
  },
  {
   "cell_type": "code",
   "execution_count": 14,
   "id": "f6ff168a",
   "metadata": {},
   "outputs": [
    {
     "data": {
      "text/plain": [
       "val null : 'a pointer = None\n"
      ]
     },
     "execution_count": 14,
     "metadata": {},
     "output_type": "execute_result"
    }
   ],
   "source": [
    "let null : 'a pointer = None"
   ]
  },
  {
   "cell_type": "markdown",
   "id": "a51c95f7",
   "metadata": {},
   "source": [
    "The `ref` part of the type encodes the fact that the contents are mutable. We\n",
    "can create a helper function to allocate and initialize the contents of a new\n",
    "pointer:"
   ]
  },
  {
   "cell_type": "code",
   "execution_count": 15,
   "id": "1519e55e",
   "metadata": {},
   "outputs": [
    {
     "data": {
      "text/plain": [
       "val malloc : 'a -> 'a pointer = <fun>\n"
      ]
     },
     "execution_count": 15,
     "metadata": {},
     "output_type": "execute_result"
    }
   ],
   "source": [
    "let malloc (x : 'a) : 'a pointer = Some (ref x)"
   ]
  },
  {
   "cell_type": "markdown",
   "id": "bb2c5577",
   "metadata": {},
   "source": [
    "Now we could create a pointer to any value we like:"
   ]
  },
  {
   "cell_type": "code",
   "execution_count": 16,
   "id": "16d9930e",
   "metadata": {},
   "outputs": [
    {
     "data": {
      "text/plain": [
       "val p : int pointer = Some {contents = 42}\n"
      ]
     },
     "execution_count": 16,
     "metadata": {},
     "output_type": "execute_result"
    }
   ],
   "source": [
    "let p = malloc 42"
   ]
  },
  {
   "cell_type": "markdown",
   "id": "3767390c",
   "metadata": {},
   "source": [
    "*Dereferencing* a pointer is the `*` prefix operator in C. It returns the\n",
    "contents of the pointer, and raises an exception if the pointer is null:"
   ]
  },
  {
   "cell_type": "code",
   "execution_count": 17,
   "id": "7c1653fe",
   "metadata": {},
   "outputs": [
    {
     "data": {
      "text/plain": [
       "exception Segfault\n"
      ]
     },
     "execution_count": 17,
     "metadata": {},
     "output_type": "execute_result"
    },
    {
     "data": {
      "text/plain": [
       "val deref : 'a pointer -> 'a = <fun>\n"
      ]
     },
     "execution_count": 17,
     "metadata": {},
     "output_type": "execute_result"
    }
   ],
   "source": [
    "exception Segfault\n",
    "\n",
    "let deref (ptr : 'a pointer) : 'a =\n",
    "  match ptr with None -> raise Segfault | Some r -> !r"
   ]
  },
  {
   "cell_type": "code",
   "execution_count": 18,
   "id": "926a0caa",
   "metadata": {},
   "outputs": [
    {
     "data": {
      "text/plain": [
       "- : int = 42\n"
      ]
     },
     "execution_count": 18,
     "metadata": {},
     "output_type": "execute_result"
    }
   ],
   "source": [
    "deref p"
   ]
  },
  {
   "cell_type": "code",
   "execution_count": 19,
   "id": "f8446fda",
   "metadata": {
    "tags": [
     "raises-exception"
    ]
   },
   "outputs": [
    {
     "ename": "error",
     "evalue": "runtime_error",
     "output_type": "error",
     "traceback": [
      "\u001b[31mException: Segfault.\nRaised at deref in file \"[17]\", line 4, characters 25-39\nCalled from Toploop.load_lambda in file \"toplevel/toploop.ml\", line 212, characters 17-27\n\u001b[0m"
     ]
    }
   ],
   "source": [
    "deref null"
   ]
  },
  {
   "cell_type": "markdown",
   "id": "9f90e767",
   "metadata": {},
   "source": [
    "We could even introduce our own OCaml operator for dereference. We have to put\n",
    "`~` in front of it to make it parse as a prefix operator, though."
   ]
  },
  {
   "cell_type": "code",
   "execution_count": 20,
   "id": "64f1547d",
   "metadata": {},
   "outputs": [
    {
     "data": {
      "text/plain": [
       "val ( ~* ) : 'a pointer -> 'a = <fun>\n"
      ]
     },
     "execution_count": 20,
     "metadata": {},
     "output_type": "execute_result"
    },
    {
     "data": {
      "text/plain": [
       "- : int = 42\n"
      ]
     },
     "execution_count": 20,
     "metadata": {},
     "output_type": "execute_result"
    }
   ],
   "source": [
    "let ( ~* ) = deref;;\n",
    "~*p"
   ]
  },
  {
   "cell_type": "markdown",
   "id": "83d61704",
   "metadata": {},
   "source": [
    "In C, an assignment through a pointer is written `*p = x`.  That changes\n",
    "the memory to which `p` points, making it contain `x`.  We can code up\n",
    "that operator as follows:"
   ]
  },
  {
   "cell_type": "code",
   "execution_count": 21,
   "id": "876cdc11",
   "metadata": {},
   "outputs": [
    {
     "data": {
      "text/plain": [
       "val assign : 'a pointer -> 'a -> unit = <fun>\n"
      ]
     },
     "execution_count": 21,
     "metadata": {},
     "output_type": "execute_result"
    }
   ],
   "source": [
    "let assign (ptr : 'a pointer) (x : 'a) : unit =\n",
    "  match ptr with None -> raise Segfault | Some r -> r := x"
   ]
  },
  {
   "cell_type": "code",
   "execution_count": 22,
   "id": "c8b131eb",
   "metadata": {},
   "outputs": [
    {
     "data": {
      "text/plain": [
       "- : int = 2\n"
      ]
     },
     "execution_count": 22,
     "metadata": {},
     "output_type": "execute_result"
    }
   ],
   "source": [
    "assign p 2;\n",
    "deref p"
   ]
  },
  {
   "cell_type": "code",
   "execution_count": 23,
   "id": "5b8833da",
   "metadata": {
    "tags": [
     "raises-exception"
    ]
   },
   "outputs": [
    {
     "ename": "error",
     "evalue": "runtime_error",
     "output_type": "error",
     "traceback": [
      "\u001b[31mException: Segfault.\nRaised at assign in file \"[21]\", line 2, characters 25-39\nCalled from Toploop.load_lambda in file \"toplevel/toploop.ml\", line 212, characters 17-27\n\u001b[0m"
     ]
    }
   ],
   "source": [
    "assign null 0"
   ]
  },
  {
   "cell_type": "markdown",
   "id": "1696e347",
   "metadata": {},
   "source": [
    "Again, we could introduce our own OCaml operator for that, though it's hard to\n",
    "pick a good symbol involving `*` and `=` that won't be misunderstood as\n",
    "involving multiplication:"
   ]
  },
  {
   "cell_type": "code",
   "execution_count": 24,
   "id": "d0e743b2",
   "metadata": {},
   "outputs": [
    {
     "data": {
      "text/plain": [
       "val ( =* ) : 'a pointer -> 'a -> unit = <fun>\n"
      ]
     },
     "execution_count": 24,
     "metadata": {},
     "output_type": "execute_result"
    },
    {
     "data": {
      "text/plain": [
       "- : unit = ()\n"
      ]
     },
     "execution_count": 24,
     "metadata": {},
     "output_type": "execute_result"
    },
    {
     "data": {
      "text/plain": [
       "- : int = 3\n"
      ]
     },
     "execution_count": 24,
     "metadata": {},
     "output_type": "execute_result"
    }
   ],
   "source": [
    "let ( =* ) = assign;;\n",
    "p =* 3;;\n",
    "~*p"
   ]
  },
  {
   "cell_type": "markdown",
   "id": "1f396abe",
   "metadata": {},
   "source": [
    "The one thing we can't do is treat a pointer as an integer. C allows that,\n",
    "including taking the address of a variable, which enables *pointer arithmetic*.\n",
    "That's great for efficiency, but also terrible because it leads to all kinds of\n",
    "program errors and security vulnerabilities.\n",
    "\n",
    "````{admonition} Evil Secret\n",
    "Okay that wasn't actually true what we just said, but this is dangerous\n",
    "knowledge that you really shouldn't even read.  There is an undocumented\n",
    "function `Obj.magic` that we could use to get a memory address of a ref:\n",
    "\n",
    "```ocaml\n",
    "let address (ptr : 'a pointer) : int =\n",
    "  match ptr with None -> 0 | Some r -> Obj.magic r\n",
    "\n",
    "let ( ~& ) = address\n",
    "```\n",
    "\n",
    "But you have to promise to never, ever use that function yourself, because it\n",
    "completely circumvents the safety of the OCaml type system. All bets are off if\n",
    "you do.\n",
    "````\n",
    "\n",
    "None of this pointer encoding is part of the OCaml standard library, because you\n",
    "don't need it. You can always use refs and options yourself as you need to.\n",
    "Coding as we just did above is not particularly idiomatic. The reason we did it\n",
    "was to illustrate the relationship between OCaml refs and C pointers\n",
    "(equivalently, Java references).\n",
    "\n",
    "## Example: Recursion Without Rec\n",
    "\n",
    "Here's a neat trick that's possible with refs:  we can build recursive functions\n",
    "without ever using the keyword `rec`.  Suppose we want to define a recursive\n",
    "function such as `fact`, which we would normally write as follows:"
   ]
  },
  {
   "cell_type": "code",
   "execution_count": 25,
   "id": "624c510d",
   "metadata": {},
   "outputs": [
    {
     "data": {
      "text/plain": [
       "val fact_rec : int -> int = <fun>\n"
      ]
     },
     "execution_count": 25,
     "metadata": {},
     "output_type": "execute_result"
    }
   ],
   "source": [
    "let rec fact_rec n = if n = 0 then 1 else n * fact_rec (n - 1)"
   ]
  },
  {
   "cell_type": "markdown",
   "id": "2831738c",
   "metadata": {},
   "source": [
    "We want to define that function without using `rec`.  We can begin by\n",
    "defining a ref to an obviously incorrect version of the function:"
   ]
  },
  {
   "cell_type": "code",
   "execution_count": 26,
   "id": "f4abc837",
   "metadata": {},
   "outputs": [
    {
     "data": {
      "text/plain": [
       "val fact0 : (int -> int) ref = {contents = <fun>}\n"
      ]
     },
     "execution_count": 26,
     "metadata": {},
     "output_type": "execute_result"
    }
   ],
   "source": [
    "let fact0 = ref (fun x -> x + 0)"
   ]
  },
  {
   "cell_type": "markdown",
   "id": "877373f7",
   "metadata": {},
   "source": [
    "The way in which `fact0` is incorrect is actually irrelevant. We just need it to\n",
    "have the right type. We could just as well have used `fun x -> x` instead of\n",
    "`fun x -> x + 0`.\n",
    "\n",
    "At this point, `fact0` clearly doesn't compute the factorial function.\n",
    "For example, $5!$ ought to be 120, but that's not what `fact0` computes:"
   ]
  },
  {
   "cell_type": "code",
   "execution_count": 27,
   "id": "be09483d",
   "metadata": {},
   "outputs": [
    {
     "data": {
      "text/plain": [
       "- : int = 5\n"
      ]
     },
     "execution_count": 27,
     "metadata": {},
     "output_type": "execute_result"
    }
   ],
   "source": [
    "!fact0 5"
   ]
  },
  {
   "cell_type": "markdown",
   "id": "aaeac8a4",
   "metadata": {},
   "source": [
    "Next, we write `fact` as usual, but without `rec`. At the place where we need to\n",
    "make the recursive call, we instead invoke the function stored inside `fact0`:"
   ]
  },
  {
   "cell_type": "code",
   "execution_count": 28,
   "id": "926f8c3b",
   "metadata": {},
   "outputs": [
    {
     "data": {
      "text/plain": [
       "val fact : int -> int = <fun>\n"
      ]
     },
     "execution_count": 28,
     "metadata": {},
     "output_type": "execute_result"
    }
   ],
   "source": [
    "let fact n = if n = 0 then 1 else n * !fact0 (n - 1)"
   ]
  },
  {
   "cell_type": "markdown",
   "id": "e76fbc73",
   "metadata": {},
   "source": [
    "Now `fact` does actually get the right answer for `0`, but not for `5`:"
   ]
  },
  {
   "cell_type": "code",
   "execution_count": 29,
   "id": "f792cc57",
   "metadata": {},
   "outputs": [
    {
     "data": {
      "text/plain": [
       "- : int = 1\n"
      ]
     },
     "execution_count": 29,
     "metadata": {},
     "output_type": "execute_result"
    },
    {
     "data": {
      "text/plain": [
       "- : int = 20\n"
      ]
     },
     "execution_count": 29,
     "metadata": {},
     "output_type": "execute_result"
    }
   ],
   "source": [
    "fact 0;;\n",
    "fact 5;;"
   ]
  },
  {
   "cell_type": "markdown",
   "id": "0534dc47",
   "metadata": {},
   "source": [
    "The reason it's not right for `5` is that the recursive call isn't actually\n",
    "to the right function.  We want the recursive call to go to `fact`, not to\n",
    "`fact0`.  **So here's the trick:** we mutate `fact0` to point to `fact`:"
   ]
  },
  {
   "cell_type": "code",
   "execution_count": 30,
   "id": "908ec534",
   "metadata": {},
   "outputs": [
    {
     "data": {
      "text/plain": [
       "- : unit = ()\n"
      ]
     },
     "execution_count": 30,
     "metadata": {},
     "output_type": "execute_result"
    }
   ],
   "source": [
    "fact0 := fact"
   ]
  },
  {
   "cell_type": "markdown",
   "id": "537dcaf4",
   "metadata": {},
   "source": [
    "Now when `fact` makes its recursive call and dereferences `fact0`, it gets\n",
    "back itself!  That makes the computation correct:"
   ]
  },
  {
   "cell_type": "code",
   "execution_count": 31,
   "id": "864bc747",
   "metadata": {},
   "outputs": [
    {
     "data": {
      "text/plain": [
       "- : int = 120\n"
      ]
     },
     "execution_count": 31,
     "metadata": {},
     "output_type": "execute_result"
    }
   ],
   "source": [
    "fact 5"
   ]
  },
  {
   "cell_type": "markdown",
   "id": "1e186255",
   "metadata": {},
   "source": [
    "Abstracting a little, here's what we did. We started with a function that is\n",
    "recursive:\n",
    "\n",
    "```ocaml\n",
    "let rec f x = ... f y ...\n",
    "```\n",
    "\n",
    "We rewrote it as follows:\n",
    "\n",
    "```ocaml\n",
    "let f0 = ref (fun x -> x)\n",
    "\n",
    "let f x = ... !f0 y ...\n",
    "\n",
    "f0 := f\n",
    "```\n",
    "\n",
    "Now `f` will compute the same result as it did in the version where we defined\n",
    "it with `rec`.\n",
    "\n",
    "What's happening here is sometimes called \"tying the recursive knot\": we update\n",
    "the reference to `f0` to point to `f`, such that when `f` dereferences `f0`, it\n",
    "gets itself back. The initial function to which we made `f0` point (in this case\n",
    "the identity function) doesn't really matter; it's just there as a placeholder\n",
    "until we tie the knot.\n",
    "\n",
    "## Weak Type Variables\n",
    "\n",
    "Perhaps you have already tried using the identity function to define `fact0`,\n",
    "as we mentioned above.  If so, you will have encountered this rather puzzling\n",
    "output:"
   ]
  },
  {
   "cell_type": "code",
   "execution_count": 32,
   "id": "b0f85538",
   "metadata": {},
   "outputs": [
    {
     "data": {
      "text/plain": [
       "val fact0 : ('_weak1 -> '_weak1) ref = {contents = <fun>}\n"
      ]
     },
     "execution_count": 32,
     "metadata": {},
     "output_type": "execute_result"
    }
   ],
   "source": [
    "let fact0 = ref (fun x -> x)"
   ]
  },
  {
   "cell_type": "markdown",
   "id": "5ab26977",
   "metadata": {},
   "source": [
    "What is this strange type for the identity function, `'_weak1 -> '_weak1`? Why\n",
    "isn't it the usual `'a -> 'a`?\n",
    "\n",
    "The answer has to do with a particularly tricky interaction between polymorphism\n",
    "and mutability. In a later chapter on interpreters, we'll learn how type\n",
    "inference works, and at that point we'll be able to explain the problem in\n",
    "detail. In short, allowing the type `'a -> 'a` for that ref would lead the\n",
    "possibility of programs that crash at run time because of type errors.\n",
    "\n",
    "For now, think about it this way: although the *value* stored in a ref cell is\n",
    "permitted to change, the *type* of that value is not. And if OCaml gave\n",
    "`ref (fun x -> x)` the type `('a -> 'a) ref`, then that cell could first store\n",
    "`fun x -> x + 1 : int -> int` but later store\n",
    "`fun x -> s ^ \"!\" : string -> string`. That would be the kind of change in type\n",
    "that is not allowed.\n",
    "\n",
    "So OCaml uses *weak type variables* to stand for unknown but not polymorphic\n",
    "types. These variables always start with `_weak`. Essentially, type inference\n",
    "for these is just not finished yet. Once you give OCaml enough information, it\n",
    "will finish type inference and replace the weak type variable with the actual\n",
    "type:"
   ]
  },
  {
   "cell_type": "code",
   "execution_count": 33,
   "id": "e547456f",
   "metadata": {},
   "outputs": [
    {
     "data": {
      "text/plain": [
       "- : '_weak1 -> '_weak1 = <fun>\n"
      ]
     },
     "execution_count": 33,
     "metadata": {},
     "output_type": "execute_result"
    }
   ],
   "source": [
    "!fact0"
   ]
  },
  {
   "cell_type": "code",
   "execution_count": 34,
   "id": "739c9437",
   "metadata": {},
   "outputs": [
    {
     "data": {
      "text/plain": [
       "- : int = 1\n"
      ]
     },
     "execution_count": 34,
     "metadata": {},
     "output_type": "execute_result"
    }
   ],
   "source": [
    "!fact0 1"
   ]
  },
  {
   "cell_type": "code",
   "execution_count": 35,
   "id": "48d7ba52",
   "metadata": {},
   "outputs": [
    {
     "data": {
      "text/plain": [
       "- : int -> int = <fun>\n"
      ]
     },
     "execution_count": 35,
     "metadata": {},
     "output_type": "execute_result"
    }
   ],
   "source": [
    "!fact0"
   ]
  },
  {
   "cell_type": "markdown",
   "id": "33c71461",
   "metadata": {},
   "source": [
    "After the application of `!fact0` to `1`, OCaml now knows that the function\n",
    "is meant to have type `int -> int`. So from then on, that's the only type\n",
    "at which it can be used. It can't, for example, be applied to a string."
   ]
  },
  {
   "cell_type": "code",
   "execution_count": 36,
   "id": "410014ec",
   "metadata": {
    "tags": [
     "raises-exception"
    ]
   },
   "outputs": [
    {
     "ename": "error",
     "evalue": "compile_error",
     "output_type": "error",
     "traceback": [
      "File \"[36]\", line 1, characters 7-14:\n1 | !fact0 \"camel\"\n           ^^^^^^^\nError: This expression has type string but an expression was expected of type\n         int\n"
     ]
    }
   ],
   "source": [
    "!fact0 \"camel\""
   ]
  },
  {
   "cell_type": "markdown",
   "id": "329ff062",
   "metadata": {},
   "source": [
    "If you would like to learn more about weak type variables right now, take a look\n",
    "at Section 2 of [*Relaxing the value restriction*][relaxing] by Jacques\n",
    "Garrigue, or [this section][weak] of the OCaml manual.\n",
    "\n",
    "[relaxing]: https://caml.inria.fr/pub/papers/garrigue-value_restriction-fiwflp04.pdf\n",
    "[weak]: https://ocaml.org/manual/polymorphism.html\n",
    "\n",
    "## Physical Equality\n",
    "\n",
    "OCaml has two equality operators, physical equality and structural equality. The\n",
    "[documentation][stdlib] of `Stdlib.(==)` explains physical equality:\n",
    "\n",
    "> `e1 == e2` tests for physical equality of `e1` and `e2`. On mutable types such\n",
    "> as references, arrays, byte sequences, records with mutable fields and objects\n",
    "> with mutable instance variables, `e1 == e2` is `true` if and only if physical\n",
    "> modification of `e1` also affects `e2`. On non-mutable types, the behavior of\n",
    "> `( == )` is implementation-dependent; however, it is guaranteed that\n",
    "> `e1 == e2` implies `compare e1 e2 = 0`.\n",
    "\n",
    "[stdlib]: https://ocaml.org/api/Stdlib.html\n",
    "\n",
    "One interpretation could be that `==` should be used only when comparing refs\n",
    "(and other mutable data types) to see whether they point to the same location in\n",
    "memory. Otherwise, don't use `==`.\n",
    "\n",
    "Structural equality is also explained in the documentation of `Stdlib.(=)`:\n",
    "\n",
    "> `e1 = e2` tests for structural equality of `e1` and `e2`. Mutable structures\n",
    "> (e.g. references and arrays) are equal if and only if their current contents\n",
    "> are structurally equal, even if the two mutable objects are not the same\n",
    "> physical object. Equality between functional values raises `Invalid_argument`.\n",
    "> Equality between cyclic data structures may not terminate.\n",
    "\n",
    "Structural equality is usually what you want to test. For refs, it checks\n",
    "whether the contents of the memory location are equal, regardless of whether\n",
    "they are the same location.\n",
    "\n",
    "The negation of physical equality is `!=`, and the negation of structural\n",
    "equality is `<>`. This can be hard to remember.\n",
    "\n",
    "Here are some examples involving equality and refs to illustrate the difference\n",
    "between structural equality (`=`) and physical equality (`==`):"
   ]
  },
  {
   "cell_type": "code",
   "execution_count": 37,
   "id": "b623b355",
   "metadata": {},
   "outputs": [
    {
     "data": {
      "text/plain": [
       "val r1 : int ref = {contents = 42}\n"
      ]
     },
     "execution_count": 37,
     "metadata": {},
     "output_type": "execute_result"
    },
    {
     "data": {
      "text/plain": [
       "val r2 : int ref = {contents = 42}\n"
      ]
     },
     "execution_count": 37,
     "metadata": {},
     "output_type": "execute_result"
    }
   ],
   "source": [
    "let r1 = ref 42\n",
    "let r2 = ref 42"
   ]
  },
  {
   "cell_type": "markdown",
   "id": "9a1067c7",
   "metadata": {},
   "source": [
    "A ref is physically equal to itself, but not to another ref that is a different\n",
    "location in memory:"
   ]
  },
  {
   "cell_type": "code",
   "execution_count": 38,
   "id": "86d4f8d3",
   "metadata": {},
   "outputs": [
    {
     "data": {
      "text/plain": [
       "- : bool = true\n"
      ]
     },
     "execution_count": 38,
     "metadata": {},
     "output_type": "execute_result"
    }
   ],
   "source": [
    "r1 == r1"
   ]
  },
  {
   "cell_type": "code",
   "execution_count": 39,
   "id": "0cb5f54b",
   "metadata": {},
   "outputs": [
    {
     "data": {
      "text/plain": [
       "- : bool = false\n"
      ]
     },
     "execution_count": 39,
     "metadata": {},
     "output_type": "execute_result"
    }
   ],
   "source": [
    "r1 == r2"
   ]
  },
  {
   "cell_type": "code",
   "execution_count": 40,
   "id": "7acf562c",
   "metadata": {},
   "outputs": [
    {
     "data": {
      "text/plain": [
       "- : bool = true\n"
      ]
     },
     "execution_count": 40,
     "metadata": {},
     "output_type": "execute_result"
    }
   ],
   "source": [
    "r1 != r2"
   ]
  },
  {
   "cell_type": "markdown",
   "id": "3d4b11b4",
   "metadata": {},
   "source": [
    "Two refs that are at different locations in memory but store structurally\n",
    "equal values are themselves structurally equal:"
   ]
  },
  {
   "cell_type": "code",
   "execution_count": 41,
   "id": "68ea27f0",
   "metadata": {},
   "outputs": [
    {
     "data": {
      "text/plain": [
       "- : bool = true\n"
      ]
     },
     "execution_count": 41,
     "metadata": {},
     "output_type": "execute_result"
    }
   ],
   "source": [
    "r1 = r1"
   ]
  },
  {
   "cell_type": "code",
   "execution_count": 42,
   "id": "56082700",
   "metadata": {},
   "outputs": [
    {
     "data": {
      "text/plain": [
       "- : bool = true\n"
      ]
     },
     "execution_count": 42,
     "metadata": {},
     "output_type": "execute_result"
    }
   ],
   "source": [
    "r1 = r2"
   ]
  },
  {
   "cell_type": "code",
   "execution_count": 43,
   "id": "5bed5960",
   "metadata": {},
   "outputs": [
    {
     "data": {
      "text/plain": [
       "- : bool = false\n"
      ]
     },
     "execution_count": 43,
     "metadata": {},
     "output_type": "execute_result"
    }
   ],
   "source": [
    "r1 <> r2"
   ]
  },
  {
   "cell_type": "markdown",
   "id": "1ac35b59",
   "metadata": {},
   "source": [
    "Two refs that store structurally unequal values are themselves structurally\n",
    "unequal:"
   ]
  },
  {
   "cell_type": "code",
   "execution_count": 44,
   "id": "535c90f8",
   "metadata": {},
   "outputs": [
    {
     "data": {
      "text/plain": [
       "- : bool = true\n"
      ]
     },
     "execution_count": 44,
     "metadata": {},
     "output_type": "execute_result"
    }
   ],
   "source": [
    "ref 42 <> ref 43"
   ]
  },
  {
   "cell_type": "markdown",
   "id": "1fe4cf88",
   "metadata": {},
   "source": [
    "## Example: Singly-linked Lists\n",
    "\n",
    "OCaml's built-in singly-linked lists are functional, not imperative. But we can\n",
    "code up imperative singly-linked lists, of course, with refs. (We could also use\n",
    "the pointers we invented above, but that only makes the code more complicated.)\n",
    "\n",
    "We start by defining a type `'a node` for nodes of a list that contains values\n",
    "of type `'a`.  The `next` field of a node is itself another list."
   ]
  },
  {
   "cell_type": "code",
   "execution_count": 45,
   "id": "28e8e14b",
   "metadata": {},
   "outputs": [
    {
     "data": {
      "text/plain": [
       "type 'a node = { next : 'a mlist; value : 'a; }\n",
       "and 'a mlist = 'a node option ref\n"
      ]
     },
     "execution_count": 45,
     "metadata": {},
     "output_type": "execute_result"
    }
   ],
   "source": [
    "(** An ['a node] is a node of a mutable singly-linked list. It contains a value\n",
    "    of type ['a] and a link to the [next] node. *)\n",
    "type 'a node = { next : 'a mlist; value : 'a }\n",
    "\n",
    "(** An ['a mlist] is a mutable singly-linked list with elements of type ['a].\n",
    "    The [option] represents the possibility that the list is empty.\n",
    "    RI: The list does not contain any cycles. *)\n",
    "and 'a mlist = 'a node option ref"
   ]
  },
  {
   "cell_type": "markdown",
   "id": "dff7df04",
   "metadata": {},
   "source": [
    "To create an empty list, we simply return a ref to `None`:"
   ]
  },
  {
   "cell_type": "code",
   "execution_count": 46,
   "id": "0237d5f3",
   "metadata": {},
   "outputs": [
    {
     "data": {
      "text/plain": [
       "val empty : unit -> 'a mlist = <fun>\n"
      ]
     },
     "execution_count": 46,
     "metadata": {},
     "output_type": "execute_result"
    }
   ],
   "source": [
    "(** [empty ()] is an empty singly-linked list. *)\n",
    "let empty () : 'a mlist = ref None"
   ]
  },
  {
   "cell_type": "markdown",
   "id": "a4f9716f",
   "metadata": {},
   "source": [
    "Note the type of `empty`: instead of being a value, it is now a function. This\n",
    "is typical of functions that create mutable data structures.\n",
    "\n",
    "Inserting a new first element just requires creating a new node, linking from\n",
    "it to the original list, and mutating the list:"
   ]
  },
  {
   "cell_type": "code",
   "execution_count": 47,
   "id": "56a8fa15",
   "metadata": {},
   "outputs": [
    {
     "data": {
      "text/plain": [
       "val insert_first : 'a mlist -> 'a -> unit = <fun>\n"
      ]
     },
     "execution_count": 47,
     "metadata": {},
     "output_type": "execute_result"
    }
   ],
   "source": [
    "(** [insert_first lst n] mutates mlist [lst] by inserting value [v] as the\n",
    "    first value in the list. *)\n",
    "let insert_first (lst : 'a mlist) (v : 'a) : unit =\n",
    "  lst := Some { next = ref !lst; value = v }"
   ]
  },
  {
   "cell_type": "markdown",
   "id": "2cdd639f",
   "metadata": {},
   "source": [
    "Again, note the type of `insert_first`. Rather than returning an `'a mlist`, it\n",
    "returns `unit`. This again is typical of functions that modify mutable data\n",
    "structures.\n",
    "\n",
    "In both `empty` and `insert_first`, the use of `unit` makes the functions more\n",
    "like their equivalents in an imperative language. The constructor for an empty\n",
    "list in Java, for example, might not take any arguments (which is equivalent to\n",
    "taking `unit`). And the `insert_first` operation for a Java linked list might\n",
    "return `void`, which is equivalent to returning `unit`.\n",
    "\n",
    "Finally, here's a conversion function from our new mutable lists to\n",
    "OCaml's built-in lists:"
   ]
  },
  {
   "cell_type": "code",
   "execution_count": 48,
   "id": "c3b2e45f",
   "metadata": {},
   "outputs": [
    {
     "data": {
      "text/plain": [
       "val to_list : 'a mlist -> 'a list = <fun>\n"
      ]
     },
     "execution_count": 48,
     "metadata": {},
     "output_type": "execute_result"
    }
   ],
   "source": [
    "(** [to_list lst] is an OCaml list containing the same values as [lst]\n",
    "    in the same order. Not tail recursive. *)\n",
    "let rec to_list (lst : 'a mlist) : 'a list =\n",
    "  match !lst with None -> [] | Some { next; value } -> value :: to_list next"
   ]
  },
  {
   "cell_type": "markdown",
   "id": "b83c7ac9",
   "metadata": {},
   "source": [
    "Now we can see mutability in action:"
   ]
  },
  {
   "cell_type": "code",
   "execution_count": 49,
   "id": "dea75cce",
   "metadata": {},
   "outputs": [
    {
     "data": {
      "text/plain": [
       "val lst0 : '_weak2 mlist = {contents = None}\n"
      ]
     },
     "execution_count": 49,
     "metadata": {},
     "output_type": "execute_result"
    },
    {
     "data": {
      "text/plain": [
       "val lst1 : '_weak2 mlist = {contents = None}\n"
      ]
     },
     "execution_count": 49,
     "metadata": {},
     "output_type": "execute_result"
    },
    {
     "data": {
      "text/plain": [
       "- : unit = ()\n"
      ]
     },
     "execution_count": 49,
     "metadata": {},
     "output_type": "execute_result"
    },
    {
     "data": {
      "text/plain": [
       "- : int list = [1]\n"
      ]
     },
     "execution_count": 49,
     "metadata": {},
     "output_type": "execute_result"
    }
   ],
   "source": [
    "let lst0 = empty ();;\n",
    "let lst1 = lst0;;\n",
    "insert_first lst0 1;;\n",
    "to_list lst1;;"
   ]
  },
  {
   "cell_type": "markdown",
   "id": "3c072eea",
   "metadata": {},
   "source": [
    "The change to `lst0` mutates `lst1`, because they are aliases."
   ]
  }
 ],
 "metadata": {
  "jupytext": {
   "cell_metadata_filter": "-all",
   "formats": "md:myst",
   "text_representation": {
    "extension": ".md",
    "format_name": "myst",
    "format_version": 0.13,
    "jupytext_version": "1.10.3"
   }
  },
  "kernelspec": {
   "display_name": "OCaml",
   "language": "OCaml",
   "name": "ocaml-jupyter"
  },
  "language_info": {
   "codemirror_mode": "text/x-ocaml",
   "file_extension": ".ml",
   "mimetype": "text/x-ocaml",
   "name": "OCaml",
   "nbconverter_exporter": null,
   "pygments_lexer": "OCaml",
   "version": "4.11.1"
  },
  "source_map": [
   14,
   27,
   30,
   33,
   36,
   38,
   78,
   84,
   204,
   213,
   217,
   221,
   223,
   249,
   255,
   280,
   285,
   290,
   294,
   313,
   315,
   320,
   322,
   328,
   330,
   334,
   336,
   341,
   348,
   352,
   355,
   360,
   363,
   369,
   374,
   379,
   382,
   388,
   392,
   428,
   430,
   435,
   437,
   446,
   448,
   453,
   455,
   459,
   462,
   468,
   470,
   475,
   477,
   511,
   513,
   537,
   541,
   545,
   547,
   553,
   556,
   601,
   604,
   609,
   612,
   615,
   617,
   622,
   625,
   628,
   630,
   635,
   637,
   648,
   657,
   661,
   664,
   672,
   677,
   692,
   697,
   701,
   706
  ]
 },
 "nbformat": 4,
 "nbformat_minor": 5
}