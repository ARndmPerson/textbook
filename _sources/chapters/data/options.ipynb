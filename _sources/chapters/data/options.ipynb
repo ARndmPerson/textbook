{
 "cells": [
  {
   "cell_type": "markdown",
   "id": "d5958178",
   "metadata": {},
   "source": [
    "# Options\n",
    "\n",
    "{{ video_embed | replace(\"%%VID%%\", \"lByoIw5wpao\")}}\n",
    "\n",
    "Suppose you want to write a function that *usually* returns a value of type `t`,\n",
    "but *sometimes* returns nothing. For example, you might want to define a\n",
    "function `list_max` that returns the maximum value in a list, but there's not a\n",
    "sensible thing to return on an empty list:\n",
    "\n",
    "```ocaml\n",
    "let rec list_max = function\n",
    "  | [] -> ???\n",
    "  | h :: t -> max h (list_max t)\n",
    "```\n",
    "\n",
    "There are a couple possibilities to consider:\n",
    "\n",
    " - Return `min_int`? But then `list_max` will only work for integers&mdash; not\n",
    "   floats or other types.\n",
    "\n",
    " - Raise an exception? But then the user of the function has to remember to\n",
    "   catch the exception.\n",
    "\n",
    " - Return `null`? That works in Java, but by design OCaml does not have a `null`\n",
    "   value. That's actually a good thing: null pointer bugs are not fun to debug.\n",
    "\n",
    "```{note}\n",
    "Sir Tony Hoare calls his invention of `null` a\n",
    "[\"billion-dollar mistake\"][null-mistake].\n",
    "```\n",
    "\n",
    "[null-mistake]: https://www.infoq.com/presentations/Null-References-The-Billion-Dollar-Mistake-Tony-Hoare/\n",
    "\n",
    "In addition to those possibilities, OCaml provides something even better called\n",
    "an *option.* (Haskellers will recognize options as the Maybe monad.)\n",
    "\n",
    "You can think of an option as being like a closed box. Maybe there's something\n",
    "inside the box, or maybe box is empty. We don't know which until we open the\n",
    "box. If there turns out to be something inside the box when we open it, we can\n",
    "take that thing out and use it. Thus, options provide a kind of \"maybe type,\"\n",
    "which ultimately is a kind of one-of type: the box is in one of two states, full\n",
    "or empty.\n",
    "\n",
    "In `list_max` above, we'd like to metaphorically return a box that's empty if\n",
    "the list is empty, or a box that contains the maximum element of the list if the\n",
    "list is non empty.\n",
    "\n",
    "Here's how we create an option that is like a box with `42` inside it:"
   ]
  },
  {
   "cell_type": "code",
   "execution_count": 1,
   "id": "b95d401f",
   "metadata": {},
   "outputs": [
    {
     "data": {
      "text/plain": [
       "- : int option = Some 42\n"
      ]
     },
     "execution_count": 1,
     "metadata": {},
     "output_type": "execute_result"
    }
   ],
   "source": [
    "Some 42"
   ]
  },
  {
   "cell_type": "markdown",
   "id": "c75a547f",
   "metadata": {},
   "source": [
    "And here's how we create an option that is like an empty box:"
   ]
  },
  {
   "cell_type": "code",
   "execution_count": 2,
   "id": "9cb95940",
   "metadata": {},
   "outputs": [
    {
     "data": {
      "text/plain": [
       "- : 'a option = None\n"
      ]
     },
     "execution_count": 2,
     "metadata": {},
     "output_type": "execute_result"
    }
   ],
   "source": [
    "None"
   ]
  },
  {
   "cell_type": "markdown",
   "id": "52ce1e4c",
   "metadata": {},
   "source": [
    "The `Some` means there's something inside the box, and it's `42`. The `None`\n",
    "means there's nothing inside the box.\n",
    "\n",
    "As for the types we see above, `t option` is a type for every type `t`, much\n",
    "like `t list` is a type for every type `t`. Values of type `t option` might\n",
    "contain a value of type `t`, or they might contain nothing. `None` has type\n",
    "`'a option` because it's unknown what the type is of the thing inside, as there\n",
    "isn't anything inside.\n",
    "\n",
    "You can access the contents of an option value `e` using pattern matching.\n",
    "Here's a function that extracts an `int` from an option, if there is one inside,\n",
    "and converts it to a string:"
   ]
  },
  {
   "cell_type": "code",
   "execution_count": 3,
   "id": "e4dee6ad",
   "metadata": {},
   "outputs": [
    {
     "data": {
      "text/plain": [
       "val extract : int option -> string = <fun>\n"
      ]
     },
     "execution_count": 3,
     "metadata": {},
     "output_type": "execute_result"
    }
   ],
   "source": [
    "let extract o =\n",
    "  match o with\n",
    "  | Some i -> string_of_int i\n",
    "  | None -> \"\";;"
   ]
  },
  {
   "cell_type": "markdown",
   "id": "6b4f4942",
   "metadata": {},
   "source": [
    "And here are a couple of example usages of that function:"
   ]
  },
  {
   "cell_type": "code",
   "execution_count": 4,
   "id": "f8a15981",
   "metadata": {},
   "outputs": [
    {
     "data": {
      "text/plain": [
       "- : string = \"42\"\n"
      ]
     },
     "execution_count": 4,
     "metadata": {},
     "output_type": "execute_result"
    },
    {
     "data": {
      "text/plain": [
       "- : string = \"\"\n"
      ]
     },
     "execution_count": 4,
     "metadata": {},
     "output_type": "execute_result"
    }
   ],
   "source": [
    "extract (Some 42);;\n",
    "extract None;;"
   ]
  },
  {
   "cell_type": "markdown",
   "id": "224612e7",
   "metadata": {},
   "source": [
    "Here's how we can write `list_max` with options:"
   ]
  },
  {
   "cell_type": "code",
   "execution_count": 5,
   "id": "13b791df",
   "metadata": {},
   "outputs": [
    {
     "data": {
      "text/plain": [
       "val list_max : 'a list -> 'a option = <fun>\n"
      ]
     },
     "execution_count": 5,
     "metadata": {},
     "output_type": "execute_result"
    }
   ],
   "source": [
    "let rec list_max = function\n",
    "  | [] -> None\n",
    "  | h :: t -> begin\n",
    "      match list_max t with\n",
    "        | None -> Some h\n",
    "        | Some m -> Some (max h m)\n",
    "      end"
   ]
  },
  {
   "cell_type": "markdown",
   "id": "19d83925",
   "metadata": {},
   "source": [
    "```{tip}\n",
    "The `begin`..`end` wrapping the nested pattern match above is not strictly\n",
    "required here but is not a bad habit, as it will head off potential syntax\n",
    "errors in more complicated code. The keywords `begin` and `end` are equivalent\n",
    "to `(` and `)`.\n",
    "```\n",
    "\n",
    "In Java, every object reference is implicitly an option. Either there is an\n",
    "object inside the reference, or there is nothing there. That \"nothing\" is\n",
    "represented by the value `null`. Java does not force programmers to explicitly\n",
    "check for the null case, which leads to null pointer exceptions. OCaml options\n",
    "force the programmer to include a branch in the pattern match for `None`, thus\n",
    "guaranteeing that the programmer thinks about the right thing to do when there's\n",
    "nothing there. So we can think of options as a principled way of eliminating\n",
    "`null` from the language. Using options is usually considered better coding\n",
    "practice than raising exceptions, because it forces the caller to do something\n",
    "sensible in the `None` case.\n",
    "\n",
    "**Syntax and semantics of options.**\n",
    "\n",
    " - `t option` is a type for every type `t`.\n",
    "\n",
    " - `None` is a value of type `'a option`.\n",
    "\n",
    " - `Some e` is an expression of type `t option` if `e : t`. If `e ==> v` then\n",
    "   `Some e ==> Some v`"
   ]
  }
 ],
 "metadata": {
  "jupytext": {
   "cell_metadata_filter": "-all",
   "formats": "md:myst",
   "text_representation": {
    "extension": ".md",
    "format_name": "myst",
    "format_version": 0.13,
    "jupytext_version": "1.10.3"
   }
  },
  "kernelspec": {
   "display_name": "OCaml",
   "language": "OCaml",
   "name": "ocaml-jupyter"
  },
  "language_info": {
   "codemirror_mode": "text/x-ocaml",
   "file_extension": ".ml",
   "mimetype": "text/x-ocaml",
   "name": "OCaml",
   "nbconverter_exporter": null,
   "pygments_lexer": "OCaml",
   "version": "4.11.1"
  },
  "source_map": [
   14,
   64,
   66,
   68,
   70,
   83,
   88,
   90,
   93,
   96,
   104
  ]
 },
 "nbformat": 4,
 "nbformat_minor": 5
}