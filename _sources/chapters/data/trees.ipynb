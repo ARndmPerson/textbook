{
 "cells": [
  {
   "cell_type": "markdown",
   "id": "dcd18983",
   "metadata": {},
   "source": [
    "# Example: Trees\n",
    "\n",
    "{{ video_embed | replace(\"%%VID%%\", \"WV9DGpRTAE0\")}}\n",
    "\n",
    "Trees are a very useful data structure. A *binary tree*, as you'll recall from\n",
    "CS 2110, is a node containing a value and two children that are trees. A binary\n",
    "tree can also be an empty tree, which we also use to represent the absence of a\n",
    "child node.\n",
    "\n",
    "## Representation with Tuples\n",
    "\n",
    "Here is a definition for a binary tree data type:"
   ]
  },
  {
   "cell_type": "code",
   "execution_count": 1,
   "id": "c32770a1",
   "metadata": {},
   "outputs": [
    {
     "data": {
      "text/plain": [
       "type 'a tree = Leaf | Node of 'a * 'a tree * 'a tree\n"
      ]
     },
     "execution_count": 1,
     "metadata": {},
     "output_type": "execute_result"
    }
   ],
   "source": [
    "type 'a tree =\n",
    "| Leaf\n",
    "| Node of 'a * 'a tree * 'a tree"
   ]
  },
  {
   "cell_type": "markdown",
   "id": "b0e5e059",
   "metadata": {},
   "source": [
    "A node carries a data item of type `'a` and has a left and right subtree.  A leaf\n",
    "is empty.  Compare this definition to the definition of a list and notice how\n",
    "similar their structure is:\n",
    "\n",
    "```ocaml\n",
    "type 'a tree =                        type 'a mylist =\n",
    "  | Leaf                                | Nil\n",
    "  | Node of 'a * 'a tree * 'a tree      | Cons of 'a * 'a mylist\n",
    "```\n",
    "\n",
    "The only essential difference is that `Cons` carries one sublist, whereas `Node`\n",
    "carries two subtrees.\n",
    "\n",
    "Here is code that constructs a small tree:"
   ]
  },
  {
   "cell_type": "code",
   "execution_count": 2,
   "id": "ab4dcbdb",
   "metadata": {},
   "outputs": [
    {
     "data": {
      "text/plain": [
       "val t : int tree =\n",
       "  Node (4, Node (2, Node (1, Leaf, Leaf), Node (3, Leaf, Leaf)),\n",
       "   Node (5, Node (6, Leaf, Leaf), Node (7, Leaf, Leaf)))\n"
      ]
     },
     "execution_count": 2,
     "metadata": {},
     "output_type": "execute_result"
    }
   ],
   "source": [
    "(* the code below constructs this tree:\n",
    "         4\n",
    "       /   \\\n",
    "      2     5\n",
    "     / \\   / \\\n",
    "    1   3 6   7\n",
    "*)\n",
    "let t =\n",
    "  Node(4,\n",
    "    Node(2,\n",
    "      Node(1, Leaf, Leaf),\n",
    "      Node(3, Leaf, Leaf)\n",
    "    ),\n",
    "    Node(5,\n",
    "      Node(6, Leaf, Leaf),\n",
    "      Node(7, Leaf, Leaf)\n",
    "    )\n",
    "  )"
   ]
  },
  {
   "cell_type": "markdown",
   "id": "87f72d68",
   "metadata": {},
   "source": [
    "The *size* of a tree is the number of nodes in it (that is, `Node`s, not\n",
    "`Leaf`s). For example, the size of tree `t` above is 7. Here is a function\n",
    "`size : 'a tree -> int` that returns the number of nodes in a tree:\n",
    "```\n",
    "let rec size = function\n",
    "  | Leaf -> 0\n",
    "  | Node (_, l, r) -> 1 + size l + size r\n",
    "```\n",
    "\n",
    "## Representation with Records\n",
    "\n",
    "Next, let's revise our tree type to use use a record type to represent a tree\n",
    "node. In OCaml we have to define two mutually recursive types, one to represent\n",
    "a tree node, and one to represent a (possibly empty) tree:"
   ]
  },
  {
   "cell_type": "code",
   "execution_count": 3,
   "id": "c285b123",
   "metadata": {},
   "outputs": [
    {
     "data": {
      "text/plain": [
       "type 'a tree = Leaf | Node of 'a node\n",
       "and 'a node = { value : 'a; left : 'a tree; right : 'a tree; }\n"
      ]
     },
     "execution_count": 3,
     "metadata": {},
     "output_type": "execute_result"
    }
   ],
   "source": [
    "type 'a tree =\n",
    "  | Leaf\n",
    "  | Node of 'a node\n",
    "\n",
    "and 'a node = {\n",
    "  value: 'a;\n",
    "  left: 'a tree;\n",
    "  right: 'a tree\n",
    "}"
   ]
  },
  {
   "cell_type": "markdown",
   "id": "d18f3b0c",
   "metadata": {},
   "source": [
    "Here's an example tree:"
   ]
  },
  {
   "cell_type": "code",
   "execution_count": 4,
   "id": "af16e30b",
   "metadata": {},
   "outputs": [
    {
     "data": {
      "text/plain": [
       "val t : int tree =\n",
       "  Node\n",
       "   {value = 2; left = Node {value = 1; left = Leaf; right = Leaf};\n",
       "    right = Node {value = 3; left = Leaf; right = Leaf}}\n"
      ]
     },
     "execution_count": 4,
     "metadata": {},
     "output_type": "execute_result"
    }
   ],
   "source": [
    "(* represents\n",
    "      2\n",
    "     / \\\n",
    "    1   3  *)\n",
    "let t =\n",
    "  Node {\n",
    "    value = 2;\n",
    "    left = Node {value = 1; left = Leaf; right = Leaf};\n",
    "    right = Node {value = 3; left = Leaf; right = Leaf}\n",
    "  }"
   ]
  },
  {
   "cell_type": "markdown",
   "id": "3ec550c0",
   "metadata": {},
   "source": [
    "We can use pattern matching to write the usual algorithms for recursively\n",
    "traversing trees. For example, here is a recursive search over the tree:"
   ]
  },
  {
   "cell_type": "code",
   "execution_count": 5,
   "id": "8ffd2667",
   "metadata": {},
   "outputs": [
    {
     "data": {
      "text/plain": [
       "val mem : 'a -> 'a tree -> bool = <fun>\n"
      ]
     },
     "execution_count": 5,
     "metadata": {},
     "output_type": "execute_result"
    }
   ],
   "source": [
    "(** [mem x t] is whether [x] is a value at some node in tree [t]. *)\n",
    "let rec mem x = function\n",
    "  | Leaf -> false\n",
    "  | Node {value; left; right} -> value = x || mem x left || mem x right"
   ]
  },
  {
   "cell_type": "markdown",
   "id": "9ac85c4c",
   "metadata": {},
   "source": [
    "The function name `mem` is short for \"member\"; the standard library often uses a\n",
    "function of this name to implement a search through a collection data structure\n",
    "to determine whether some element is a member of that collection.\n",
    "\n",
    "Here's a function that computes the *preorder* traversal of a tree, in which\n",
    "each node is visited before any of its children, by constructing a list in which\n",
    "the values occur in the order in which they would be visited:"
   ]
  },
  {
   "cell_type": "code",
   "execution_count": 6,
   "id": "be84c67f",
   "metadata": {},
   "outputs": [
    {
     "data": {
      "text/plain": [
       "val preorder : 'a tree -> 'a list = <fun>\n"
      ]
     },
     "execution_count": 6,
     "metadata": {},
     "output_type": "execute_result"
    }
   ],
   "source": [
    "let rec preorder = function\n",
    "  | Leaf -> []\n",
    "  | Node {value; left; right} -> [value] @ preorder left @ preorder right"
   ]
  },
  {
   "cell_type": "code",
   "execution_count": 7,
   "id": "9e03951a",
   "metadata": {},
   "outputs": [
    {
     "data": {
      "text/plain": [
       "- : int list = [2; 1; 3]\n"
      ]
     },
     "execution_count": 7,
     "metadata": {},
     "output_type": "execute_result"
    }
   ],
   "source": [
    "preorder t"
   ]
  },
  {
   "cell_type": "markdown",
   "id": "afbc9737",
   "metadata": {},
   "source": [
    "Although the algorithm is beautifully clear from the code above, it takes\n",
    "quadratic time on unbalanced trees because of the `@` operator.  That\n",
    "problem can be solved by introducing an extra argument `acc` to accumulate\n",
    "the values at each node, though at the expense of making the code less clear:"
   ]
  },
  {
   "cell_type": "code",
   "execution_count": 8,
   "id": "e99c7b87",
   "metadata": {},
   "outputs": [
    {
     "data": {
      "text/plain": [
       "val preorder_lin : 'a tree -> 'a list = <fun>\n"
      ]
     },
     "execution_count": 8,
     "metadata": {},
     "output_type": "execute_result"
    }
   ],
   "source": [
    "let preorder_lin t =\n",
    "  let rec pre_acc acc = function\n",
    "    | Leaf -> acc\n",
    "    | Node {value; left; right} -> value :: (pre_acc (pre_acc acc right) left)\n",
    "  in pre_acc [] t"
   ]
  },
  {
   "cell_type": "markdown",
   "id": "e552e5b6",
   "metadata": {},
   "source": [
    "The version above uses exactly one `::` operation per `Node` in the tree,\n",
    "making it linear time."
   ]
  }
 ],
 "metadata": {
  "jupytext": {
   "cell_metadata_filter": "-all",
   "formats": "md:myst",
   "text_representation": {
    "extension": ".md",
    "format_name": "myst",
    "format_version": 0.13,
    "jupytext_version": "1.10.3"
   }
  },
  "kernelspec": {
   "display_name": "OCaml",
   "language": "OCaml",
   "name": "ocaml-jupyter"
  },
  "language_info": {
   "codemirror_mode": "text/x-ocaml",
   "file_extension": ".ml",
   "mimetype": "text/x-ocaml",
   "name": "OCaml",
   "nbconverter_exporter": null,
   "pygments_lexer": "OCaml",
   "version": "4.14.0"
  },
  "source_map": [
   14,
   28,
   32,
   48,
   67,
   84,
   94,
   97,
   108,
   113,
   118,
   126,
   131,
   133,
   138,
   144
  ]
 },
 "nbformat": 4,
 "nbformat_minor": 5
}