{
 "cells": [
  {
   "cell_type": "markdown",
   "id": "df86a0b8",
   "metadata": {},
   "source": [
    "# Example: Natural Numbers\n",
    "\n",
    "We can define a recursive variant that acts like numbers, demonstrating that we\n",
    "don't really have to have numbers built into OCaml! (For sake of efficiency,\n",
    "though, it's a good thing they are.)\n",
    "\n",
    "A *natural number* is either *zero* or the *successor* of some other natural\n",
    "number. This is how you might define the natural numbers in a mathematical logic\n",
    "course, and it leads naturally to the following OCaml type `nat`:"
   ]
  },
  {
   "cell_type": "code",
   "execution_count": 1,
   "id": "fbf28b53",
   "metadata": {},
   "outputs": [
    {
     "data": {
      "text/plain": [
       "type nat = Zero | Succ of nat\n"
      ]
     },
     "execution_count": 1,
     "metadata": {},
     "output_type": "execute_result"
    }
   ],
   "source": [
    "type nat = Zero | Succ of nat"
   ]
  },
  {
   "cell_type": "markdown",
   "id": "f4ab7469",
   "metadata": {},
   "source": [
    "We have defined a new type `nat`, and `Zero` and `Succ` are constructors for\n",
    "values of this type. This allows us to build expressions that have an arbitrary\n",
    "number of nested `Succ` constructors. Such values act like natural numbers:"
   ]
  },
  {
   "cell_type": "code",
   "execution_count": 2,
   "id": "77d8460f",
   "metadata": {},
   "outputs": [
    {
     "data": {
      "text/plain": [
       "val zero : nat = Zero\n"
      ]
     },
     "execution_count": 2,
     "metadata": {},
     "output_type": "execute_result"
    },
    {
     "data": {
      "text/plain": [
       "val one : nat = Succ Zero\n"
      ]
     },
     "execution_count": 2,
     "metadata": {},
     "output_type": "execute_result"
    },
    {
     "data": {
      "text/plain": [
       "val two : nat = Succ (Succ Zero)\n"
      ]
     },
     "execution_count": 2,
     "metadata": {},
     "output_type": "execute_result"
    },
    {
     "data": {
      "text/plain": [
       "val three : nat = Succ (Succ (Succ Zero))\n"
      ]
     },
     "execution_count": 2,
     "metadata": {},
     "output_type": "execute_result"
    }
   ],
   "source": [
    "let zero = Zero\n",
    "let one = Succ zero\n",
    "let two = Succ one\n",
    "let three = Succ two\n",
    "let four = Succ three"
   ]
  },
  {
   "cell_type": "markdown",
   "id": "55e33775",
   "metadata": {},
   "source": [
    "Now we can write functions to manipulate values of this type.\n",
    "We'll write a lot of type annotations in the code below to help the reader\n",
    "keep track of which values are `nat` versus `int`; the compiler, of course,\n",
    "doesn't need our help."
   ]
  },
  {
   "cell_type": "code",
   "execution_count": 3,
   "id": "6fe37323",
   "metadata": {},
   "outputs": [
    {
     "data": {
      "text/plain": [
       "val iszero : nat -> bool = <fun>\n"
      ]
     },
     "execution_count": 3,
     "metadata": {},
     "output_type": "execute_result"
    },
    {
     "data": {
      "text/plain": [
       "val pred : nat -> nat = <fun>\n"
      ]
     },
     "execution_count": 3,
     "metadata": {},
     "output_type": "execute_result"
    }
   ],
   "source": [
    "let iszero = function\n",
    "  | Zero -> true\n",
    "  | Succ _ -> false\n",
    "\n",
    "let pred = function\n",
    "  | Zero -> failwith \"pred Zero is undefined\"\n",
    "  | Succ m -> m"
   ]
  },
  {
   "cell_type": "markdown",
   "id": "130993ab",
   "metadata": {},
   "source": [
    "Similarly we can define a function to add two numbers:"
   ]
  },
  {
   "cell_type": "code",
   "execution_count": 4,
   "id": "8261f13a",
   "metadata": {},
   "outputs": [
    {
     "data": {
      "text/plain": [
       "val add : nat -> nat -> nat = <fun>\n"
      ]
     },
     "execution_count": 4,
     "metadata": {},
     "output_type": "execute_result"
    }
   ],
   "source": [
    "let rec add n1 n2 =\n",
    "  match n1 with\n",
    "  | Zero -> n2\n",
    "  | Succ pred_n -> add pred_n (Succ n2)"
   ]
  },
  {
   "cell_type": "markdown",
   "id": "661ee2eb",
   "metadata": {},
   "source": [
    "We can convert `nat` values to type `int` and vice-versa:"
   ]
  },
  {
   "cell_type": "code",
   "execution_count": 5,
   "id": "f44e8767",
   "metadata": {},
   "outputs": [
    {
     "data": {
      "text/plain": [
       "val int_of_nat : nat -> int = <fun>\n"
      ]
     },
     "execution_count": 5,
     "metadata": {},
     "output_type": "execute_result"
    },
    {
     "data": {
      "text/plain": [
       "val nat_of_int : int -> nat = <fun>\n"
      ]
     },
     "execution_count": 5,
     "metadata": {},
     "output_type": "execute_result"
    }
   ],
   "source": [
    "let rec int_of_nat = function\n",
    "  | Zero -> 0\n",
    "  | Succ m -> 1 + int_of_nat m\n",
    "\n",
    "let rec nat_of_int = function\n",
    "  | i when i = 0 -> Zero\n",
    "  | i when i > 0 -> Succ (nat_of_int (i - 1))\n",
    "  | _ -> failwith \"nat_of_int is undefined on negative ints\""
   ]
  },
  {
   "cell_type": "markdown",
   "id": "654c19aa",
   "metadata": {},
   "source": [
    "To determine whether a natural number is even or odd, we can write a\n",
    "pair of mutually recursive functions:"
   ]
  },
  {
   "cell_type": "code",
   "execution_count": 6,
   "id": "d23599f5",
   "metadata": {},
   "outputs": [
    {
     "data": {
      "text/plain": [
       "val even : nat -> bool = <fun>\n",
       "val odd : nat -> bool = <fun>\n"
      ]
     },
     "execution_count": 6,
     "metadata": {},
     "output_type": "execute_result"
    }
   ],
   "source": [
    "let rec even = function Zero -> true | Succ m -> odd m\n",
    "and odd = function Zero -> false | Succ m -> even m"
   ]
  }
 ],
 "metadata": {
  "jupytext": {
   "cell_metadata_filter": "-all",
   "formats": "md:myst",
   "text_representation": {
    "extension": ".md",
    "format_name": "myst",
    "format_version": 0.13,
    "jupytext_version": "1.10.3"
   }
  },
  "kernelspec": {
   "display_name": "OCaml",
   "language": "OCaml",
   "name": "ocaml-jupyter"
  },
  "language_info": {
   "codemirror_mode": "text/x-ocaml",
   "file_extension": ".ml",
   "mimetype": "text/x-ocaml",
   "name": "OCaml",
   "nbconverter_exporter": null,
   "pygments_lexer": "OCaml",
   "version": "4.11.1"
  },
  "source_map": [
   14,
   25,
   27,
   32,
   38,
   45,
   53,
   57,
   62,
   65,
   74,
   79
  ]
 },
 "nbformat": 4,
 "nbformat_minor": 5
}