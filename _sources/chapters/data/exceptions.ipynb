{
 "cells": [
  {
   "cell_type": "markdown",
   "id": "d13a19a8",
   "metadata": {},
   "source": [
    "# Exceptions\n",
    "\n",
    "{{ video_embed | replace(\"%%VID%%\", \"0zZNEJvcZqg\")}}\n",
    "\n",
    "OCaml has an exception mechanism similar to many other programming languages. A\n",
    "new type of OCaml exception is defined with this syntax:\n",
    "```ocaml\n",
    "exception E of t\n",
    "```\n",
    "where `E` is a constructor name and `t` is a type. The `of t` is optional.\n",
    "Notice how this is similar to defining a constructor of a variant type. For\n",
    "example:"
   ]
  },
  {
   "cell_type": "code",
   "execution_count": 1,
   "id": "be0edc1a",
   "metadata": {},
   "outputs": [
    {
     "data": {
      "text/plain": [
       "exception A\n"
      ]
     },
     "execution_count": 1,
     "metadata": {},
     "output_type": "execute_result"
    },
    {
     "data": {
      "text/plain": [
       "exception B\n"
      ]
     },
     "execution_count": 1,
     "metadata": {},
     "output_type": "execute_result"
    },
    {
     "data": {
      "text/plain": [
       "exception Code of int\n"
      ]
     },
     "execution_count": 1,
     "metadata": {},
     "output_type": "execute_result"
    },
    {
     "data": {
      "text/plain": [
       "exception Details of string\n"
      ]
     },
     "execution_count": 1,
     "metadata": {},
     "output_type": "execute_result"
    }
   ],
   "source": [
    "exception A\n",
    "exception B\n",
    "exception Code of int\n",
    "exception Details of string"
   ]
  },
  {
   "cell_type": "markdown",
   "id": "5ac02d07",
   "metadata": {},
   "source": [
    "To create an exception value, use the same syntax you would for creating a\n",
    "variant value. Here, for example, is an exception value whose constructor is\n",
    "`Failure`, which carries a `string`:"
   ]
  },
  {
   "cell_type": "code",
   "execution_count": 2,
   "id": "89003c46",
   "metadata": {},
   "outputs": [
    {
     "data": {
      "text/plain": [
       "- : exn = Failure \"something went wrong\"\n"
      ]
     },
     "execution_count": 2,
     "metadata": {},
     "output_type": "execute_result"
    }
   ],
   "source": [
    "Failure \"something went wrong\""
   ]
  },
  {
   "cell_type": "markdown",
   "id": "e945570e",
   "metadata": {},
   "source": [
    "This constructor is [pre-defined in the standard library][stdlib-exn] and is one of the more common exceptions that\n",
    "OCaml programmers use.\n",
    "\n",
    "[stdlib-exn]: https://ocaml.org/manual/core.html#ss:predef-exn\n",
    "\n",
    "To raise an exception value `e`, simply write\n",
    "```ocaml\n",
    "raise e\n",
    "```\n",
    "\n",
    "There is a convenient function `failwith : string -> 'a` in the standard library\n",
    "that raises `Failure`. That is, `failwith s` is equivalent to\n",
    "`raise (Failure s)`.\n",
    "\n",
    "{{ video_embed | replace(\"%%VID%%\", \"XTdT1zdF2IY\")}}\n",
    "\n",
    "To catch an exception, use this syntax:\n",
    "```ocaml\n",
    "try e with\n",
    "| p1 -> e1\n",
    "| ...\n",
    "| pn -> en\n",
    "```\n",
    "The expression `e` is what might raise an exception. If it does not, the entire\n",
    "`try` expression evaluates to whatever `e` does. If `e` does raise an exception\n",
    "value `v`, that value `v` is matched against the provided patterns, exactly\n",
    "like `match` expression.\n",
    "\n",
    "## Exceptions are Extensible Variants\n",
    "\n",
    "All exception values have type `exn`, which is a variant defined in the\n",
    "[core][core]. It's an unusual kind of variant, though, called an *extensible*\n",
    "variant, which allows new constructors of the variant to be defined after the\n",
    "variant type itself is defined. See the OCaml manual for more information about\n",
    "[extensible variants][extvar] if you're interested.\n",
    "\n",
    "[core]: https://ocaml.org/manual/core.html\n",
    "[extvar]: https://ocaml.org/manual/extn.html\n",
    "\n",
    "## Exception Semantics\n",
    "\n",
    "Since they are just variants, the syntax and semantics of exceptions is already\n",
    "covered by the syntax and semantics of variants&mdash;with one exception (pun\n",
    "intended), which is the dynamic semantics of how exceptions are raised and\n",
    "handled.\n",
    "\n",
    "**Dynamic semantics.** As we originally said, every OCaml expression either\n",
    "\n",
    "* evaluates to a value\n",
    "\n",
    "* raises an exception\n",
    "\n",
    "* or fails to terminate (i.e., an \"infinite loop\").\n",
    "\n",
    "So far we've only presented the part of the dynamic semantics that handles the\n",
    "first of those three cases. What happens when we add exceptions? Now, evaluation\n",
    "of an expression either produces a value or produces an *exception packet*.\n",
    "Packets are not normal OCaml values; the only pieces of the language that\n",
    "recognizes them are `raise` and `try`. The exception value produced by (e.g.)\n",
    "`Failure \"oops\"` is part of the exception packet produced by\n",
    "`raise (Failure \"oops\")`, but the packet contains more than just the exception\n",
    "value; there can also be a stack trace, for example.\n",
    "\n",
    "For any expression `e` other than `try`, if evaluation of a subexpression of `e`\n",
    "produces an exception packet `P`, then evaluation of `e` produces packet `P`.\n",
    "\n",
    "But now we run into a problem for the first time: what order are subexpressions\n",
    "evaluated in? Sometimes the answer to that question is provided by the semantics\n",
    "we have already developed. For example, with let expressions, we know that the\n",
    "binding expression must be evaluated before the body expression. So the\n",
    "following code raises `A`:"
   ]
  },
  {
   "cell_type": "code",
   "execution_count": 3,
   "id": "19ff3bc7",
   "metadata": {
    "tags": [
     "raises-exception"
    ]
   },
   "outputs": [
    {
     "ename": "error",
     "evalue": "runtime_error",
     "output_type": "error",
     "traceback": [
      "\u001b[31mException: A.\nCalled from Stdlib__Fun.protect in file \"fun.ml\", line 33, characters 8-15\nRe-raised at Stdlib__Fun.protect in file \"fun.ml\", line 38, characters 6-52\nCalled from Topeval.load_lambda in file \"toplevel/byte/topeval.ml\", line 89, characters 4-150\n\u001b[0m"
     ]
    }
   ],
   "source": [
    "let _ = raise A in raise B;;"
   ]
  },
  {
   "cell_type": "markdown",
   "id": "fc772603",
   "metadata": {},
   "source": [
    "And with functions, OCaml does not officially specify the evaluation order of a function\n",
    "and its argument, but the current implementation evaluates the argument before the function.\n",
    "So the following code also raises `A`, in addition to producing some compiler warnings\n",
    "that the first expression will never actually be applied as a function to an\n",
    "argument:"
   ]
  },
  {
   "cell_type": "code",
   "execution_count": 4,
   "id": "af6e7a0b",
   "metadata": {
    "tags": [
     "raises-exception",
     "hide-output"
    ]
   },
   "outputs": [
    {
     "name": "stderr",
     "output_type": "stream",
     "text": [
      "File \"[4]\", line 1, characters 10-19:\n"
     ]
    },
    {
     "name": "stderr",
     "output_type": "stream",
     "text": [
      "1 | (raise B) (raise A)\n"
     ]
    },
    {
     "name": "stderr",
     "output_type": "stream",
     "text": [
      "              ^^^^^^^^^\n"
     ]
    },
    {
     "name": "stderr",
     "output_type": "stream",
     "text": [
      "Warning 20 [ignored-extra-argument]: this argument will not be used by the function.\n"
     ]
    },
    {
     "name": "stderr",
     "output_type": "stream",
     "text": [
      "File \"[4]\", line 1, characters 10-19:\n"
     ]
    },
    {
     "name": "stderr",
     "output_type": "stream",
     "text": [
      "1 | (raise B) (raise A)\n"
     ]
    },
    {
     "name": "stderr",
     "output_type": "stream",
     "text": [
      "              ^^^^^^^^^\n"
     ]
    },
    {
     "name": "stderr",
     "output_type": "stream",
     "text": [
      "Warning 20 [ignored-extra-argument]: this argument will not be used by the function.\n"
     ]
    },
    {
     "ename": "error",
     "evalue": "runtime_error",
     "output_type": "error",
     "traceback": [
      "\u001b[31mException: A.\nCalled from Stdlib__Fun.protect in file \"fun.ml\", line 33, characters 8-15\nRe-raised at Stdlib__Fun.protect in file \"fun.ml\", line 38, characters 6-52\nCalled from Topeval.load_lambda in file \"toplevel/byte/topeval.ml\", line 89, characters 4-150\n\u001b[0m"
     ]
    }
   ],
   "source": [
    "(raise B) (raise A)"
   ]
  },
  {
   "cell_type": "markdown",
   "id": "47e39eb1",
   "metadata": {},
   "source": [
    "It makes sense that both those pieces of code would raise the same exception,\n",
    "given that we know `let x = e1 in e2` is syntactic sugar for `(fun x -> e2) e1`.\n",
    "\n",
    "But what does the following code raise as an exception?"
   ]
  },
  {
   "cell_type": "code",
   "execution_count": 5,
   "id": "f662839d",
   "metadata": {
    "tags": [
     "raises-exception",
     "hide-output"
    ]
   },
   "outputs": [
    {
     "ename": "error",
     "evalue": "runtime_error",
     "output_type": "error",
     "traceback": [
      "\u001b[31mException: B.\nCalled from Stdlib__Fun.protect in file \"fun.ml\", line 33, characters 8-15\nRe-raised at Stdlib__Fun.protect in file \"fun.ml\", line 38, characters 6-52\nCalled from Topeval.load_lambda in file \"toplevel/byte/topeval.ml\", line 89, characters 4-150\n\u001b[0m"
     ]
    }
   ],
   "source": [
    "(raise A, raise B)"
   ]
  },
  {
   "cell_type": "markdown",
   "id": "14248706",
   "metadata": {},
   "source": [
    "The answer is nuanced. The language specification does not stipulate what order\n",
    "the components of pairs should be evaluated in. Nor did our semantics exactly\n",
    "determine the order. (Though you would be forgiven if you thought it was left to\n",
    "right.) So programmers actually cannot rely on that order. The current\n",
    "implementation of OCaml, as it turns out, evaluates right to left. So the code\n",
    "above actually raises `B`. If you really want to force the evaluation order, you\n",
    "need to use let expressions:"
   ]
  },
  {
   "cell_type": "code",
   "execution_count": 6,
   "id": "d90b37b0",
   "metadata": {
    "tags": [
     "raises-exception"
    ]
   },
   "outputs": [
    {
     "ename": "error",
     "evalue": "runtime_error",
     "output_type": "error",
     "traceback": [
      "\u001b[31mException: A.\nCalled from Stdlib__Fun.protect in file \"fun.ml\", line 33, characters 8-15\nRe-raised at Stdlib__Fun.protect in file \"fun.ml\", line 38, characters 6-52\nCalled from Topeval.load_lambda in file \"toplevel/byte/topeval.ml\", line 89, characters 4-150\n\u001b[0m"
     ]
    }
   ],
   "source": [
    "let a = raise A in\n",
    "let b = raise B in\n",
    "(a, b)"
   ]
  },
  {
   "cell_type": "markdown",
   "id": "393ec408",
   "metadata": {},
   "source": [
    "That code is guaranteed to raise `A` rather than `B`.\n",
    "\n",
    "One interesting corner case is what happens when a raise expression itself has\n",
    "a subexpression that raises:"
   ]
  },
  {
   "cell_type": "code",
   "execution_count": 7,
   "id": "1c500739",
   "metadata": {
    "tags": [
     "raises-exception"
    ]
   },
   "outputs": [
    {
     "data": {
      "text/plain": [
       "exception C of string\n"
      ]
     },
     "execution_count": 7,
     "metadata": {},
     "output_type": "execute_result"
    },
    {
     "data": {
      "text/plain": [
       "exception D of string\n"
      ]
     },
     "execution_count": 7,
     "metadata": {},
     "output_type": "execute_result"
    },
    {
     "ename": "error",
     "evalue": "runtime_error",
     "output_type": "error",
     "traceback": [
      "\u001b[31mException: D \"oops\".\nCalled from Stdlib__Fun.protect in file \"fun.ml\", line 33, characters 8-15\nRe-raised at Stdlib__Fun.protect in file \"fun.ml\", line 38, characters 6-52\nCalled from Topeval.load_lambda in file \"toplevel/byte/topeval.ml\", line 89, characters 4-150\n\u001b[0m"
     ]
    }
   ],
   "source": [
    "exception C of string;;\n",
    "exception D of string;;\n",
    "raise (C (raise (D \"oops\")))"
   ]
  },
  {
   "cell_type": "markdown",
   "id": "3b188287",
   "metadata": {},
   "source": [
    "That code ends up raising `D`, because the first thing that has to happen is to\n",
    "evaluate `C (raise (D \"oops\"))` to a value. Doing that requires evaluating\n",
    "`raise (D \"oops\")` to a value. Doing that causes a packet containing `D \"oops\"` to\n",
    "be produced, and that packet then propagates and becomes the result of\n",
    "evaluating `C (raise (D \"oops\"))`, hence the result of evaluating\n",
    "`raise (C (raise (D \"oops\")))`.\n",
    "\n",
    "Once evaluation of an expression produces an exception packet `P`, that packet\n",
    "propagates until it reaches a `try` expression:\n",
    "```ocaml\n",
    "try e with\n",
    "| p1 -> e1\n",
    "| ...\n",
    "| pn -> en\n",
    "```\n",
    "The exception value inside `P` is matched against the provided patterns using\n",
    "the usual evaluation rules for pattern matching&mdash;with one exception (again,\n",
    "pun intended). If none of the patterns matches, then instead of producing\n",
    "`Match_failure` inside a new exception packet, the original exception packet `P`\n",
    "continues propagating until the next `try` expression is reached.\n",
    "\n",
    "## Pattern Matching\n",
    "\n",
    "There is a pattern form for exceptions.  Here's an example\n",
    "of its usage:"
   ]
  },
  {
   "cell_type": "code",
   "execution_count": 8,
   "id": "ff1cfc4e",
   "metadata": {},
   "outputs": [
    {
     "data": {
      "text/plain": [
       "- : string = \"hd\"\n"
      ]
     },
     "execution_count": 8,
     "metadata": {},
     "output_type": "execute_result"
    }
   ],
   "source": [
    "match List.hd [] with\n",
    "  | [] -> \"empty\"\n",
    "  | _ :: _ -> \"non-empty\"\n",
    "  | exception (Failure s) -> s"
   ]
  },
  {
   "cell_type": "markdown",
   "id": "3ff12570",
   "metadata": {},
   "source": [
    "Note that the code above is just a standard `match` expression, not a `try`\n",
    "expression. It matches the value of `List.hd []` against the three provided\n",
    "patterns. As we know, `List.hd []` will raise an exception containing the value\n",
    "`Failure \"hd\"`. The *exception pattern* `exception (Failure s)` matches that\n",
    "value. So the above code will evaluate to `\"hd\"`.\n",
    "\n",
    "In general, exception patterns are a kind of syntactic sugar. Consider this\n",
    "code:\n",
    "```ocaml\n",
    "match e with\n",
    "  | p1 -> e1\n",
    "  | ...\n",
    "  | pn -> en\n",
    "```\n",
    "Some of the patterns `p1..pn` could be exception patterns of the form\n",
    "`exception q`. Let `q1..qn` be that subsequence of patterns (without the\n",
    "`exception` keyword), and let `r1..rm` be the subsequence of non-exception\n",
    "patterns. Then we can rewrite the code as:\n",
    "```ocaml\n",
    "try\n",
    "  match e with\n",
    "    | r1 -> e1\n",
    "    | ...\n",
    "    | rn -> en\n",
    "with\n",
    "  | q1 -> e1\n",
    "  | ...\n",
    "  | qm -> em\n",
    "```\n",
    "Which is to say: try evaluating `e`. If it produces an exception packet, use the\n",
    "exception patterns from the original match expression to handle that packet. If\n",
    "it doesn't produce an exception packet but instead produces a non-exception\n",
    "value, use the non-exception patterns from the original match expression to\n",
    "match that value.\n",
    "\n",
    "## Exceptions and OUnit\n",
    "\n",
    "If it is part of a function's specification that it raises an exception, you\n",
    "might want to write OUnit tests that check whether the function correctly does\n",
    "so. Here's how to do that:\n",
    "```ocaml\n",
    "open OUnit2\n",
    "\n",
    "let tests = \"suite\" >::: [\n",
    "    \"empty\" >:: (fun _ -> assert_raises (Failure \"hd\") (fun () -> List.hd []));\n",
    "  ]\n",
    "\n",
    "let _ = run_test_tt_main tests\n",
    "```\n",
    "The expression `assert_raises exc (fun () -> e)` checks to see whether\n",
    "expression `e` raises exception `exc`. If so, the OUnit test case succeeds,\n",
    "otherwise it fails.\n",
    "\n",
    "Note that the second argument of `assert_raises` is a *function* of type `unit\n",
    "-> 'a`, sometimes called a \"thunk\". It may seem strange to write a function with\n",
    "this type---the only possible input is `()`---but this is a common pattern in\n",
    "functional languages to suspend or delay the evaluation of a program. In this\n",
    "case, we want `assert_raises` to evaluate `List.hd []` when it is ready. If we\n",
    "evaluated `List.hd []` immediately, `assert_raises` would not be able to check\n",
    "if the right exception is raised. We'll learn more about thunks in a later\n",
    "chapter.\n",
    "\n",
    "```{warning}\n",
    "A common error is to forget the `(fun () -> ...)` around `e`. If you make this\n",
    "mistake, the program may still typecheck but the OUnit test case will fail:\n",
    "without the extra anonymous function, the exception is raised before\n",
    "`assert_raises` ever gets a chance to handle it.\n",
    "```"
   ]
  }
 ],
 "metadata": {
  "jupytext": {
   "cell_metadata_filter": "-all",
   "formats": "md:myst",
   "text_representation": {
    "extension": ".md",
    "format_name": "myst",
    "format_version": 0.13,
    "jupytext_version": "1.10.3"
   }
  },
  "kernelspec": {
   "display_name": "OCaml",
   "language": "OCaml",
   "name": "ocaml-jupyter"
  },
  "language_info": {
   "codemirror_mode": "text/x-ocaml",
   "file_extension": ".ml",
   "mimetype": "text/x-ocaml",
   "name": "OCaml",
   "nbconverter_exporter": null,
   "pygments_lexer": "OCaml",
   "version": "4.14.0"
  },
  "source_map": [
   14,
   28,
   33,
   38,
   40,
   112,
   115,
   121,
   124,
   129,
   132,
   140,
   145,
   150,
   155,
   181,
   186
  ]
 },
 "nbformat": 4,
 "nbformat_minor": 5
}