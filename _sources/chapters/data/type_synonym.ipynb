{
 "cells": [
  {
   "cell_type": "markdown",
   "id": "d3db1c70",
   "metadata": {},
   "source": [
    "# Type Synonyms\n",
    "\n",
    "A *type synonym* is a new name for an already existing type. For example, here\n",
    "are some type synonyms that might be useful in representing some types from\n",
    "linear algebra:"
   ]
  },
  {
   "cell_type": "code",
   "execution_count": 1,
   "id": "f6ae2f47",
   "metadata": {},
   "outputs": [
    {
     "data": {
      "text/plain": [
       "type point = float * float\n"
      ]
     },
     "execution_count": 1,
     "metadata": {},
     "output_type": "execute_result"
    },
    {
     "data": {
      "text/plain": [
       "type vector = float list\n"
      ]
     },
     "execution_count": 1,
     "metadata": {},
     "output_type": "execute_result"
    },
    {
     "data": {
      "text/plain": [
       "type matrix = float list list\n"
      ]
     },
     "execution_count": 1,
     "metadata": {},
     "output_type": "execute_result"
    }
   ],
   "source": [
    "type point = float * float\n",
    "type vector = float list\n",
    "type matrix = float list list"
   ]
  },
  {
   "cell_type": "markdown",
   "id": "0acaf099",
   "metadata": {},
   "source": [
    "Anywhere that a `float * float` is expected, you could use `point`, and\n",
    "vice-versa. The two are completely exchangeable for one another. In the\n",
    "following code, `get_x` doesn't care whether you pass it a value that is\n",
    "annotated as one vs. the other:"
   ]
  },
  {
   "cell_type": "code",
   "execution_count": 2,
   "id": "a9b6941c",
   "metadata": {},
   "outputs": [
    {
     "data": {
      "text/plain": [
       "val get_x : 'a * 'b -> 'a = <fun>\n"
      ]
     },
     "execution_count": 2,
     "metadata": {},
     "output_type": "execute_result"
    },
    {
     "data": {
      "text/plain": [
       "val p1 : point = (1., 2.)\n"
      ]
     },
     "execution_count": 2,
     "metadata": {},
     "output_type": "execute_result"
    },
    {
     "data": {
      "text/plain": [
       "val p2 : float * float = (1., 3.)\n"
      ]
     },
     "execution_count": 2,
     "metadata": {},
     "output_type": "execute_result"
    },
    {
     "data": {
      "text/plain": [
       "val a : float = 1.\n"
      ]
     },
     "execution_count": 2,
     "metadata": {},
     "output_type": "execute_result"
    },
    {
     "data": {
      "text/plain": [
       "val b : float = 1.\n"
      ]
     },
     "execution_count": 2,
     "metadata": {},
     "output_type": "execute_result"
    }
   ],
   "source": [
    "let get_x = fun (x, _) -> x\n",
    "\n",
    "let p1 : point = (1., 2.)\n",
    "let p2 : float * float = (1., 3.)\n",
    "\n",
    "let a = get_x p1\n",
    "let b = get_x p2"
   ]
  },
  {
   "cell_type": "markdown",
   "id": "b07baaf9",
   "metadata": {},
   "source": [
    "Type synonyms are useful because they let us give descriptive names to complex\n",
    "types. They are a way of making code more self-documenting."
   ]
  }
 ],
 "metadata": {
  "jupytext": {
   "cell_metadata_filter": "-all",
   "formats": "md:myst",
   "text_representation": {
    "extension": ".md",
    "format_name": "myst",
    "format_version": 0.13,
    "jupytext_version": "1.10.3"
   }
  },
  "kernelspec": {
   "display_name": "OCaml",
   "language": "OCaml",
   "name": "ocaml-jupyter"
  },
  "language_info": {
   "codemirror_mode": "text/x-ocaml",
   "file_extension": ".ml",
   "mimetype": "text/x-ocaml",
   "name": "OCaml",
   "nbconverter_exporter": null,
   "pygments_lexer": "OCaml",
   "version": "4.12.0"
  },
  "source_map": [
   14,
   21,
   25,
   32,
   40
  ]
 },
 "nbformat": 4,
 "nbformat_minor": 5
}