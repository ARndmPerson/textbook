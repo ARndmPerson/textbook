{
 "cells": [
  {
   "cell_type": "markdown",
   "id": "7225756b",
   "metadata": {},
   "source": [
    "# Higher-Order Programming\n",
    "\n",
    "Functions are values just like any other value in OCaml. What does that mean\n",
    "exactly? This means that we can pass functions around as arguments to other\n",
    "functions, that we can store functions in data structures, that we can return\n",
    "functions as a result from other functions.\n",
    "\n",
    "Let us look at why it is useful to have higher-order functions. The first reason\n",
    "is that it allows you to write general, reusable code. Consider these functions\n",
    "`double` and `square` on integers:"
   ]
  },
  {
   "cell_type": "code",
   "execution_count": 1,
   "id": "cbfd1b85",
   "metadata": {},
   "outputs": [
    {
     "data": {
      "text/plain": [
       "val double : int -> int = <fun>\n"
      ]
     },
     "execution_count": 1,
     "metadata": {},
     "output_type": "execute_result"
    },
    {
     "data": {
      "text/plain": [
       "val square : int -> int = <fun>\n"
      ]
     },
     "execution_count": 1,
     "metadata": {},
     "output_type": "execute_result"
    }
   ],
   "source": [
    "let double x = 2 * x\n",
    "let square x = x * x"
   ]
  },
  {
   "cell_type": "markdown",
   "id": "118683e9",
   "metadata": {},
   "source": [
    "Let's use these functions to write other functions that\n",
    "quadruple and raise a number to the fourth power:"
   ]
  },
  {
   "cell_type": "code",
   "execution_count": 2,
   "id": "956b502d",
   "metadata": {},
   "outputs": [
    {
     "data": {
      "text/plain": [
       "val quad : int -> int = <fun>\n"
      ]
     },
     "execution_count": 2,
     "metadata": {},
     "output_type": "execute_result"
    },
    {
     "data": {
      "text/plain": [
       "val fourth : int -> int = <fun>\n"
      ]
     },
     "execution_count": 2,
     "metadata": {},
     "output_type": "execute_result"
    }
   ],
   "source": [
    "let quad x = double (double x)\n",
    "let fourth x = square (square x)"
   ]
  },
  {
   "cell_type": "markdown",
   "id": "691e5032",
   "metadata": {},
   "source": [
    "There is an obvious similarity between these two functions: what they do\n",
    "is apply a given function twice to a value. By passing in the function\n",
    "to another function `twice` as an argument, we can abstract this\n",
    "functionality:"
   ]
  },
  {
   "cell_type": "code",
   "execution_count": 3,
   "id": "93e097d5",
   "metadata": {},
   "outputs": [
    {
     "data": {
      "text/plain": [
       "val twice : ('a -> 'a) -> 'a -> 'a = <fun>\n"
      ]
     },
     "execution_count": 3,
     "metadata": {},
     "output_type": "execute_result"
    }
   ],
   "source": [
    "let twice f x = f (f x)"
   ]
  },
  {
   "cell_type": "markdown",
   "id": "14abe73e",
   "metadata": {},
   "source": [
    "Using `twice`, we can implement `quad` and `fourth` in a uniform way:"
   ]
  },
  {
   "cell_type": "code",
   "execution_count": 4,
   "id": "41317ef3",
   "metadata": {},
   "outputs": [
    {
     "data": {
      "text/plain": [
       "val quad : int -> int = <fun>\n"
      ]
     },
     "execution_count": 4,
     "metadata": {},
     "output_type": "execute_result"
    },
    {
     "data": {
      "text/plain": [
       "val fourth : int -> int = <fun>\n"
      ]
     },
     "execution_count": 4,
     "metadata": {},
     "output_type": "execute_result"
    }
   ],
   "source": [
    "let quad x = twice double x\n",
    "let fourth x = twice square x"
   ]
  },
  {
   "cell_type": "markdown",
   "id": "7debae3f",
   "metadata": {},
   "source": [
    "*Higher-order functions* either take other functions as input or return\n",
    "other functions as output (or both).  The function `twice` is higher-order:\n",
    "its input `f` is a function.  And&mdash;recalling that all OCaml functions\n",
    "really take only a single argument&mdash;its output is technically\n",
    "`fun x -> f (f x)`, so `twice` returns a function hence is also higher-order\n",
    "in that way.  Higher-order functions are also known as *functionals*, and\n",
    "programming with them could be called *functional programming*&mdash;indicating\n",
    "what the heart of programming in languages like OCaml is all about.\n",
    "\n",
    "\n",
    "\n",
    "```{toctree}\n",
    ":hidden:\n",
    ":titlesonly:\n",
    "\n",
    "\n",
    "higher_order.md\n",
    "abstraction_principle.md\n",
    "famous_hof.md\n",
    "pipelining.md\n",
    "currying.md\n",
    "summary.md\n",
    "```"
   ]
  }
 ],
 "metadata": {
  "jupytext": {
   "cell_metadata_filter": "-all",
   "formats": "md:myst",
   "text_representation": {
    "extension": ".md",
    "format_name": "myst",
    "format_version": 0.13,
    "jupytext_version": "1.10.3"
   }
  },
  "kernelspec": {
   "display_name": "OCaml",
   "language": "OCaml",
   "name": "ocaml-jupyter"
  },
  "language_info": {
   "codemirror_mode": "text/x-ocaml",
   "file_extension": ".ml",
   "mimetype": "text/x-ocaml",
   "name": "OCaml",
   "nbconverter_exporter": null,
   "pygments_lexer": "OCaml",
   "version": "4.11.1"
  },
  "source_map": [
   14,
   27,
   30,
   34,
   37,
   44,
   46,
   50,
   53
  ]
 },
 "nbformat": 4,
 "nbformat_minor": 5
}