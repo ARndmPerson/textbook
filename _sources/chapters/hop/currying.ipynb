{
 "cells": [
  {
   "cell_type": "markdown",
   "id": "ba159aba",
   "metadata": {},
   "source": [
    "# Currying\n",
    "\n",
    "We've already seen that an OCaml function that takes two arguments of types `t1`\n",
    "and `t2` and returns a value of type `t3` has the type `t1 -> t2 -> t3`. We use\n",
    "two variables after the function name in the let expression:"
   ]
  },
  {
   "cell_type": "code",
   "execution_count": 1,
   "id": "5449c83b",
   "metadata": {},
   "outputs": [
    {
     "data": {
      "text/plain": [
       "val add : int -> int -> int = <fun>\n"
      ]
     },
     "execution_count": 1,
     "metadata": {},
     "output_type": "execute_result"
    }
   ],
   "source": [
    "let add x y = x + y"
   ]
  },
  {
   "cell_type": "markdown",
   "id": "f92e3e23",
   "metadata": {},
   "source": [
    "Another way to define a function that takes two arguments is to write a function\n",
    "that takes a tuple:"
   ]
  },
  {
   "cell_type": "code",
   "execution_count": 2,
   "id": "071b8a1d",
   "metadata": {},
   "outputs": [
    {
     "data": {
      "text/plain": [
       "val add' : int * int -> int = <fun>\n"
      ]
     },
     "execution_count": 2,
     "metadata": {},
     "output_type": "execute_result"
    }
   ],
   "source": [
    "let add' t = fst t + snd t"
   ]
  },
  {
   "cell_type": "markdown",
   "id": "52beaa5c",
   "metadata": {},
   "source": [
    "Instead of using `fst` and `snd`, we could use a tuple pattern in the\n",
    "definition of the function, leading to a third implementation:"
   ]
  },
  {
   "cell_type": "code",
   "execution_count": 3,
   "id": "bf378780",
   "metadata": {},
   "outputs": [
    {
     "data": {
      "text/plain": [
       "val add'' : int * int -> int = <fun>\n"
      ]
     },
     "execution_count": 3,
     "metadata": {},
     "output_type": "execute_result"
    }
   ],
   "source": [
    "let add'' (x, y) = x + y"
   ]
  },
  {
   "cell_type": "markdown",
   "id": "59f135dd",
   "metadata": {},
   "source": [
    "Functions written using the first style (with type `t1 -> t2 -> t3`) are called\n",
    "*curried* functions, and functions using the second style (with type\n",
    "`t1 * t2 -> t3`) are called *uncurried*. Metaphorically, curried functions are\n",
    "\"spicier\" because you can partially apply them (something you can't do with\n",
    "uncurried functions: you can't pass in half of a pair). Actually, the term curry\n",
    "does not refer to spices, but to a logician named [Haskell Curry][curry] (one of\n",
    "a very small set of people with programming languages named after both their\n",
    "first and last names).\n",
    "\n",
    "[curry]: https://en.wikipedia.org/wiki/Haskell_Curry\n",
    "\n",
    "Sometimes you will come across libraries that offer an uncurried version of a\n",
    "function, but you want a curried version of it to use in your own code; or vice\n",
    "versa. So it is useful to know how to convert between the two kinds of\n",
    "functions, as we did with `add` above.\n",
    "\n",
    "You could even write a couple of higher-order functions to do the conversion\n",
    "for you:"
   ]
  },
  {
   "cell_type": "code",
   "execution_count": 4,
   "id": "2f02f2ef",
   "metadata": {},
   "outputs": [
    {
     "data": {
      "text/plain": [
       "val curry : ('a * 'b -> 'c) -> 'a -> 'b -> 'c = <fun>\n"
      ]
     },
     "execution_count": 4,
     "metadata": {},
     "output_type": "execute_result"
    },
    {
     "data": {
      "text/plain": [
       "val uncurry : ('a -> 'b -> 'c) -> 'a * 'b -> 'c = <fun>\n"
      ]
     },
     "execution_count": 4,
     "metadata": {},
     "output_type": "execute_result"
    }
   ],
   "source": [
    "let curry f x y = f (x, y)\n",
    "let uncurry f (x, y) = f x y"
   ]
  },
  {
   "cell_type": "code",
   "execution_count": 5,
   "id": "1d12957f",
   "metadata": {},
   "outputs": [
    {
     "data": {
      "text/plain": [
       "val uncurried_add : int * int -> int = <fun>\n"
      ]
     },
     "execution_count": 5,
     "metadata": {},
     "output_type": "execute_result"
    },
    {
     "data": {
      "text/plain": [
       "val curried_add : int -> int -> int = <fun>\n"
      ]
     },
     "execution_count": 5,
     "metadata": {},
     "output_type": "execute_result"
    }
   ],
   "source": [
    "let uncurried_add = uncurry add\n",
    "let curried_add = curry add''"
   ]
  }
 ],
 "metadata": {
  "jupytext": {
   "cell_metadata_filter": "-all",
   "formats": "md:myst",
   "text_representation": {
    "extension": ".md",
    "format_name": "myst",
    "format_version": 0.13,
    "jupytext_version": "1.10.3"
   }
  },
  "kernelspec": {
   "display_name": "OCaml",
   "language": "OCaml",
   "name": "ocaml-jupyter"
  },
  "language_info": {
   "codemirror_mode": "text/x-ocaml",
   "file_extension": ".ml",
   "mimetype": "text/x-ocaml",
   "name": "OCaml",
   "nbconverter_exporter": null,
   "pygments_lexer": "OCaml",
   "version": "4.14.0"
  },
  "source_map": [
   14,
   22,
   24,
   29,
   31,
   36,
   38,
   59,
   64
  ]
 },
 "nbformat": 4,
 "nbformat_minor": 5
}