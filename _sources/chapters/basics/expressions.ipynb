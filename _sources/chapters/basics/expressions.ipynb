{
 "cells": [
  {
   "cell_type": "markdown",
   "id": "c192d0d2",
   "metadata": {},
   "source": [
    "# Expressions\n",
    "\n",
    "The primary piece of OCaml syntax is the *expression*. Just like programs in\n",
    "imperative languages are primarily built out of *commands*, programs in\n",
    "functional languages are primarily built out of expressions. Examples of\n",
    "expressions include `2+2` and `increment 21`.\n",
    "\n",
    "The OCaml manual has a complete definition of [all the expressions in the\n",
    "language][exprs]. Though that page starts with a rather cryptic overview, if you\n",
    "scroll down, you'll come to some English explanations. Don't worry about\n",
    "studying that page now; just know that it's available for reference.\n",
    "\n",
    "[exprs]:  https://ocaml.org/manual/expr.html\n",
    "\n",
    "The primary task of computation in a functional language is to *evaluate* an\n",
    "expression to a *value*. A value is an expression for which there is no\n",
    "computation remaining to be performed. So, all values are expressions, but not\n",
    "all expressions are values. Examples of values include `2`, `true`, and\n",
    "`\"yay!\"`.\n",
    "\n",
    "The OCaml manual also has a definition of [all the values][values], though\n",
    "again, that page is mostly useful for reference rather than study.\n",
    "\n",
    "[values]: https://ocaml.org/manual/values.html\n",
    "\n",
    "Sometimes an expression might fail to evaluate to a value. There are two reasons\n",
    "that might happen:\n",
    "\n",
    "1. Evaluation of the expression raises an exception.\n",
    "2. Evaluation of the expression never terminates (e.g., it enters an \"infinite\n",
    "   loop\").\n",
    "\n",
    "## Assertions\n",
    "\n",
    "The expression `assert e` evaluates `e`. If the result is `true`, nothing more\n",
    "happens, and the entire expression evaluates to a special value called *unit*.\n",
    "The unit value is written `()` and its type is `unit`. But if the result is\n",
    "`false`, an exception is raised.\n",
    "\n",
    "## Operators\n",
    "\n",
    "Operators can be used to form expressions. OCaml has more or less all the usual\n",
    "operators you would expect in a language from the C or Java family of languages.\n",
    "See the [table of all operators in the OCaml manual][ops] for details.\n",
    "\n",
    "Here are two things to watch out for as you begin:\n",
    "\n",
    "* OCaml deliberately does not support operator overloading. As a consequence,\n",
    "  the integer and floating-point operators are distinct. E.g., to add integers,\n",
    "  use `+`. To add floating-point numbers, use `+.`.\n",
    "\n",
    "* There are two equality operators in OCaml, `=` and `==`, with corresponding\n",
    "  inequality operators `<>` and `!=`. Operators `=` and `<>` examine\n",
    "  *structural* equality whereas `==` and `!=` examine *physical* equality. Until\n",
    "  we've studied the imperative features of OCaml, the difference between them\n",
    "  will be tricky to explain. See the [documentation][stdlib] of `Stdlib.(==)`\n",
    "  if you're curious now.\n",
    "\n",
    "```{important}\n",
    "Start training yourself now to use `=` and not to use `==`. This will be\n",
    "difficult if you're coming from a language like Java where `==` is the usual\n",
    "equality operator.\n",
    "```\n",
    "\n",
    "[ops]: https://ocaml.org/manual/expr.html#ss%3Aexpr-operators\n",
    "[stdlib]: https://ocaml.org/api/Stdlib.html\n",
    "\n",
    "## If Expressions\n",
    "\n",
    "{{ video_embed | replace(\"%%VID%%\", \"XJ6QPtlPD7s\")}}\n",
    "\n",
    "The expression `if e1 then e2 else e3` evaluates to `e2` if `e1` evaluates to\n",
    "`true`, and to `e3` otherwise. We call `e1` the *guard* of the `if` expression."
   ]
  },
  {
   "cell_type": "code",
   "execution_count": 1,
   "id": "7259547f",
   "metadata": {},
   "outputs": [
    {
     "data": {
      "text/plain": [
       "- : string = \"yay!\"\n"
      ]
     },
     "execution_count": 1,
     "metadata": {},
     "output_type": "execute_result"
    }
   ],
   "source": [
    "if 3 + 5 > 2 then \"yay!\" else \"boo!\""
   ]
  },
  {
   "cell_type": "markdown",
   "id": "17f27f71",
   "metadata": {},
   "source": [
    "Unlike `if-then-else` *statements* that you may have used in imperative\n",
    "languages, `if-then-else` *expressions* in OCaml are just like any other\n",
    "expression; they can be put anywhere an expression can go. That makes them\n",
    "similar to the ternary operator `? :` that you might have used in other\n",
    "languages."
   ]
  },
  {
   "cell_type": "code",
   "execution_count": 2,
   "id": "362e7ef9",
   "metadata": {},
   "outputs": [
    {
     "data": {
      "text/plain": [
       "- : int = 6\n"
      ]
     },
     "execution_count": 2,
     "metadata": {},
     "output_type": "execute_result"
    }
   ],
   "source": [
    "4 + (if 'a' = 'b' then 1 else 2)"
   ]
  },
  {
   "cell_type": "markdown",
   "id": "1659181a",
   "metadata": {},
   "source": [
    "`If` expressions can be nested in a pleasant way:\n",
    "\n",
    "```ocaml\n",
    "if e1 then e2\n",
    "else if e3 then e4\n",
    "else if e5 then e6\n",
    "...\n",
    "else en\n",
    "```\n",
    "\n",
    "You should regard the final `else` as mandatory, regardless of whether you are\n",
    "writing a single `if` expression or a highly nested `if` expression. If you\n",
    "omit it you'll likely get an error message that, for now, is inscrutable:"
   ]
  },
  {
   "cell_type": "code",
   "execution_count": 3,
   "id": "68bd24d8",
   "metadata": {
    "tags": [
     "raises-exception"
    ]
   },
   "outputs": [
    {
     "ename": "error",
     "evalue": "compile_error",
     "output_type": "error",
     "traceback": [
      "File \"[3]\", line 1, characters 14-15:\n1 | if 2 > 3 then 5\n                  ^\nError: This expression has type int but an expression was expected of type\n         unit\n       because it is in the result of a conditional with no else branch\n"
     ]
    }
   ],
   "source": [
    "if 2 > 3 then 5"
   ]
  },
  {
   "cell_type": "markdown",
   "id": "35d7b62d",
   "metadata": {},
   "source": [
    "**Syntax.** The syntax of an `if` expression:\n",
    "\n",
    "```ocaml\n",
    "if e1 then e2 else e3\n",
    "```\n",
    "\n",
    "The letter `e` is used here to represent any other OCaml expression; it's an\n",
    "example of a *syntactic variable* aka *metavariable*, which is not actually a\n",
    "variable in the OCaml language itself, but instead a name for a certain\n",
    "syntactic construct. The numbers after the letter `e` are being used to\n",
    "distinguish the three different occurrences of it.\n",
    "\n",
    "**Dynamic semantics.** The dynamic semantics of an `if` expression:\n",
    "\n",
    "* If `e1` evaluates to `true`, and if `e2` evaluates to a value `v`, then\n",
    "  `if e1 then e2 else e3` evaluates to `v`\n",
    "\n",
    "* If `e1` evaluates to `false`, and if `e3` evaluates to a value `v`, then\n",
    "  `if e1 then e2 else e3` evaluates to `v`.\n",
    "\n",
    "We call these *evaluation rules*: they define how to evaluate expressions. Note\n",
    "how it takes two rules to describe the evaluation of an `if` expression, one for\n",
    "when the guard is true, and one for when the guard is false. The letter `v` is\n",
    "used here to represent any OCaml value; it's another example of a metavariable.\n",
    "Later we will develop a more mathematical way of expressing dynamic semantics,\n",
    "but for now we'll stick with this more informal style of explanation.\n",
    "\n",
    "**Static semantics.** The static semantics of an `if` expression:\n",
    "\n",
    "* If `e1` has type `bool` and `e2` has type `t` and `e3` has type `t` then\n",
    "  `if e1 then e2 else e3` has type `t`\n",
    "\n",
    "We call this a *typing rule*: it describes how to type check an expression. Note\n",
    "how it only takes one rule to describe the type checking of an `if` expression.\n",
    "At compile time, when type checking is done, it makes no difference whether the\n",
    "guard is true or false; in fact, there's no way for the compiler to know what\n",
    "value the guard will have at run time. The letter `t` here is used to represent\n",
    "any OCaml type; the OCaml manual also has definition of [all types][types]\n",
    "(which curiously does not name the base types of the language like `int` and\n",
    "`bool`).\n",
    "\n",
    "[types]: https://ocaml.org/manual/types.html\n",
    "\n",
    "We're going to be writing \"has type\" a lot, so let's introduce a more compact\n",
    "notation for it. Whenever we would write \"`e` has type `t`\", let's instead write\n",
    "`e : t`. The colon is pronounced \"has type\". This usage of colon is consistent\n",
    "with how the toplevel responds after it evaluates an expression that you enter:"
   ]
  },
  {
   "cell_type": "code",
   "execution_count": 4,
   "id": "f1c66271",
   "metadata": {},
   "outputs": [
    {
     "data": {
      "text/plain": [
       "val x : int = 42\n"
      ]
     },
     "execution_count": 4,
     "metadata": {},
     "output_type": "execute_result"
    }
   ],
   "source": [
    "let x = 42"
   ]
  },
  {
   "cell_type": "markdown",
   "id": "409b70c6",
   "metadata": {},
   "source": [
    "In the above example, variable `x` has type `int`, which is what the colon\n",
    "indicates.\n",
    "\n",
    "## Let Expressions\n",
    "\n",
    "{{ video_embed | replace(\"%%VID%%\", \"ug3L97FXC6A\")}}\n",
    "\n",
    "In our use of the word `let` thus far, we've been making definitions in the\n",
    "toplevel and in `.ml` files. For example,"
   ]
  },
  {
   "cell_type": "code",
   "execution_count": 5,
   "id": "9816aa64",
   "metadata": {},
   "outputs": [
    {
     "data": {
      "text/plain": [
       "val x : int = 42\n"
      ]
     },
     "execution_count": 5,
     "metadata": {},
     "output_type": "execute_result"
    }
   ],
   "source": [
    "let x = 42;;"
   ]
  },
  {
   "cell_type": "markdown",
   "id": "8bdeb06c",
   "metadata": {},
   "source": [
    "defines `x` to be 42, after which we can use `x` in future definitions at the\n",
    "toplevel. We'll call this use of `let` a *let definition*.\n",
    "\n",
    "There's another use of `let` which is as an expression:"
   ]
  },
  {
   "cell_type": "code",
   "execution_count": 6,
   "id": "0d9e5bc5",
   "metadata": {},
   "outputs": [
    {
     "data": {
      "text/plain": [
       "- : int = 43\n"
      ]
     },
     "execution_count": 6,
     "metadata": {},
     "output_type": "execute_result"
    }
   ],
   "source": [
    "let x = 42 in x + 1"
   ]
  },
  {
   "cell_type": "markdown",
   "id": "0e801299",
   "metadata": {},
   "source": [
    "Here we're *binding* a value to the name `x` then using that binding inside\n",
    "another expression, `x+1`. We'll call this use of `let` a *let expression*.\n",
    "Since it's an expression it evaluates to a value. That's different than\n",
    "definitions, which themselves do not evaluate to any value. You can see that if\n",
    "you try putting a let definition in place of where an expression is expected:"
   ]
  },
  {
   "cell_type": "code",
   "execution_count": 7,
   "id": "1e0f4688",
   "metadata": {
    "tags": [
     "raises-exception"
    ]
   },
   "outputs": [
    {
     "ename": "error",
     "evalue": "compile_error",
     "output_type": "error",
     "traceback": [
      "File \"[7]\", line 1, characters 11-12:\n1 | (let x = 42) + 1\n               ^\nError: Syntax error: operator expected.\n"
     ]
    }
   ],
   "source": [
    "(let x = 42) + 1"
   ]
  },
  {
   "cell_type": "markdown",
   "id": "34586137",
   "metadata": {},
   "source": [
    "Syntactically, a `let` definition is not permitted on the left-hand side of the\n",
    "`+` operator, because a value is needed there, and definitions do not evaluate\n",
    "to values. On the other hand, a `let` expression would work fine:"
   ]
  },
  {
   "cell_type": "code",
   "execution_count": 8,
   "id": "d3f825fc",
   "metadata": {},
   "outputs": [
    {
     "data": {
      "text/plain": [
       "- : int = 43\n"
      ]
     },
     "execution_count": 8,
     "metadata": {},
     "output_type": "execute_result"
    }
   ],
   "source": [
    "(let x = 42 in x) + 1"
   ]
  },
  {
   "cell_type": "markdown",
   "id": "237a34d0",
   "metadata": {},
   "source": [
    "Another way to understand let definitions at the toplevel is that they are like\n",
    "let expression where we just haven't provided the body expression yet.\n",
    "Implicitly, that body expression is whatever else we type in the future. For\n",
    "example,\n",
    "```ocaml\n",
    "# let a = \"big\";;\n",
    "# let b = \"red\";;\n",
    "# let c = a ^ b;;\n",
    "# ...\n",
    "```\n",
    "is understand by OCaml in the same way as\n",
    "```ocaml\n",
    "let a = \"big\" in\n",
    "let b = \"red\" in\n",
    "let c = a ^ b in\n",
    "...\n",
    "```\n",
    "That latter series of `let` bindings is idiomatically how several variables\n",
    "can be bound inside a given block of code.\n",
    "\n",
    "**Syntax.**\n",
    "\n",
    "```ocaml\n",
    "let x = e1 in e2\n",
    "```\n",
    "\n",
    "As usual, `x` is an identifier. These identifiers must begin with lower-case,\n",
    "not upper, and idiomatically are written with `snake_case` not `camelCase`. We\n",
    "call `e1` the *binding expression*, because it's what's being bound to `x`; and\n",
    "we call `e2` the *body expression*, because that's the body of code in which the\n",
    "binding will be in scope.\n",
    "\n",
    "**Dynamic semantics.**\n",
    "\n",
    "To evaluate `let x = e1 in e2`:\n",
    "\n",
    "* Evaluate `e1` to a value `v1`.\n",
    "\n",
    "* Substitute `v1` for `x` in `e2`, yielding a new expression `e2'`.\n",
    "\n",
    "* Evaluate `e2'` to a value `v2`.\n",
    "\n",
    "* The result of evaluating the let expression is `v2`.\n",
    "\n",
    "Here's an example:\n",
    "```text\n",
    "    let x = 1 + 4 in x * 3\n",
    "-->   (evaluate e1 to a value v1)\n",
    "    let x = 5 in x * 3\n",
    "-->   (substitute v1 for x in e2, yielding e2')\n",
    "    5 * 3\n",
    "-->   (evaluate e2' to v2)\n",
    "    15\n",
    "      (result of evaluation is v2)\n",
    "```\n",
    "\n",
    "**Static semantics.**\n",
    "\n",
    "* If `e1 : t1` and if under the assumption that `x : t1` it holds that\n",
    "  `e2 : t2`, then `(let x = e1 in e2) : t2`.\n",
    "\n",
    "We use the parentheses above just for clarity. As usual, the compiler's type\n",
    "inferencer determines what the type of the variable is, or the programmer could\n",
    "explicitly annotate it with this syntax:\n",
    "```ocaml\n",
    "let x : t = e1 in e2\n",
    "```\n",
    "\n",
    "## Scope\n",
    "\n",
    "{{ video_embed | replace(\"%%VID%%\", \"_TpTC6eo34M\")}}\n",
    "\n",
    "`Let` bindings are in effect only in the block of code in which they occur. This\n",
    "is exactly what you're used to from nearly any modern programming language. For\n",
    "example:\n",
    "```ocaml\n",
    "let x = 42 in\n",
    "  (* y is not meaningful here *)\n",
    "  x + (let y = \"3110\" in\n",
    "         (* y is meaningful here *)\n",
    "         int_of_string y)\n",
    "```\n",
    "The *scope* of a variable is where its name is meaningful. Variable `y` is in\n",
    "scope only inside of the `let` expression that binds it above.\n",
    "\n",
    "It's possible to have overlapping bindings of the same name. For example:\n",
    "```ocaml\n",
    "let x = 5 in\n",
    "  ((let x = 6 in x) + x)\n",
    "```\n",
    "But this is darn confusing, and for that reason, it is strongly discouraged\n",
    "style&mdash;much like ambiguous pronouns are discouraged in natural language.\n",
    "Nonetheless, let's consider what that code means.\n",
    "\n",
    "To what value does that code evaluate? The answer comes down to how `x` is\n",
    "replaced by a value each time it occurs. Here are a few possibilities for such\n",
    "*substitution*:\n",
    "```ocaml\n",
    "(* possibility 1 *)\n",
    "let x = 5 in\n",
    "  ((let x = 6 in 6) + 5)\n",
    "\n",
    "(* possibility 2 *)\n",
    "let x = 5 in\n",
    "  ((let x = 6 in 5) + 5)\n",
    "\n",
    "(* possibility 3 *)\n",
    "let x = 5 in\n",
    "  ((let x = 6 in 6) + 6)\n",
    "```\n",
    "The first one is what nearly any reasonable language would do. And most likely\n",
    "it's what you would guess But, **why?**\n",
    "\n",
    "The answer is something we'll call the *Principle of Name Irrelevance*: the name\n",
    "of a variable shouldn't intrinsically matter. You're used to this from math. For\n",
    "example, the following two functions are the same:\n",
    "\n",
    "\\begin{align*}\n",
    "f(x) &= x^2 \\\\\n",
    "f(y) &= y^2\n",
    "\\end{align*}\n",
    "\n",
    "It doesn't intrinsically matter whether we call the argument to the function\n",
    "$x$ or $y$; either way, it's still the squaring function.\n",
    "Therefore, in programs, these two functions should be identical:\n",
    "```ocaml\n",
    "let f x = x * x\n",
    "let f y = y * y\n",
    "```\n",
    "This principle is more commonly known as *alpha equivalence*: the two functions\n",
    "are equivalent up to renaming of variables, which is also called *alpha\n",
    "conversion* for historical reasons that are unimportant here.\n",
    "\n",
    "According to the Principle of Name Irrelevance, these two expressions should be\n",
    "identical:\n",
    "```ocaml\n",
    "let x = 6 in x\n",
    "let y = 6 in y\n",
    "```\n",
    "Therefore, the following two expressions, which have the above expressions\n",
    "embedded in them, should also be identical:\n",
    "```ocaml\n",
    "let x = 5 in (let x = 6 in x) + x\n",
    "let x = 5 in (let y = 6 in y) + x\n",
    "```\n",
    "But for those to be identical, we **must** choose the first of the three\n",
    "possibilities above. It is the only one that makes the name of the variable be\n",
    "irrelevant.\n",
    "\n",
    "There is a term commonly used for this phenomenon: a new binding of a variable\n",
    "*shadows* any old binding of the variable name. Metaphorically, it's as if the\n",
    "new binding temporarily casts a shadow over the old binding. But eventually the\n",
    "old binding could reappear as the shadow recedes.\n",
    "\n",
    "{{ video_embed | replace(\"%%VID%%\", \"4SqMkUwakEA\")}}\n",
    "\n",
    "Shadowing is not mutable assignment. For example, both of the following\n",
    "expressions evaluate to 11:\n",
    "```ocaml\n",
    "let x = 5 in ((let x = 6 in x) + x)\n",
    "let x = 5 in (x + (let x = 6 in x))\n",
    "```\n",
    "Likewise, the following utop transcript is not mutable assignment, though at\n",
    "first it could seem like it is:\n",
    "```ocaml\n",
    "# let x = 42;;\n",
    "val x : int = 42\n",
    "# let x = 22;;\n",
    "val x : int = 22\n",
    "```\n",
    "\n",
    "Recall that every `let` definition in the toplevel is effectively a nested `let`\n",
    "expression. So the above is effectively the following:\n",
    "```ocaml\n",
    "let x = 42 in\n",
    "  let x = 22 in\n",
    "    ... (* whatever else is typed in the toplevel *)\n",
    "```\n",
    "The right way to think about this is that the second `let` binds an entirely new\n",
    "variable that just happens to have the same name as the first `let`.\n",
    "\n",
    "Here is another utop transcript that is well worth studying:\n",
    "```ocaml\n",
    "# let x = 42;;\n",
    "val x : int = 42\n",
    "# let f y = x + y;;\n",
    "val f : int -> int = <fun>\n",
    "# f 0;;\n",
    ": int = 42\n",
    "# let x = 22;;\n",
    "val x : int = 22\n",
    "# f 0;;\n",
    "- : int = 42  (* x did not mutate! *)\n",
    "```\n",
    "\n",
    "To summarize, each let definition binds an entirely new variable. If that new\n",
    "variable happens to have the same name as an old variable, the new variable\n",
    "temporarily shadows the old one. But the old variable is still around, and its\n",
    "value is immutable: it never, ever changes. So even though `let` expressions\n",
    "might superficially look like assignment statements from imperative languages,\n",
    "they are actually quite different."
   ]
  }
 ],
 "metadata": {
  "jupytext": {
   "cell_metadata_filter": "-all",
   "formats": "md:myst",
   "text_representation": {
    "extension": ".md",
    "format_name": "myst",
    "format_version": 0.13,
    "jupytext_version": "1.10.3"
   }
  },
  "kernelspec": {
   "display_name": "OCaml",
   "language": "OCaml",
   "name": "ocaml-jupyter"
  },
  "language_info": {
   "codemirror_mode": "text/x-ocaml",
   "file_extension": ".ml",
   "mimetype": "text/x-ocaml",
   "name": "OCaml",
   "nbconverter_exporter": null,
   "pygments_lexer": "OCaml",
   "version": "4.11.1"
  },
  "source_map": [
   14,
   90,
   92,
   100,
   102,
   118,
   123,
   173,
   175,
   185,
   187,
   192,
   194,
   200,
   203,
   207,
   209
  ]
 },
 "nbformat": 4,
 "nbformat_minor": 5
}