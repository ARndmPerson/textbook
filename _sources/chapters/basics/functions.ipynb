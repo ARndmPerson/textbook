{
 "cells": [
  {
   "cell_type": "markdown",
   "id": "fd833cfa",
   "metadata": {},
   "source": [
    "# Functions\n",
    "\n",
    "Since OCaml is a functional language, there's a lot to cover about functions.\n",
    "Let's get started.\n",
    "\n",
    "## Function Definitions\n",
    "\n",
    "{{ video_embed | replace(\"%%VID%%\", \"vCxIlagS7kA\")}}\n",
    "\n",
    "The following code\n",
    "```ocaml\n",
    "let x = 42\n",
    "```\n",
    "has an expression in it (`42`) but is not itself an expression. Rather, it is a\n",
    "*definition*. Definitions bind values to names, in this case the value `42`\n",
    "being bound to the name `x`. The OCaml manual describes\n",
    "[definitions][definitions] (see the third major grouping titled \"*definition*\"\n",
    "on that page), but that manual page is again primarily for reference not for\n",
    "study. Definitions are not expressions, nor are expressions\n",
    "definitions&mdash;they are distinct syntactic classes. But definitions can have\n",
    "expressions nested inside them, and vice-versa.\n",
    "\n",
    "[definitions]: http://caml.inria.fr/pub/docs/manual-ocaml/modules.html\n",
    "\n",
    "For now, let's focus on one particular kind of definition, a *function\n",
    "definition*. Non-recursive functions are defined like this:\n",
    "\n",
    "```ocaml\n",
    "let f x = ...\n",
    "```\n",
    "\n",
    "{{ video_embed | replace(\"%%VID%%\", \"_x82qitu2R8\")}}\n",
    "\n",
    "Recursive functions are defined like this:\n",
    "\n",
    "```ocaml\n",
    "let rec f x = ...\n",
    "```\n",
    "\n",
    "The difference is just the `rec` keyword. It's probably a bit surprising that\n",
    "you explicitly have to add a keyword to make a function recursive, because most\n",
    "languages assume by default that they are. OCaml doesn't make that assumption,\n",
    "though. (Nor does the Scheme family of languages.)\n",
    "\n",
    "One of the best known recursive functions is the factorial function. In OCaml,\n",
    "it can be written as follows:\n",
    "\n",
    "```ocaml\n",
    "(** [fact n] is [n]!.\n",
    "    Requires: [n >= 0]. *)\n",
    "let rec fact n = if n = 0 then 1 else n * fact (n - 1)\n",
    "```\n",
    "\n",
    "We provided a specification comment above the function to document the\n",
    "precondition (`Requires`) and postcondition (`is`) of the function.\n",
    "\n",
    "Note that, as in many languages, OCaml integers are not the \"mathematical\"\n",
    "integers but are limited to a fixed number of bits. The [manual][man] specifies\n",
    "that (signed) integers are at least 31 bits, but they could be wider. As\n",
    "architectures have grown, so has that size. In current implementations, OCaml\n",
    "integers are 63 bits. So if you test on large enough inputs, you might begin to\n",
    "see strange results. The problem is machine arithmetic, not OCaml. (For\n",
    "interested readers: why 31 or 63 instead of 32 or 64? The OCaml garbage\n",
    "collector needs to distinguish between integers and pointers. The runtime\n",
    "representation of these therefore steals one bit to flag whether a word is an\n",
    "integer or a pointer.)\n",
    "\n",
    "[man]: http://caml.inria.fr/pub/docs/manual-ocaml/values.html#sec76\n",
    "\n",
    "\n",
    "Here's another recursive function:\n",
    "```ocaml\n",
    "(** [pow x y] is [x] to the power of [y].\n",
    "     Requires: [y >= 0]. *)\n",
    "let rec pow x y = if y = 0 then 1 else x * pow x (y - 1)\n",
    "```\n",
    "\n",
    "Note how we didn't have to write any types in either of our functions: the OCaml\n",
    "compiler infers them for us automatically. The compiler solves this *type\n",
    "inference* problem algorithmically, but we could do it ourselves, too. It's like\n",
    "a mystery that can be solved by our mental power of deduction:\n",
    "\n",
    "* Since the `if` expression can return `1` in the `then` branch, we know by the\n",
    "  typing rule for `if` that the entire `if` expression has type `int`.\n",
    "\n",
    "* Since the `if` expression has type `int`, the function's return type must be\n",
    "  `int`.\n",
    "\n",
    "* Since `y` is compared to `0` with the equality operator, `y` must be an `int`.\n",
    "\n",
    "* Since `x` is multiplied with another expression using the `*` operator, `x`\n",
    "  must be an `int`.\n",
    "\n",
    "If we wanted to write down the types for some reason, we could do that:\n",
    "```ocaml\n",
    "let rec pow (x : int) (y : int) : int = ...\n",
    "```\n",
    "The parentheses are mandatory when we write the *type annotations* for `x` and\n",
    "`y`. We will generally leave out these annotations, because it's simpler to let\n",
    "the compiler infer them. There are other times when you'll want to explicitly\n",
    "write down types. One particularly useful time is when you get a type error from\n",
    "the compiler that you don't understand. Explicitly annotating the types can help\n",
    "with debugging such an error message.\n",
    "\n",
    "**Syntax.**\n",
    "The syntax for function definitions:\n",
    "```ocaml\n",
    "let rec f x1 x2 ... xn = e\n",
    "```\n",
    "The `f` is a metavariable indicating an identifier being used as a function\n",
    "name. These identifiers must begin with a lowercase letter. The remaining\n",
    "[rules for lowercase identifiers][lowercase] can be found in the manual. The\n",
    "names `x1` through `xn` are metavariables indicating argument identifiers. These\n",
    "follow the same rules as function identifiers. The keyword `rec` is required if\n",
    "`f` is to be a recursive function; otherwise it may be omitted.\n",
    "\n",
    "[lowercase]: http://caml.inria.fr/pub/docs/manual-ocaml/lex.html#lowercase-ident\n",
    "\n",
    "Note that syntax for function definitions is actually simplified compared to\n",
    "what OCaml really allows. We will learn more about some augmented syntax for\n",
    "function definition in the next couple weeks. But for now, this simplified\n",
    "version will help us focus.\n",
    "\n",
    "Mutually recursive functions can be defined with the `and` keyword:\n",
    "```ocaml\n",
    "let rec f x1 ... xn = e1\n",
    "and g y1 ... yn = e2\n",
    "```\n",
    "\n",
    "For example:\n",
    "```ocaml\n",
    "(** [even n] is whether [n] is even.\n",
    "    Requires: [n >= 0]. *)\n",
    "let rec even n =\n",
    "  n = 0 || odd (n - 1)\n",
    "\n",
    "(** [odd n] is whether [n] is odd.\n",
    "    Requires: [n >= 0]. *)\n",
    "and odd n =\n",
    "  n <> 0 && even (n - 1);;\n",
    "```\n",
    "\n",
    "{{ video_embed | replace(\"%%VID%%\", \"W0rO84YXIXo\")}}\n",
    "\n",
    "The syntax for function types is:\n",
    "```ocaml\n",
    "t -> u\n",
    "t1 -> t2 -> u\n",
    "t1 -> ... -> tn -> u\n",
    "```\n",
    "The `t` and `u` are metavariables indicating types. Type `t -> u` is the type of\n",
    "a function that takes an input of type `t` and returns an output of type `u`. We\n",
    "can think of `t1 -> t2 -> u` as the type of a function that takes two inputs,\n",
    "the first of type `t1` and the second of type `t2`, and returns an output of\n",
    "type `u`. Likewise for a function that takes `n` arguments.\n",
    "\n",
    "**Dynamic semantics.** There is no dynamic semantics of function definitions.\n",
    "There is nothing to be evaluated. OCaml just records that the name `f` is bound\n",
    "to a function with the given arguments `x1..xn` and the given body `e`. Only\n",
    "later, when the function is applied, will there be some evaluation to do.\n",
    "\n",
    "**Static semantics.** The static semantics of function definitions:\n",
    "\n",
    "* For non-recursive functions: if by assuming that `x1 : t1` and `x2 : t2` and ...\n",
    "  and `xn : tn`, we can conclude that `e : u`, then\n",
    "  `f : t1 -> t2 -> ... -> tn -> u`.\n",
    "* For recursive functions: if by assuming that `x1 : t1` and `x2 : t2` and ...\n",
    "  and `xn : tn` and `f : t1 -> t2 -> ... -> tn -> u`, we can conclude that\n",
    "  `e : u`, then `f : t1 -> t2 -> ... -> tn -> u`.\n",
    "\n",
    "Note how the type checking rule for recursive functions assumes that the\n",
    "function identifier `f` has a particular type, then checks to see whether the\n",
    "body of the function is well-typed under that assumption. This is because `f` is\n",
    "in scope inside the function body itself (just like the arguments are in scope).\n",
    "\n",
    "## Anonymous Functions\n",
    "\n",
    "{{ video_embed | replace(\"%%VID%%\", \"JwoIIrj0bcM\")}}\n",
    "\n",
    "We already know that we can have values that are not bound to names.\n",
    "The integer `42`, for example, can be entered at the toplevel without\n",
    "giving it a name:"
   ]
  },
  {
   "cell_type": "code",
   "execution_count": 1,
   "id": "aad99a8c",
   "metadata": {},
   "outputs": [
    {
     "data": {
      "text/plain": [
       "- : int = 42\n"
      ]
     },
     "execution_count": 1,
     "metadata": {},
     "output_type": "execute_result"
    }
   ],
   "source": [
    "42"
   ]
  },
  {
   "cell_type": "markdown",
   "id": "102a287e",
   "metadata": {},
   "source": [
    "Or we can bind it to a name:"
   ]
  },
  {
   "cell_type": "code",
   "execution_count": 2,
   "id": "e068e8f9",
   "metadata": {},
   "outputs": [
    {
     "data": {
      "text/plain": [
       "val x : int = 42\n"
      ]
     },
     "execution_count": 2,
     "metadata": {},
     "output_type": "execute_result"
    }
   ],
   "source": [
    "let x = 42"
   ]
  },
  {
   "cell_type": "markdown",
   "id": "990550bd",
   "metadata": {},
   "source": [
    "Similarly, OCaml functions do not have to have names; they may be *anonymous*.\n",
    "For example, here is an anonymous function that increments its input:\n",
    "`fun x -> x + 1`. Here, `fun` is a keyword indicating an anonymous function, `x`\n",
    "is the argument, and `->` separates the argument from the body.\n",
    "\n",
    "We now have two ways we could write an increment function:\n",
    "```ocaml\n",
    "let inc x = x + 1\n",
    "let inc = fun x -> x + 1\n",
    "```\n",
    "\n",
    "They are syntactically different but semantically equivalent. That is, even\n",
    "though they involve different keywords and put some identifiers in different\n",
    "places, they mean the same thing.\n",
    "\n",
    "{{ video_embed | replace(\"%%VID%%\", \"zHHCD7MOjmw\")}}\n",
    "\n",
    "Anonymous functions are also called *lambda expressions*, a term that comes from\n",
    "the *lambda calculus*, which is a mathematical model of computation in the same\n",
    "sense that Turing machines are a model of computation. In the lambda calculus,\n",
    "`fun x -> e` would be written $\\lambda x . e$. The $\\lambda$ denotes an\n",
    "anonymous function.\n",
    "\n",
    "It might seem a little mysterious right now why we would want functions that\n",
    "have no names. Don't worry; we'll see good uses for them later in the course,\n",
    "especially when we study so-called \"higher-order programming\". In particular, we\n",
    "will often create anonymous functions and pass them as input to other functions.\n",
    "\n",
    "**Syntax.**\n",
    "```ocaml\n",
    "fun x1 ... xn -> e\n",
    "```\n",
    "\n",
    "**Static semantics.**\n",
    "\n",
    "* If by assuming that\n",
    "  `x1 : t1` and `x2 : t2` and ... and `xn : tn`, we can conclude that `e : u`,\n",
    "  then `fun x1 ... xn -> e : t1 -> t2 -> ... -> tn -> u`.\n",
    "\n",
    "**Dynamic semantics.** An anonymous function is already a value. There is no\n",
    "computation to be performed.\n",
    "\n",
    "## Function Application\n",
    "\n",
    "{{ video_embed | replace(\"%%VID%%\", \"fgCTDhXAYnQ\")}}\n",
    "\n",
    "Here we cover a somewhat simplified syntax of function application compared to\n",
    "what OCaml actually allows.\n",
    "\n",
    "**Syntax.**\n",
    "```ocaml\n",
    "e0 e1 e2 ... en\n",
    "```\n",
    "The first expression `e0` is the function, and it is applied to arguments `e1`\n",
    "through `en`. Note that parentheses are not required around the arguments to\n",
    "indicate function application, as they are in languages in the C family,\n",
    "including Java.\n",
    "\n",
    "**Static semantics.**\n",
    "\n",
    "* If `e0 : t1 -> ... -> tn -> u` and `e1 : t1` and ... and `en : tn`\n",
    "  then `e0 e1 ... en : u`.\n",
    "\n",
    "**Dynamic semantics.**\n",
    "\n",
    "To evaluate `e0 e1 ... en`:\n",
    "\n",
    "1. Evaluate `e0` to a function. Also evaluate the argument expressions `e1`\n",
    "   through `en` to values `v1` through `vn`.\n",
    "\n",
    "   For `e0`, the result might be an anonymous function `fun x1 ... xn ->\n",
    "   e` or a name `f`. In the latter case, we need to find the definition of `f`,\n",
    "   which we can assume to be of the form `let rec f x1 ... xn =\n",
    "   e`.  Either way, we now know the argument names `x1` through `xn` and the\n",
    "   body `e`.\n",
    "\n",
    "2. Substitute each value `vi` for the corresponding argument name `xi` in the\n",
    "   body `e` of the function. That substitution results in a new expression `e'`.\n",
    "\n",
    "3. Evaluate `e'` to a value `v`, which is the result of evaluating\n",
    "   `e0 e1 ... en`.\n",
    "\n",
    "If you compare these evaluation rules to the rules for `let` expressions, you\n",
    "will notice they both involve substitution. This is not an accident. In fact,\n",
    "anywhere `let x = e1 in e2` appears in a program, we could replace it with\n",
    "`(fun x -> e2) e1`. They are syntactically different but semantically\n",
    "equivalent. In essence, `let` expressions are just syntactic sugar for anonymous\n",
    "function application.\n",
    "\n",
    "## Pipeline\n",
    "\n",
    "{{ video_embed | replace(\"%%VID%%\", \"arS9kEqCFEU\")}}\n",
    "\n",
    "There is a built-in infix operator in OCaml for function application called the\n",
    "*pipeline* operator, written `|>`. Imagine that as depicting a triangle pointing\n",
    "to the right. The metaphor is that values are sent through the pipeline from\n",
    "left to right. For example, suppose we have the increment function `inc` from\n",
    "above as well as a function `square` that squares its input. Here are two\n",
    "equivalent ways of writing the same computation:\n",
    "```ocaml\n",
    "square (inc 5)\n",
    "5 |> inc |> square\n",
    "(* both yield 36 *)\n",
    "```\n",
    "The latter uses the pipeline operator to send `5` through the `inc` function,\n",
    "then send the result of that through the `square` function. This is a nice,\n",
    "idiomatic way of expressing the computation in OCaml. The former way is arguably\n",
    "not as elegant: it involves writing extra parentheses and requires the reader's\n",
    "eyes to jump around, rather than move linearly from left to right. The latter\n",
    "way scales up nicely when the number of functions being applied grows, where as\n",
    "the former way requires more and more parentheses:\n",
    "```ocaml\n",
    "5 |> inc |> square |> inc |> inc |> square\n",
    "square (inc (inc (square (inc 5))))\n",
    "(* both yield 1444 *)\n",
    "```\n",
    "It might feel weird at first, but try using the pipeline operator in your own\n",
    "code the next time you find yourself writing a big chain of function\n",
    "applications.\n",
    "\n",
    "Since `e1 |> e2` is just another way of writing `e2 e1`, we don't need to state\n",
    "the semantics for `|>`: it's just the same as function application. These two\n",
    "programs are another example of expressions that are syntactically different but\n",
    "semantically equivalent.\n",
    "\n",
    "## Polymorphic Functions\n",
    "\n",
    "{{ video_embed | replace(\"%%VID%%\", \"UWmxYBEKzN8\")}}\n",
    "\n",
    "The *identity* function is the function that simply returns its input:"
   ]
  },
  {
   "cell_type": "code",
   "execution_count": 3,
   "id": "313be652",
   "metadata": {},
   "outputs": [
    {
     "data": {
      "text/plain": [
       "val id : 'a -> 'a = <fun>\n"
      ]
     },
     "execution_count": 3,
     "metadata": {},
     "output_type": "execute_result"
    }
   ],
   "source": [
    "let id x = x;;"
   ]
  },
  {
   "cell_type": "markdown",
   "id": "1839ee33",
   "metadata": {},
   "source": [
    "The `'a` is a *type variable*: it stands for an unknown type, just like a\n",
    "regular variable stands for an unknown value. Type variables always begin with a\n",
    "single quote. Commonly used type variables include `'a`, `'b`, and `'c`, which\n",
    "OCaml programmers typically pronounce in Greek: alpha, beta, and gamma.\n",
    "\n",
    "We can apply the identity function to any type of value we like:\n",
    "\n",
    "```text\n",
    "# id 42;;\n",
    "- : int = 42\n",
    "\n",
    "# id true;;\n",
    "- : bool = true\n",
    "\n",
    "# id \"bigred\";;\n",
    "- : string = \"bigred\"\n",
    "```\n",
    "\n",
    "Because you can apply `id` to many types of values, it is a *polymorphic*\n",
    "function: it can be applied to many (*poly*) forms (*morph*).\n",
    "\n",
    "## Labeled and Optional Arguments\n",
    "\n",
    "The type and name of a function usually give you a pretty good idea of what the\n",
    "arguments should be. However, for functions with many arguments (especially\n",
    "arguments of the same type), it can be useful to label them. For example, you\n",
    "might guess that the function `String.sub` returns a substring of the given\n",
    "string (and you would be correct). You could type in `String.sub` to find its\n",
    "type:"
   ]
  },
  {
   "cell_type": "code",
   "execution_count": 4,
   "id": "57ec8b20",
   "metadata": {},
   "outputs": [
    {
     "data": {
      "text/plain": [
       "- : string -> int -> int -> string = <fun>\n"
      ]
     },
     "execution_count": 4,
     "metadata": {},
     "output_type": "execute_result"
    }
   ],
   "source": [
    "String.sub;;"
   ]
  },
  {
   "cell_type": "markdown",
   "id": "771940d3",
   "metadata": {},
   "source": [
    "But it's not clear from the type how to use it&mdash;you're forced to consult\n",
    "the documentation.\n",
    "\n",
    "OCaml supports labeled arguments to functions. You can declare this kind of\n",
    "function using the following syntax:"
   ]
  },
  {
   "cell_type": "code",
   "execution_count": 5,
   "id": "118eca41",
   "metadata": {},
   "outputs": [
    {
     "data": {
      "text/plain": [
       "val f : name1:int -> name2:int -> int = <fun>\n"
      ]
     },
     "execution_count": 5,
     "metadata": {},
     "output_type": "execute_result"
    }
   ],
   "source": [
    "let f ~name1:arg1 ~name2:arg2 = arg1 + arg2;;"
   ]
  },
  {
   "cell_type": "markdown",
   "id": "934bb134",
   "metadata": {},
   "source": [
    "This function can be called by passing the labeled arguments in either order:\n",
    "\n",
    "```ocaml\n",
    "f ~name2:3 ~name1:4\n",
    "```\n",
    "\n",
    "Labels for arguments are often the same as the variable names for them. OCaml\n",
    "provides a shorthand for this case. The following are equivalent:\n",
    "\n",
    "```ocaml\n",
    "let f ~name1:name1 ~name2:name2 = name1+name2\n",
    "let f ~name1 ~name2 = name1 + name2\n",
    "```\n",
    "\n",
    "Use of labeled arguments is largely a matter of taste. They convey extra\n",
    "information, but they can also add clutter to types.\n",
    "\n",
    "The syntax to write both a labeled argument and an explicit type annotation for\n",
    "it is:\n",
    "\n",
    "```\n",
    "let f ~name1:(arg1 : int) ~name2:(arg2 : int) = arg1 + arg2\n",
    "```\n",
    "\n",
    "It is also possible to make some arguments optional. When called without an\n",
    "optional argument, a default value will be provided. To declare such a function,\n",
    "use the following syntax:"
   ]
  },
  {
   "cell_type": "code",
   "execution_count": 6,
   "id": "fb0dae1a",
   "metadata": {},
   "outputs": [
    {
     "data": {
      "text/plain": [
       "val f : ?name:int -> int -> int = <fun>\n"
      ]
     },
     "execution_count": 6,
     "metadata": {},
     "output_type": "execute_result"
    }
   ],
   "source": [
    "let f ?name:(arg1=8) arg2 = arg1 + arg2"
   ]
  },
  {
   "cell_type": "markdown",
   "id": "ff766164",
   "metadata": {},
   "source": [
    "You can then call a function with or without the argument:"
   ]
  },
  {
   "cell_type": "code",
   "execution_count": 7,
   "id": "968fa96e",
   "metadata": {},
   "outputs": [
    {
     "data": {
      "text/plain": [
       "- : int = 9\n"
      ]
     },
     "execution_count": 7,
     "metadata": {},
     "output_type": "execute_result"
    }
   ],
   "source": [
    "f ~name:2 7"
   ]
  },
  {
   "cell_type": "code",
   "execution_count": 8,
   "id": "ca9e9952",
   "metadata": {},
   "outputs": [
    {
     "data": {
      "text/plain": [
       "- : int = 15\n"
      ]
     },
     "execution_count": 8,
     "metadata": {},
     "output_type": "execute_result"
    }
   ],
   "source": [
    "f 7"
   ]
  },
  {
   "cell_type": "markdown",
   "id": "55939a5e",
   "metadata": {},
   "source": [
    "## Partial Application\n",
    "\n",
    "{{ video_embed | replace(\"%%VID%%\", \"85xVK0wmDTw\")}}\n",
    "\n",
    "We could define an addition function as follows:"
   ]
  },
  {
   "cell_type": "code",
   "execution_count": 9,
   "id": "18c98b2f",
   "metadata": {},
   "outputs": [
    {
     "data": {
      "text/plain": [
       "val add : int -> int -> int = <fun>\n"
      ]
     },
     "execution_count": 9,
     "metadata": {},
     "output_type": "execute_result"
    }
   ],
   "source": [
    "let add x y = x + y"
   ]
  },
  {
   "cell_type": "markdown",
   "id": "e5dd8881",
   "metadata": {},
   "source": [
    "Here's a rather similar function:"
   ]
  },
  {
   "cell_type": "code",
   "execution_count": 10,
   "id": "1cc3f642",
   "metadata": {},
   "outputs": [
    {
     "data": {
      "text/plain": [
       "val addx : int -> int -> int = <fun>\n"
      ]
     },
     "execution_count": 10,
     "metadata": {},
     "output_type": "execute_result"
    }
   ],
   "source": [
    "let addx x = fun y -> x + y"
   ]
  },
  {
   "cell_type": "markdown",
   "id": "1800f852",
   "metadata": {},
   "source": [
    "Function `addx` takes an integer `x` as input and returns a *function* of type\n",
    "`int -> int` that will add `x` to whatever is passed to it.\n",
    "\n",
    "The type of `addx` is `int -> int -> int`. The type of `add` is also\n",
    "`int -> int -> int`. So from the perspective of their types, they are the same\n",
    "function. But the form of `addx` suggests something interesting: we can apply it\n",
    "to just a single argument."
   ]
  },
  {
   "cell_type": "code",
   "execution_count": 11,
   "id": "5dc95cca",
   "metadata": {},
   "outputs": [
    {
     "data": {
      "text/plain": [
       "val add5 : int -> int = <fun>\n"
      ]
     },
     "execution_count": 11,
     "metadata": {},
     "output_type": "execute_result"
    }
   ],
   "source": [
    "let add5 = addx 5"
   ]
  },
  {
   "cell_type": "code",
   "execution_count": 12,
   "id": "7f35473a",
   "metadata": {},
   "outputs": [
    {
     "data": {
      "text/plain": [
       "- : int = 7\n"
      ]
     },
     "execution_count": 12,
     "metadata": {},
     "output_type": "execute_result"
    }
   ],
   "source": [
    "add5 2"
   ]
  },
  {
   "cell_type": "markdown",
   "id": "18a3af0f",
   "metadata": {},
   "source": [
    "It turns out the same can be done with `add`:"
   ]
  },
  {
   "cell_type": "code",
   "execution_count": 13,
   "id": "ddda1489",
   "metadata": {},
   "outputs": [
    {
     "data": {
      "text/plain": [
       "val add5 : int -> int = <fun>\n"
      ]
     },
     "execution_count": 13,
     "metadata": {},
     "output_type": "execute_result"
    }
   ],
   "source": [
    "let add5 = add 5"
   ]
  },
  {
   "cell_type": "code",
   "execution_count": 14,
   "id": "60491f87",
   "metadata": {},
   "outputs": [
    {
     "data": {
      "text/plain": [
       "- : int = 7\n"
      ]
     },
     "execution_count": 14,
     "metadata": {},
     "output_type": "execute_result"
    }
   ],
   "source": [
    "add5 2;;"
   ]
  },
  {
   "cell_type": "markdown",
   "id": "0439449d",
   "metadata": {},
   "source": [
    "What we just did is called *partial application*: we partially applied the\n",
    "function `add` to one argument, even though you would normally think of it as a\n",
    "multi-argument function. This works because the following three functions are\n",
    "*syntactically different* but *semantically equivalent*. That is, they are\n",
    "different ways of expressing the same computation:\n",
    "\n",
    "```ocaml\n",
    "let add x y = x + y\n",
    "let add x = fun y -> x + y\n",
    "let add = fun x -> (fun y -> x + y)\n",
    "```\n",
    "\n",
    "So `add` is really a function that takes an argument `x` and returns a function\n",
    "`(fun y -> x + y)`. Which leads us to a deep truth...\n",
    "\n",
    "## Function Associativity\n",
    "\n",
    "Are you ready for the truth?  Here goes...\n",
    "\n",
    "**Every OCaml function takes exactly one argument.**\n",
    "\n",
    "Why? Consider `add`: although we can write it as `let add x y = x + y`, we know\n",
    "that's semantically equivalent to `let add = fun x -> (fun y -> x + y)`. And in\n",
    "general,\n",
    "\n",
    "```ocaml\n",
    "let f x1 x2 ... xn = e\n",
    "```\n",
    "\n",
    "is semantically equivalent to\n",
    "\n",
    "```ocaml\n",
    "let f =\n",
    "  fun x1 ->\n",
    "    (fun x2 ->\n",
    "       (...\n",
    "          (fun xn -> e)...))\n",
    "```\n",
    "\n",
    "So even though you think of `f` as a function that takes `n` arguments, in\n",
    "reality it is a function that takes 1 argument and returns a function.\n",
    "\n",
    "The type of such a function\n",
    "\n",
    "```ocaml\n",
    "t1 -> t2 -> t3 -> t4\n",
    "```\n",
    "\n",
    "really means the same as\n",
    "\n",
    "```ocaml\n",
    "t1 -> (t2 -> (t3 -> t4))\n",
    "```\n",
    "\n",
    "That is, function types are *right associative*: there are implicit parentheses\n",
    "around function types, from right to left. The intuition here is that a function\n",
    "takes a single argument and returns a new function that expects the remaining\n",
    "arguments.\n",
    "\n",
    "Function application, on the other hand, is *left associative*: there\n",
    "are implicit parenthesis around function applications, from left to right.\n",
    "So\n",
    "\n",
    "```ocaml\n",
    "e1 e2 e3 e4\n",
    "```\n",
    "\n",
    "really means the same as\n",
    "\n",
    "```ocaml\n",
    "((e1 e2) e3) e4\n",
    "```\n",
    "\n",
    "The intuition here is that the left-most expression grabs the next\n",
    "expression to its right as its single argument.\n",
    "\n",
    "## Operators as Functions\n",
    "\n",
    "{{ video_embed | replace(\"%%VID%%\", \"OVKOx8UiwxM\")}}\n",
    "\n",
    "The addition operator `+` has type `int -> int -> int`. It is normally written\n",
    "*infix*, e.g., `3 + 4`. By putting parentheses around it, we can make it a\n",
    "*prefix* operator:"
   ]
  },
  {
   "cell_type": "code",
   "execution_count": 15,
   "id": "15480128",
   "metadata": {},
   "outputs": [
    {
     "data": {
      "text/plain": [
       "- : int -> int -> int = <fun>\n"
      ]
     },
     "execution_count": 15,
     "metadata": {},
     "output_type": "execute_result"
    }
   ],
   "source": [
    "( + )"
   ]
  },
  {
   "cell_type": "code",
   "execution_count": 16,
   "id": "99ec8d80",
   "metadata": {},
   "outputs": [
    {
     "data": {
      "text/plain": [
       "- : int = 7\n"
      ]
     },
     "execution_count": 16,
     "metadata": {},
     "output_type": "execute_result"
    }
   ],
   "source": [
    "( + ) 3 4;;"
   ]
  },
  {
   "cell_type": "code",
   "execution_count": 17,
   "id": "b0468186",
   "metadata": {},
   "outputs": [
    {
     "data": {
      "text/plain": [
       "val add3 : int -> int = <fun>\n"
      ]
     },
     "execution_count": 17,
     "metadata": {},
     "output_type": "execute_result"
    }
   ],
   "source": [
    "let add3 = ( + ) 3"
   ]
  },
  {
   "cell_type": "code",
   "execution_count": 18,
   "id": "63497d1c",
   "metadata": {},
   "outputs": [
    {
     "data": {
      "text/plain": [
       "- : int = 5\n"
      ]
     },
     "execution_count": 18,
     "metadata": {},
     "output_type": "execute_result"
    }
   ],
   "source": [
    "add3 2"
   ]
  },
  {
   "cell_type": "markdown",
   "id": "a05a28e0",
   "metadata": {},
   "source": [
    "The same technique works for any built-in operator.\n",
    "\n",
    "Normally the spaces are unnecessary. We could write `(+)` or `( + )`, but it is\n",
    "best to include them. Beware of multiplication, which *must* be written as\n",
    "`( * )`, because `(*)` would be parsed as beginning a comment.\n",
    "\n",
    "We can even define our own new infix operators, for example:\n",
    "```ocaml\n",
    "let ( ^^ ) x y = max x y\n",
    "```\n",
    "And now `2 ^^ 3` evaluates to `3`.\n",
    "\n",
    "The rules for which punctuation can be used to create infix operators are not\n",
    "necessarily intuitive. Nor is the relative precedence with which such operators\n",
    "will be parsed. So be careful with this usage."
   ]
  }
 ],
 "metadata": {
  "jupytext": {
   "cell_metadata_filter": "-all",
   "formats": "md:myst",
   "text_representation": {
    "extension": ".md",
    "format_name": "myst",
    "format_version": 0.13,
    "jupytext_version": "1.10.3"
   }
  },
  "kernelspec": {
   "display_name": "OCaml",
   "language": "OCaml",
   "name": "ocaml-jupyter"
  },
  "language_info": {
   "codemirror_mode": "text/x-ocaml",
   "file_extension": ".ml",
   "mimetype": "text/x-ocaml",
   "name": "OCaml",
   "nbconverter_exporter": null,
   "pygments_lexer": "OCaml",
   "version": "4.11.1"
  },
  "source_map": [
   14,
   198,
   200,
   203,
   205,
   337,
   339,
   371,
   373,
   381,
   383,
   413,
   415,
   419,
   423,
   425,
   433,
   435,
   439,
   441,
   451,
   455,
   457,
   461,
   465,
   467,
   553,
   557,
   561,
   565,
   567
  ]
 },
 "nbformat": 4,
 "nbformat_minor": 5
}