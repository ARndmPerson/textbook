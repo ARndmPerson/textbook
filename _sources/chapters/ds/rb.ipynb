{
 "cells": [
  {
   "cell_type": "markdown",
   "id": "1f2cac25",
   "metadata": {},
   "source": [
    "# Red-Black Trees\n",
    "\n",
    "As we've now seen, hash tables are an efficient data structure for implementing\n",
    "a map ADT. They offer amortized, expected constant-time performance&mdash;which\n",
    "is a subtle guarantee because of those \"amortized\" and \"expected\" qualifiers we\n",
    "have to add. Hash tables also require mutability to implement.  As functional\n",
    "programmers, we prefer to avoid mutability when possible.\n",
    "\n",
    "So, let's investigate how to implement functional maps. One of the best data\n",
    "structures for that is the *red-black tree*, which is a kind of balanced binary\n",
    "search tree that offers worst-case logarithmic performance. So on one hand the\n",
    "performance is somewhat worse than hash tables (logarithmic vs. constant), but\n",
    "on the other hand we don't have to qualify the performance with words like\n",
    "\"amortized\" and \"expected\". Logarithmic is actually still plenty efficient for\n",
    "even very large workloads. And, we get to avoid mutability!\n",
    "\n",
    "## Binary Search Trees\n",
    "\n",
    "A **binary search tree** (BST) is a binary tree with the following\n",
    "representation invariant:\n",
    "\n",
    "> For any node *n*, every node in the left subtree of *n* has a value less than\n",
    "> *n*'s value, and every node in the right subtree of *n* has a value greater\n",
    "> than *n*'s value.\n",
    "\n",
    "We call that the *BST invariant*.\n",
    "\n",
    "Here is code that implements a couple of operations on a BST:"
   ]
  },
  {
   "cell_type": "code",
   "execution_count": 1,
   "id": "feefbe28",
   "metadata": {},
   "outputs": [
    {
     "data": {
      "text/plain": [
       "type 'a tree = Node of 'a * 'a tree * 'a tree | Leaf\n"
      ]
     },
     "execution_count": 1,
     "metadata": {},
     "output_type": "execute_result"
    },
    {
     "data": {
      "text/plain": [
       "val mem : 'a -> 'a tree -> bool = <fun>\n"
      ]
     },
     "execution_count": 1,
     "metadata": {},
     "output_type": "execute_result"
    },
    {
     "data": {
      "text/plain": [
       "val insert : 'a -> 'a tree -> 'a tree = <fun>\n"
      ]
     },
     "execution_count": 1,
     "metadata": {},
     "output_type": "execute_result"
    }
   ],
   "source": [
    "type 'a tree = Node of 'a * 'a tree * 'a tree | Leaf\n",
    "\n",
    "(** [mem x t] is [true] iff [x] is a member of [t]. *)\n",
    "let rec mem x = function\n",
    "  | Leaf -> false\n",
    "  | Node (y, l, r) ->\n",
    "    if x < y then mem x l\n",
    "    else if x > y then mem x r\n",
    "    else true\n",
    "\n",
    "(** [insert x t] is [t] . *)\n",
    "let rec insert x = function\n",
    "  | Leaf -> Node (x, Leaf, Leaf)\n",
    "  | Node (y, l, r) as t ->\n",
    "    if x < y then Node (y, insert x l, r)\n",
    "    else if x > y then Node (y, l, insert x r)\n",
    "    else t"
   ]
  },
  {
   "cell_type": "markdown",
   "id": "0df25c80",
   "metadata": {},
   "source": [
    "What is the running time of those operations? Since `insert` is just a `mem`\n",
    "with an extra constant-time node creation, we focus on the `mem` operation.\n",
    "\n",
    "The running time of `mem` is $O(h)$, where $h$ is the height of the tree,\n",
    "because every recursive call descends one level in the tree. What's the\n",
    "worst-case height of a tree? It occurs with a tree of $n$ nodes all in a single\n",
    "long branch&mdash;imagine adding the numbers 1,2,3,4,5,6,7 in order into the\n",
    "tree. So the worst-case running time of `mem` is still $O(n)$, where $n$ is the\n",
    "number of nodes in the tree.\n",
    "\n",
    "What is a good shape for a tree that would allow for fast lookup? A *perfect\n",
    "binary tree* has the largest number of nodes $n$ for a given height $h$, which\n",
    "is $n = 2^{h+1} - 1$. Therefore $h = \\log(n+1) - 1$, which is $O(\\log n)$.\n",
    "\n",
    "If a tree with $n$ nodes is kept balanced, its height is $O(\\log n)$, which\n",
    "leads to a lookup operation running in time $O(\\log n)$.\n",
    "\n",
    "How can we keep a tree balanced? It can become unbalanced during element\n",
    "insertion or deletion. Most balanced tree schemes involve adding or deleting an\n",
    "element just like in a normal binary search tree, followed by some kind of *tree\n",
    "surgery* to rebalance the tree. Some examples of balanced binary search tree\n",
    "data structures include\n",
    "\n",
    "-   AVL trees (1962)\n",
    "-   2-3 trees (1970's)\n",
    "-   Red-black trees (1970's)\n",
    "\n",
    "Each of these ensures $O(\\log n)$ running time by enforcing a stronger invariant\n",
    "on the data structure than just the binary search tree invariant.\n",
    "\n",
    "## Red-Black Trees\n",
    "\n",
    "Red-black trees are relatively simple balanced binary tree data structure. The\n",
    "idea is to strengthen the representation invariant so a tree has height\n",
    "logarithmic in the number of nodes $n$. To help enforce the invariant, we color\n",
    "each node of the tree either *red* or *black*. Where it matters, we consider the\n",
    "color of an empty tree to be black."
   ]
  },
  {
   "cell_type": "code",
   "execution_count": 2,
   "id": "851d9ae0",
   "metadata": {},
   "outputs": [
    {
     "data": {
      "text/plain": [
       "type color = Red | Black\n"
      ]
     },
     "execution_count": 2,
     "metadata": {},
     "output_type": "execute_result"
    },
    {
     "data": {
      "text/plain": [
       "type 'a rbtree = Leaf | Node of color * 'a * 'a rbtree * 'a rbtree\n"
      ]
     },
     "execution_count": 2,
     "metadata": {},
     "output_type": "execute_result"
    }
   ],
   "source": [
    "type color = Red | Black\n",
    "type 'a rbtree = Leaf | Node of color * 'a * 'a rbtree * 'a rbtree"
   ]
  },
  {
   "cell_type": "markdown",
   "id": "5ce0f407",
   "metadata": {},
   "source": [
    "Here are the new conditions we add to the binary search tree representation\n",
    "invariant:\n",
    "\n",
    "1.  There are no two adjacent red nodes along any path.\n",
    "\n",
    "2.  Every path from the root to a leaf has the same number of black nodes. This\n",
    "    number is called the *black height* (BH) of the tree.\n",
    "\n",
    "If a tree satisfies these two conditions, it must also be the case that every\n",
    "subtree of the tree also satisfies the conditions. If a subtree violated either\n",
    "of the conditions, the whole tree would also.\n",
    "\n",
    "Additionally, by convention the root of the tree is colored black. This does not\n",
    "violate the invariants, but it also is not required by them.\n",
    "\n",
    "With these invariants, the longest possible path from the root to an empty node\n",
    "would alternately contain red and black nodes; therefore it is at most twice as\n",
    "long as the shortest possible path, which only contains black nodes. The longest\n",
    "path cannot have a length greater than twice the length of the paths in a\n",
    "perfect binary tree, which is $O(\\log n)$. Therefore, the tree has height\n",
    "$O(\\log n)$ and the operations are all asymptotically logarithmic in the number\n",
    "of nodes.\n",
    "\n",
    "How do we check for membership in red-black trees? Exactly the same way as for\n",
    "general binary trees."
   ]
  },
  {
   "cell_type": "code",
   "execution_count": 3,
   "id": "a3cf981b",
   "metadata": {},
   "outputs": [
    {
     "data": {
      "text/plain": [
       "val mem : 'a -> 'a rbtree -> bool = <fun>\n"
      ]
     },
     "execution_count": 3,
     "metadata": {},
     "output_type": "execute_result"
    }
   ],
   "source": [
    "let rec mem x = function\n",
    "  | Leaf -> false\n",
    "  | Node (_, y, l, r) ->\n",
    "    if x < y then mem x l\n",
    "    else if x > y then mem x r\n",
    "    else true"
   ]
  },
  {
   "cell_type": "markdown",
   "id": "cf6d3f36",
   "metadata": {},
   "source": [
    "More interesting is the `insert` operation. As with standard binary trees, we\n",
    "add a node by replacing the leaf found by the search procedure. We also color\n",
    "the new node red to ensure that invariant 2 is preserved. However, this may\n",
    "destroy invariant 1 by producing two adjacent red nodes. In order to restore the\n",
    "invariant, we consider not only the new red node and its red parent, but also\n",
    "its (black) grandparent. The next figure shows the four possible cases that can\n",
    "arise.\n",
    "\n",
    "```text\n",
    "           1             2             3             4\n",
    "\n",
    "           Bz            Bz            Bx            Bx\n",
    "          / \\           / \\           / \\           / \\\n",
    "         Ry  d         Rx  d         a   Rz        a   Ry\n",
    "        /  \\          / \\               /  \\          /  \\\n",
    "      Rx   c         a   Ry            Ry   d        b    Rz\n",
    "     /  \\               /  \\          / \\                /  \\\n",
    "    a    b             b    c        b   c              c    d\n",
    "```\n",
    "\n",
    "Notice that in each of these trees, the values of the nodes in `a`, `b`, `c`,\n",
    "and `d` must have the same relative ordering with respect to `x`, `y`, and `z`:\n",
    "`a < x < b < y < c < z < d`. Therefore, we can transform the tree to restore the\n",
    "invariant locally by replacing any of the above four cases with:\n",
    "\n",
    "```text\n",
    "         Ry\n",
    "        /  \\\n",
    "      Bx    Bz\n",
    "     / \\   / \\\n",
    "    a   b c   d\n",
    "```\n",
    "\n",
    "This balance function can be written simply and concisely using pattern\n",
    "matching, where each of the four input cases is mapped to the same output case.\n",
    "In addition, there is the case where the tree is left unchanged locally."
   ]
  },
  {
   "cell_type": "code",
   "execution_count": 4,
   "id": "e2ac12e5",
   "metadata": {},
   "outputs": [
    {
     "data": {
      "text/plain": [
       "val balance : color * 'a * 'a rbtree * 'a rbtree -> 'a rbtree = <fun>\n"
      ]
     },
     "execution_count": 4,
     "metadata": {},
     "output_type": "execute_result"
    }
   ],
   "source": [
    "let balance = function\n",
    "  | Black, z, Node (Red, y, Node (Red, x, a, b), c), d\n",
    "  | Black, z, Node (Red, x, a, Node (Red, y, b, c)), d\n",
    "  | Black, x, a, Node (Red, z, Node (Red, y, b, c), d)\n",
    "  | Black, x, a, Node (Red, y, b, Node (Red, z, c, d)) ->\n",
    "    Node (Red, y, Node (Black, x, a, b), Node (Black, z, c, d))\n",
    "  | a, b, c, d -> Node (a, b, c, d)"
   ]
  },
  {
   "cell_type": "markdown",
   "id": "a032f49a",
   "metadata": {},
   "source": [
    "This balancing transformation possibly breaks invariant 1 one level up in the\n",
    "tree, but it can be restored again at that level in the same way, and so on up\n",
    "the tree. In the worst case, the process cascades all the way up to the root,\n",
    "resulting in two adjacent red nodes, one of them the root. But if this happens,\n",
    "we can just recolor the root black, which increases the BH by one. The amount of\n",
    "work is $O(\\log n)$. The `insert` code using `balance` is as follows:"
   ]
  },
  {
   "cell_type": "code",
   "execution_count": 5,
   "id": "30c83682",
   "metadata": {},
   "outputs": [
    {
     "data": {
      "text/plain": [
       "val insert : 'a -> 'a rbtree -> 'a rbtree = <fun>\n"
      ]
     },
     "execution_count": 5,
     "metadata": {},
     "output_type": "execute_result"
    }
   ],
   "source": [
    "let insert x s =\n",
    "  let rec ins = function\n",
    "    | Leaf -> Node (Red, x, Leaf, Leaf)\n",
    "    | Node (color, y, a, b) as s ->\n",
    "      if x < y then balance (color, y, ins a, b)\n",
    "      else if x > y then balance (color, y, a, ins b)\n",
    "      else s\n",
    "  in\n",
    "  match ins s with\n",
    "  | Node (_, y, a, b) -> Node (Black, y, a, b)\n",
    "  | Leaf -> (* guaranteed to be nonempty *)\n",
    "    failwith \"RBT insert failed with ins returning leaf\""
   ]
  },
  {
   "cell_type": "markdown",
   "id": "7fd02690",
   "metadata": {},
   "source": [
    "Removing an element from a red-black tree works analogously. We start with BST\n",
    "element removal and then do rebalancing. When an interior (nonleaf) node is\n",
    "removed, we simply splice it out if it has fewer than two nonleaf children; if\n",
    "it has two nonleaf children, we find the next value in the tree, which must be\n",
    "found inside its right child.\n",
    "\n",
    "Balancing the trees during removal from red-black tree requires considering more\n",
    "cases. Deleting a black element from the tree creates the possibility that some\n",
    "path in the tree has too few black nodes, breaking the black-height invariant 2.\n",
    "The solution is to consider that path to contain a \"doubly-black\" node. A series\n",
    "of tree rotations can then eliminate the doubly-black node by propagating the\n",
    "\"blackness\" up until a red node can be converted to a black node, or until the\n",
    "root is reached and it can be changed from doubly-black to black without\n",
    "breaking the invariant.\n",
    "\n",
    "## Maps and Sets from BSTs\n",
    "\n",
    "It's easy to use a BST to implement either a map or a set ADT:\n",
    "\n",
    "- For a map, just store a binding at each node. The nodes are ordered by the\n",
    "  keys. The values are irrelevant to the ordering.\n",
    "\n",
    "- For a set, just store an element at each node. The nodes are ordered by the\n",
    "  elements.\n",
    "\n",
    "The OCaml standard library does this for the `Map` and `Set` modules. It uses a\n",
    "balanced BST that is a variant of an AVL tree. AVL trees are balanced BSTs in\n",
    "which the height of paths is allowed to vary by at most 1. The OCaml standard\n",
    "library modifies that to allow the height to vary by at most 2. Like red-black\n",
    "trees, they achieve worst-case logarithmic performance.\n",
    "\n",
    "Now that we have a functional map data structure, how does it compare to our\n",
    "imperative version, the hash table?\n",
    "\n",
    "- **Persistence:** Our red-black trees are persistent, but hash tables are\n",
    "  ephemeral.\n",
    "\n",
    "- **Performance:** We get guaranteed worst-case logarithmic performance with\n",
    "  red-black trees, but amortized, expected constant-time with hash tables.\n",
    "  That's somewhat hard to compare given all the modifiers involved. It's also an\n",
    "  example of a general phenomenon that persistent data structures often have to\n",
    "  pay an extra logarithmic cost over the equivalent ephemeral data structures.\n",
    "\n",
    "- **Convenience:** We have to provide an ordering function for balanced binary\n",
    "  trees, and a hash function for hash tables. Most libraries provide a default\n",
    "  hash function for convenience. But the performance of the hash table does\n",
    "  depend on that hash function truly distributing keys randomly over buckets. If\n",
    "  it doesn't, the \"expected\" part of the performance guarantee for hash tables\n",
    "  is violated. So the convenience is a double-edged sword.\n",
    "\n",
    "There isn't a clear winner here. Since the OCaml library provides both `Map` and\n",
    "`Hashtbl`, you get to choose."
   ]
  }
 ],
 "metadata": {
  "jupytext": {
   "cell_metadata_filter": "-all",
   "formats": "md:myst",
   "text_representation": {
    "extension": ".md",
    "format_name": "myst",
    "format_version": 0.13,
    "jupytext_version": "1.10.3"
   }
  },
  "kernelspec": {
   "display_name": "OCaml",
   "language": "OCaml",
   "name": "ocaml-jupyter"
  },
  "language_info": {
   "codemirror_mode": "text/x-ocaml",
   "file_extension": ".ml",
   "mimetype": "text/x-ocaml",
   "name": "OCaml",
   "nbconverter_exporter": null,
   "pygments_lexer": "OCaml",
   "version": "4.11.1"
  },
  "source_map": [
   14,
   45,
   63,
   103,
   106,
   134,
   141,
   180,
   188,
   197,
   210
  ]
 },
 "nbformat": 4,
 "nbformat_minor": 5
}