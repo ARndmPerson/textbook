{
 "cells": [
  {
   "cell_type": "markdown",
   "id": "1f389423",
   "metadata": {},
   "source": [
    "# Monads\n",
    "\n",
    "A *monad* is more of a design pattern than a data structure. That is, there are\n",
    "many data structures that, if you look at them in the right way, turn out to be\n",
    "monads.\n",
    "\n",
    "The name \"monad\" comes from the mathematical field of *category theory*, which\n",
    "studies abstractions of mathematical structures. If you ever take a PhD level\n",
    "class on programming language theory, you will likely encounter that idea in\n",
    "more detail. Here, though, we will omit most of the mathematical theory and\n",
    "concentrate on code.\n",
    "\n",
    "Monads became popular in the programming world through their use in Haskell, a\n",
    "functional programming language that is even more pure than OCaml&mdash;that is,\n",
    "Haskell avoids side effects and imperative features even more than OCaml. But no\n",
    "practical language can do without side effects. After all, printing to the\n",
    "screen is a side effect. So Haskell set out to control the use of side effects\n",
    "through the monad design pattern. Since then, monads have become recognized as\n",
    "useful in other functional programming languages, and are even starting to\n",
    "appear in imperative languages.\n",
    "\n",
    "Monads are used to model *computations*. Think of a computation as being like a\n",
    "function, which maps an input to an output, but as also doing \"something more.\"\n",
    "The something more is an effect that the function has as a result of being\n",
    "computed. For example, the effect might involve printing to the screen. Monads\n",
    "provide an abstraction of effects, and help to make sure that effects happen in\n",
    "a controlled order.\n",
    "\n",
    "## The Monad Signature\n",
    "\n",
    "For our purposes, a monad is a structure that satisfies two properties. First,\n",
    "it must match the following signature:"
   ]
  },
  {
   "cell_type": "code",
   "execution_count": 1,
   "id": "1736c9da",
   "metadata": {
    "tags": [
     "hide-output"
    ]
   },
   "outputs": [
    {
     "data": {
      "text/plain": [
       "module type Monad =\n",
       "  sig\n",
       "    type 'a t\n",
       "    val return : 'a -> 'a t\n",
       "    val bind : 'a t -> ('a -> 'b t) -> 'b t\n",
       "  end\n"
      ]
     },
     "execution_count": 1,
     "metadata": {},
     "output_type": "execute_result"
    }
   ],
   "source": [
    "module type Monad = sig\n",
    "  type 'a t\n",
    "  val return : 'a -> 'a t\n",
    "  val bind : 'a t -> ('a -> 'b t) -> 'b t\n",
    "end"
   ]
  },
  {
   "cell_type": "markdown",
   "id": "e10f25dd",
   "metadata": {},
   "source": [
    "Second, a monad must obey what are called the *monad laws*. We will return to\n",
    "those much later, after we have studied the `return` and `bind` operations.\n",
    "\n",
    "Think of a monad as being like a box that contains some value. The value has\n",
    "type `'a`, and the box that contains it is of type `'a t`. We have previously\n",
    "used a similar box metaphor for both options and promises. That was no accident:\n",
    "options and promises are both examples of monads, as we will see in detail,\n",
    "below.\n",
    "\n",
    "**Return.** The `return` operation metaphorically puts a value into a box. You\n",
    "can see that in its type: the input is of type `'a`, and the output is of type\n",
    "`'a t`.\n",
    "\n",
    "In terms of computations, `return` is intended to have some kind of trivial\n",
    "effect. For example, if the monad represents computations whose side effect is\n",
    "printing to the screen, the trivial effect would be to not print anything.\n",
    "\n",
    "**Bind.** The `bind` operation metaphorically takes as input:\n",
    "\n",
    "* a boxed value, which has type `'a t`, and\n",
    "\n",
    "* a function that itself takes an *unboxed* value of type `'a` as input and\n",
    "  returns a *boxed* value of type `'b t` as output.\n",
    "\n",
    "The `bind` applies its second argument to the first. That requires taking the\n",
    "`'a` value out of its box, applying the function to it, and returning the\n",
    "result.\n",
    "\n",
    "In terms of computations, `bind` is intended to sequence effects one after\n",
    "another. Continuing the running example of printing, sequencing would mean first\n",
    "printing one string, then another, and `bind` would be making sure that the\n",
    "printing happens in the correct order.\n",
    "\n",
    "The usual notation for `bind` is as an infix operator written `>>=` and still\n",
    "pronounced \"bind\". So let's revise our signature for monads:"
   ]
  },
  {
   "cell_type": "code",
   "execution_count": 2,
   "id": "45f44856",
   "metadata": {
    "tags": [
     "hide-output"
    ]
   },
   "outputs": [
    {
     "data": {
      "text/plain": [
       "module type Monad =\n",
       "  sig\n",
       "    type 'a t\n",
       "    val return : 'a -> 'a t\n",
       "    val ( >>= ) : 'a t -> ('a -> 'b t) -> 'b t\n",
       "  end\n"
      ]
     },
     "execution_count": 2,
     "metadata": {},
     "output_type": "execute_result"
    }
   ],
   "source": [
    "module type Monad = sig\n",
    "  type 'a t\n",
    "  val return : 'a -> 'a t\n",
    "  val ( >>= ) : 'a t -> ('a -> 'b t) -> 'b t\n",
    "end"
   ]
  },
  {
   "cell_type": "markdown",
   "id": "8775efdd",
   "metadata": {},
   "source": [
    "All of the above is likely to feel very abstract upon first reading. It will\n",
    "help to see some concrete examples of monads. Once you understand several `>>=`\n",
    "and `return` operations, the design pattern itself should make more sense.\n",
    "\n",
    "So the next few sections look at several different examples of code in which\n",
    "monads can be discovered. Because monads are a design pattern, they aren't\n",
    "always obvious; it can take some study to tease out where the monad operations\n",
    "are being used.\n",
    "\n",
    "## The Maybe Monad\n",
    "\n",
    "As we've seen before, sometimes functions are partial: there is no good output\n",
    "they can produce for some inputs. For example, the function\n",
    "`max_list : int list -> int` doesn't necessarily have a good output value to\n",
    "return for the empty list. One possibility is to raise an exception. Another\n",
    "possibility is to change the return type to be `int option`, and use `None` to\n",
    "represent the function's inability to produce an output. In other words, *maybe*\n",
    "the function produces an output, or *maybe* it is unable to do so hence returns\n",
    "`None`.\n",
    "\n",
    "As another example, consider the built-in OCaml integer division function\n",
    "`( / ) : int -> int -> int`. If its second argument is zero, it raises an\n",
    "exception. Another possibility, though, would be to change its type to be\n",
    "`( / ) : int -> int -> int option`, and return `None` whenever the divisor is\n",
    "zero.\n",
    "\n",
    "Both of those examples involved changing the output type of a partial function\n",
    "to be an option, thus making the function total. That's a nice way to program,\n",
    "until you start trying to combine many functions together. For example, because\n",
    "all the integer operations&mdash;addition, subtraction, division,\n",
    "multiplication, negation, etc.&mdash;expect an `int` (or two) as input, you can\n",
    "form large expressions out of them. But as soon as you change the output type of\n",
    "division to be an option, you lose that *compositionality*.\n",
    "\n",
    "Here's some code to make that idea concrete:"
   ]
  },
  {
   "cell_type": "code",
   "execution_count": 3,
   "id": "998e7b29",
   "metadata": {},
   "outputs": [
    {
     "data": {
      "text/plain": [
       "val x : int = 3\n"
      ]
     },
     "execution_count": 3,
     "metadata": {},
     "output_type": "execute_result"
    }
   ],
   "source": [
    "(* works fine *)\n",
    "let x = 1 + (4 / 2)"
   ]
  },
  {
   "cell_type": "code",
   "execution_count": 4,
   "id": "62782587",
   "metadata": {
    "tags": [
     "raises-exception"
    ]
   },
   "outputs": [
    {
     "data": {
      "text/plain": [
       "val div : int -> int -> int option = <fun>\n"
      ]
     },
     "execution_count": 4,
     "metadata": {},
     "output_type": "execute_result"
    },
    {
     "data": {
      "text/plain": [
       "val ( / ) : int -> int -> int option = <fun>\n"
      ]
     },
     "execution_count": 4,
     "metadata": {},
     "output_type": "execute_result"
    },
    {
     "ename": "error",
     "evalue": "compile_error",
     "output_type": "error",
     "traceback": [
      "File \"[4]\", line 7, characters 12-19:\n7 | let x = 1 + (4 / 2)\n                ^^^^^^^\nError: This expression has type int option\n       but an expression was expected of type int\n"
     ]
    }
   ],
   "source": [
    "let div (x:int) (y:int) : int option =\n",
    "  if y = 0 then None else Some (x / y)\n",
    "\n",
    "let ( / ) = div\n",
    "\n",
    "(* won't type check *)\n",
    "let x = 1 + (4 / 2)"
   ]
  },
  {
   "cell_type": "markdown",
   "id": "05ff5c7f",
   "metadata": {},
   "source": [
    "The problem is that we can't add an `int` to an `int option`:  the addition\n",
    "operator expects its second input to be of type `int`, but the new division\n",
    "operator returns a value of type `int option`.\n",
    "\n",
    "One possibility would be to re-code all the existing operators to\n",
    "accept `int option` as input.  For example,"
   ]
  },
  {
   "cell_type": "code",
   "execution_count": 5,
   "id": "24ab3dff",
   "metadata": {
    "tags": [
     "hide-output"
    ]
   },
   "outputs": [
    {
     "data": {
      "text/plain": [
       "val plus_opt : int option -> int option -> int option = <fun>\n"
      ]
     },
     "execution_count": 5,
     "metadata": {},
     "output_type": "execute_result"
    },
    {
     "data": {
      "text/plain": [
       "val ( + ) : int option -> int option -> int option = <fun>\n"
      ]
     },
     "execution_count": 5,
     "metadata": {},
     "output_type": "execute_result"
    },
    {
     "data": {
      "text/plain": [
       "val minus_opt : int option -> int option -> int option = <fun>\n"
      ]
     },
     "execution_count": 5,
     "metadata": {},
     "output_type": "execute_result"
    },
    {
     "data": {
      "text/plain": [
       "val ( - ) : int option -> int option -> int option = <fun>\n"
      ]
     },
     "execution_count": 5,
     "metadata": {},
     "output_type": "execute_result"
    },
    {
     "data": {
      "text/plain": [
       "val mult_opt : int option -> int option -> int option = <fun>\n"
      ]
     },
     "execution_count": 5,
     "metadata": {},
     "output_type": "execute_result"
    },
    {
     "data": {
      "text/plain": [
       "val ( * ) : int option -> int option -> int option = <fun>\n"
      ]
     },
     "execution_count": 5,
     "metadata": {},
     "output_type": "execute_result"
    },
    {
     "data": {
      "text/plain": [
       "val div_opt : int option -> int option -> int option = <fun>\n"
      ]
     },
     "execution_count": 5,
     "metadata": {},
     "output_type": "execute_result"
    },
    {
     "data": {
      "text/plain": [
       "val ( / ) : int option -> int option -> int option = <fun>\n"
      ]
     },
     "execution_count": 5,
     "metadata": {},
     "output_type": "execute_result"
    }
   ],
   "source": [
    "let plus_opt (x:int option) (y:int option) : int option =\n",
    "  match x,y with\n",
    "  | None, _ | _, None -> None\n",
    "  | Some a, Some b -> Some (Stdlib.( + ) a b)\n",
    "\n",
    "let ( + ) = plus_opt\n",
    "\n",
    "let minus_opt (x:int option) (y:int option) : int option =\n",
    "  match x,y with\n",
    "  | None, _ | _, None -> None\n",
    "  | Some a, Some b -> Some (Stdlib.( - ) a b)\n",
    "\n",
    "let ( - ) = minus_opt\n",
    "\n",
    "let mult_opt (x:int option) (y:int option) : int option =\n",
    "  match x,y with\n",
    "  | None, _ | _, None -> None\n",
    "  | Some a, Some b -> Some (Stdlib.( * ) a b)\n",
    "\n",
    "let ( * ) = mult_opt\n",
    "\n",
    "let div_opt (x:int option) (y:int option) : int option =\n",
    "  match x,y with\n",
    "  | None, _ | _, None -> None\n",
    "  | Some a, Some b ->\n",
    "    if b=0 then None else Some (Stdlib.( / ) a b)\n",
    "\n",
    "let ( / ) = div_opt"
   ]
  },
  {
   "cell_type": "code",
   "execution_count": 6,
   "id": "70660a6d",
   "metadata": {},
   "outputs": [
    {
     "data": {
      "text/plain": [
       "val x : int option = Some 3\n"
      ]
     },
     "execution_count": 6,
     "metadata": {},
     "output_type": "execute_result"
    }
   ],
   "source": [
    "(* does type check *)\n",
    "let x = Some 1 + (Some 4 / Some 2)"
   ]
  },
  {
   "cell_type": "markdown",
   "id": "42e39993",
   "metadata": {},
   "source": [
    "But that's a tremendous amount of code duplication. We ought to apply the\n",
    "Abstraction Principle and deduplicate. Three of the four operators can be\n",
    "handled by abstracting a function that just does some pattern matching to\n",
    "propagate `None`:"
   ]
  },
  {
   "cell_type": "code",
   "execution_count": 7,
   "id": "fd9dbcfa",
   "metadata": {},
   "outputs": [
    {
     "data": {
      "text/plain": [
       "val propagate_none :\n",
       "  (int -> int -> int) -> int option -> int option -> int option = <fun>\n"
      ]
     },
     "execution_count": 7,
     "metadata": {},
     "output_type": "execute_result"
    },
    {
     "data": {
      "text/plain": [
       "val ( + ) : int option -> int option -> int option = <fun>\n"
      ]
     },
     "execution_count": 7,
     "metadata": {},
     "output_type": "execute_result"
    },
    {
     "data": {
      "text/plain": [
       "val ( - ) : int option -> int option -> int option = <fun>\n"
      ]
     },
     "execution_count": 7,
     "metadata": {},
     "output_type": "execute_result"
    },
    {
     "data": {
      "text/plain": [
       "val ( * ) : int option -> int option -> int option = <fun>\n"
      ]
     },
     "execution_count": 7,
     "metadata": {},
     "output_type": "execute_result"
    }
   ],
   "source": [
    "let propagate_none (op : int -> int -> int) (x : int option) (y : int option) =\n",
    "  match x, y with\n",
    "  | None, _ | _, None -> None\n",
    "  | Some a, Some b -> Some (op a b)\n",
    "\n",
    "let ( + ) = propagate_none Stdlib.( + )\n",
    "let ( - ) = propagate_none Stdlib.( - )\n",
    "let ( * ) = propagate_none Stdlib.( * )"
   ]
  },
  {
   "cell_type": "markdown",
   "id": "44378f54",
   "metadata": {},
   "source": [
    "Unfortunately, division is harder to deduplicate. We can't just pass\n",
    "`Stdlib.( / )` to `propagate_none`, because neither of those functions will\n",
    "check to see whether the divisor is zero. It would be nice if we could pass our\n",
    "function `div : int -> int -> int option` to `propagate_none`, but the return\n",
    "type of `div` makes that impossible.\n",
    "\n",
    "So, let's rewrite `propagate_none` to accept an operator of the same type as\n",
    "`div`, which makes it easy to implement division:"
   ]
  },
  {
   "cell_type": "code",
   "execution_count": 8,
   "id": "955957da",
   "metadata": {},
   "outputs": [
    {
     "data": {
      "text/plain": [
       "val propagate_none :\n",
       "  (int -> int -> int option) -> int option -> int option -> int option =\n",
       "  <fun>\n"
      ]
     },
     "execution_count": 8,
     "metadata": {},
     "output_type": "execute_result"
    },
    {
     "data": {
      "text/plain": [
       "val ( / ) : int option -> int option -> int option = <fun>\n"
      ]
     },
     "execution_count": 8,
     "metadata": {},
     "output_type": "execute_result"
    }
   ],
   "source": [
    "let propagate_none\n",
    "  (op : int -> int -> int option) (x : int option) (y : int option)\n",
    "=\n",
    "  match x, y with\n",
    "  | None, _ | _, None -> None\n",
    "  | Some a, Some b -> op a b\n",
    "\n",
    "let ( / ) = propagate_none div"
   ]
  },
  {
   "cell_type": "markdown",
   "id": "3c580cdf",
   "metadata": {},
   "source": [
    "Implementing the other three operations requires a little more work, because\n",
    "their return type is `int` not `int option`. We need to wrap their return value\n",
    "with `Some`:"
   ]
  },
  {
   "cell_type": "code",
   "execution_count": 9,
   "id": "9b55573c",
   "metadata": {},
   "outputs": [
    {
     "data": {
      "text/plain": [
       "val wrap_output : (int -> int -> int) -> int -> int -> int option = <fun>\n"
      ]
     },
     "execution_count": 9,
     "metadata": {},
     "output_type": "execute_result"
    },
    {
     "data": {
      "text/plain": [
       "val ( + ) : int option -> int option -> int option = <fun>\n"
      ]
     },
     "execution_count": 9,
     "metadata": {},
     "output_type": "execute_result"
    },
    {
     "data": {
      "text/plain": [
       "val ( - ) : int option -> int option -> int option = <fun>\n"
      ]
     },
     "execution_count": 9,
     "metadata": {},
     "output_type": "execute_result"
    },
    {
     "data": {
      "text/plain": [
       "val ( * ) : int option -> int option -> int option = <fun>\n"
      ]
     },
     "execution_count": 9,
     "metadata": {},
     "output_type": "execute_result"
    }
   ],
   "source": [
    "let wrap_output (op : int -> int -> int) (x : int) (y : int) : int option =\n",
    "  Some (op x y)\n",
    "\n",
    "let ( + ) = propagate_none (wrap_output Stdlib.( + ))\n",
    "let ( - ) = propagate_none (wrap_output Stdlib.( - ))\n",
    "let ( * ) = propagate_none (wrap_output Stdlib.( * ))"
   ]
  },
  {
   "cell_type": "markdown",
   "id": "86e862dd",
   "metadata": {},
   "source": [
    "Finally, we could re-implement `div` to use `wrap_output`:"
   ]
  },
  {
   "cell_type": "code",
   "execution_count": 10,
   "id": "40009bd7",
   "metadata": {},
   "outputs": [
    {
     "data": {
      "text/plain": [
       "val div : int -> int -> int option = <fun>\n"
      ]
     },
     "execution_count": 10,
     "metadata": {},
     "output_type": "execute_result"
    },
    {
     "data": {
      "text/plain": [
       "val ( / ) : int option -> int option -> int option = <fun>\n"
      ]
     },
     "execution_count": 10,
     "metadata": {},
     "output_type": "execute_result"
    }
   ],
   "source": [
    "let div (x : int) (y : int) : int option =\n",
    "  if y = 0 then None else wrap_output Stdlib.( / ) x y\n",
    "\n",
    "let ( / ) = propagate_none div"
   ]
  },
  {
   "cell_type": "markdown",
   "id": "524dcca7",
   "metadata": {},
   "source": [
    "**Where's the Monad?** The work we just did was to take functions on integers\n",
    "and transform them into functions on values that maybe are integers, but maybe\n",
    "are not&mdash;that is, values that are either `Some i` where `i` is an integer,\n",
    "or are `None`. We can think of these \"upgraded\" functions as computations that\n",
    "*may have the effect of producing nothing*. They produce metaphorical boxes, and\n",
    "those boxes may be full of something, or contain nothing.\n",
    "\n",
    "There were two fundamental ideas in the code we just wrote, which correspond to\n",
    "the monad operations of `return` and `bind`.\n",
    "\n",
    "The first (which admittedly seems trivial) was upgrading a value from `int` to\n",
    "`int option` by wrapping it with `Some`. That's what the body of `wrap_output`\n",
    "does. We could expose that idea even more clearly by defining the following\n",
    "function:"
   ]
  },
  {
   "cell_type": "code",
   "execution_count": 11,
   "id": "2125b040",
   "metadata": {},
   "outputs": [
    {
     "data": {
      "text/plain": [
       "val return : int -> int option = <fun>\n"
      ]
     },
     "execution_count": 11,
     "metadata": {},
     "output_type": "execute_result"
    }
   ],
   "source": [
    "let return (x : int) : int option = Some x"
   ]
  },
  {
   "cell_type": "markdown",
   "id": "45692ebc",
   "metadata": {},
   "source": [
    "This function has the *trivial effect* of putting a value into the metaphorical\n",
    "box.\n",
    "\n",
    "The second idea was factoring out code to handle all the pattern matching\n",
    "against `None`. We had to upgrade functions whose inputs were of type `int` to\n",
    "instead accept inputs of type `int option`. Here's that idea expressed as its\n",
    "own function:"
   ]
  },
  {
   "cell_type": "code",
   "execution_count": 12,
   "id": "6d8e2ee4",
   "metadata": {},
   "outputs": [
    {
     "data": {
      "text/plain": [
       "val bind : int option -> (int -> int option) -> int option = <fun>\n"
      ]
     },
     "execution_count": 12,
     "metadata": {},
     "output_type": "execute_result"
    },
    {
     "data": {
      "text/plain": [
       "val ( >>= ) : int option -> (int -> int option) -> int option = <fun>\n"
      ]
     },
     "execution_count": 12,
     "metadata": {},
     "output_type": "execute_result"
    }
   ],
   "source": [
    "let bind (x : int option) (op : int -> int option) : int option =\n",
    "  match x with\n",
    "  | None -> None\n",
    "  | Some a -> op a\n",
    "\n",
    "let ( >>= ) = bind"
   ]
  },
  {
   "cell_type": "markdown",
   "id": "f12f8a6e",
   "metadata": {},
   "source": [
    "The `bind` function can be understood as doing the core work of upgrading `op`\n",
    "from a function that accepts an `int` as input to a function that accepts an\n",
    "`int option` as input. In fact, we could even write a function that does that\n",
    "upgrading for us using `bind`:"
   ]
  },
  {
   "cell_type": "code",
   "execution_count": 13,
   "id": "a19da9e0",
   "metadata": {},
   "outputs": [
    {
     "data": {
      "text/plain": [
       "val upgrade : (int -> int option) -> int option -> int option = <fun>\n"
      ]
     },
     "execution_count": 13,
     "metadata": {},
     "output_type": "execute_result"
    }
   ],
   "source": [
    "let upgrade : (int -> int option) -> (int option -> int option) =\n",
    "  fun (op : int -> int option) (x : int option) -> (x >>= op)"
   ]
  },
  {
   "cell_type": "markdown",
   "id": "ff0529a0",
   "metadata": {},
   "source": [
    "All those type annotations are intended to help the reader understand\n",
    "the function.  Of course, it could be written much more simply as:"
   ]
  },
  {
   "cell_type": "code",
   "execution_count": 14,
   "id": "0ce3cb69",
   "metadata": {},
   "outputs": [
    {
     "data": {
      "text/plain": [
       "val upgrade : (int -> int option) -> int option -> int option = <fun>\n"
      ]
     },
     "execution_count": 14,
     "metadata": {},
     "output_type": "execute_result"
    }
   ],
   "source": [
    "let upgrade op x = x >>= op"
   ]
  },
  {
   "cell_type": "markdown",
   "id": "225d1cbf",
   "metadata": {},
   "source": [
    "Using just the `return` and `>>=` functions, we could re-implement the\n",
    "arithmetic operations from above:"
   ]
  },
  {
   "cell_type": "code",
   "execution_count": 15,
   "id": "43d8ae6e",
   "metadata": {},
   "outputs": [
    {
     "data": {
      "text/plain": [
       "val ( + ) : int option -> int option -> int option = <fun>\n"
      ]
     },
     "execution_count": 15,
     "metadata": {},
     "output_type": "execute_result"
    },
    {
     "data": {
      "text/plain": [
       "val ( - ) : int option -> int option -> int option = <fun>\n"
      ]
     },
     "execution_count": 15,
     "metadata": {},
     "output_type": "execute_result"
    },
    {
     "data": {
      "text/plain": [
       "val ( * ) : int option -> int option -> int option = <fun>\n"
      ]
     },
     "execution_count": 15,
     "metadata": {},
     "output_type": "execute_result"
    },
    {
     "data": {
      "text/plain": [
       "val ( / ) : int option -> int option -> int option = <fun>\n"
      ]
     },
     "execution_count": 15,
     "metadata": {},
     "output_type": "execute_result"
    }
   ],
   "source": [
    "let ( + ) (x : int option) (y : int option) : int option =\n",
    "  x >>= fun a ->\n",
    "  y >>= fun b ->\n",
    "  return (Stdlib.( + ) a b)\n",
    "\n",
    "let ( - ) (x : int option) (y : int option) : int option =\n",
    "  x >>= fun a ->\n",
    "  y >>= fun b ->\n",
    "  return (Stdlib.( - ) a b)\n",
    "\n",
    "let ( * ) (x : int option) (y : int option) : int option =\n",
    "  x >>= fun a ->\n",
    "  y >>= fun b ->\n",
    "  return (Stdlib.( * ) a b)\n",
    "\n",
    "let ( / ) (x : int option) (y : int option) : int option =\n",
    "  x >>= fun a ->\n",
    "  y >>= fun b ->\n",
    "  if b = 0 then None else return (Stdlib.( / ) a b)"
   ]
  },
  {
   "cell_type": "markdown",
   "id": "f6e68a37",
   "metadata": {},
   "source": [
    "Recall, from our discussion of the bind operator in Lwt, that the syntax above\n",
    "should be parsed by your eye as\n",
    "\n",
    "* take `x` and extract from it the value `a`,\n",
    "* then take `y` and extract from it `b`,\n",
    "* then use `a` and `b` to construct a return value.\n",
    "\n",
    "Of course, there's still a fair amount of duplication going on there. We can\n",
    "de-duplicate by using the same techniques as we did before:"
   ]
  },
  {
   "cell_type": "code",
   "execution_count": 16,
   "id": "c328d399",
   "metadata": {},
   "outputs": [
    {
     "data": {
      "text/plain": [
       "val upgrade_binary :\n",
       "  (int -> int -> int option) -> int option -> int option -> int option =\n",
       "  <fun>\n"
      ]
     },
     "execution_count": 16,
     "metadata": {},
     "output_type": "execute_result"
    },
    {
     "data": {
      "text/plain": [
       "val return_binary : ('a -> 'b -> int) -> 'a -> 'b -> int option = <fun>\n"
      ]
     },
     "execution_count": 16,
     "metadata": {},
     "output_type": "execute_result"
    },
    {
     "data": {
      "text/plain": [
       "val ( + ) : int option -> int option -> int option = <fun>\n"
      ]
     },
     "execution_count": 16,
     "metadata": {},
     "output_type": "execute_result"
    },
    {
     "data": {
      "text/plain": [
       "val ( - ) : int option -> int option -> int option = <fun>\n"
      ]
     },
     "execution_count": 16,
     "metadata": {},
     "output_type": "execute_result"
    },
    {
     "data": {
      "text/plain": [
       "val ( * ) : int option -> int option -> int option = <fun>\n"
      ]
     },
     "execution_count": 16,
     "metadata": {},
     "output_type": "execute_result"
    },
    {
     "data": {
      "text/plain": [
       "val ( / ) : int option -> int option -> int option = <fun>\n"
      ]
     },
     "execution_count": 16,
     "metadata": {},
     "output_type": "execute_result"
    }
   ],
   "source": [
    "let upgrade_binary op x y =\n",
    "  x >>= fun a ->\n",
    "  y >>= fun b ->\n",
    "  op a b\n",
    "\n",
    "let return_binary op x y = return (op x y)\n",
    "\n",
    "let ( + ) = upgrade_binary (return_binary Stdlib.( + ))\n",
    "let ( - ) = upgrade_binary (return_binary Stdlib.( - ))\n",
    "let ( * ) = upgrade_binary (return_binary Stdlib.( * ))\n",
    "let ( / ) = upgrade_binary div"
   ]
  },
  {
   "cell_type": "markdown",
   "id": "2e0bb026",
   "metadata": {},
   "source": [
    "**The Maybe Monad.** The monad we just discovered goes by several names: the\n",
    "*maybe monad* (as in, \"maybe there's a value, maybe not\"), the *error monad* (as\n",
    "in, \"either there's a value or an error\", and error is represented by\n",
    "`None`&mdash;though some authors would want an error monad to be able to\n",
    "represent multiple kinds of errors rather than just collapse them all to\n",
    "`None`), and the *option monad* (which is obvious).\n",
    "\n",
    "Here's an implementation of the monad signature for the maybe monad:"
   ]
  },
  {
   "cell_type": "code",
   "execution_count": 17,
   "id": "5181d412",
   "metadata": {},
   "outputs": [
    {
     "data": {
      "text/plain": [
       "module Maybe : Monad\n"
      ]
     },
     "execution_count": 17,
     "metadata": {},
     "output_type": "execute_result"
    }
   ],
   "source": [
    "module Maybe : Monad = struct\n",
    "  type 'a t = 'a option\n",
    "\n",
    "  let return x = Some x\n",
    "\n",
    "  let (>>=) m f =\n",
    "    match m with\n",
    "    | None -> None\n",
    "    | Some x -> f x\n",
    "end"
   ]
  },
  {
   "cell_type": "markdown",
   "id": "418a6898",
   "metadata": {},
   "source": [
    "These are the same implementations of `return` and `>>=` as we invented above,\n",
    "but without the type annotations to force them to work only on integers. Indeed,\n",
    "we never needed those annotations; they just helped make the code above a little\n",
    "clearer.\n",
    "\n",
    "In practice the `return` function here is quite trivial and not really\n",
    "necessary. But the `>>=` operator can be used to replace a lot of boilerplate\n",
    "pattern matching, as we saw in the final implementation of the arithmetic\n",
    "operators above. There's just a single pattern match, which is inside of `>>=`.\n",
    "Compare that to the original implementations of `plus_opt`, etc., which had many\n",
    "pattern matches.\n",
    "\n",
    "The result is we get code that (once you understand how to read the bind\n",
    "operator) is easier to read and easier to maintain.\n",
    "\n",
    "Now that we're done playing with integer operators, we should restore\n",
    "their original meaning for the rest of this file:"
   ]
  },
  {
   "cell_type": "code",
   "execution_count": 18,
   "id": "2c304664",
   "metadata": {},
   "outputs": [
    {
     "data": {
      "text/plain": [
       "val ( + ) : int -> int -> int = <fun>\n"
      ]
     },
     "execution_count": 18,
     "metadata": {},
     "output_type": "execute_result"
    },
    {
     "data": {
      "text/plain": [
       "val ( - ) : int -> int -> int = <fun>\n"
      ]
     },
     "execution_count": 18,
     "metadata": {},
     "output_type": "execute_result"
    },
    {
     "data": {
      "text/plain": [
       "val ( * ) : int -> int -> int = <fun>\n"
      ]
     },
     "execution_count": 18,
     "metadata": {},
     "output_type": "execute_result"
    },
    {
     "data": {
      "text/plain": [
       "val ( / ) : int -> int -> int = <fun>\n"
      ]
     },
     "execution_count": 18,
     "metadata": {},
     "output_type": "execute_result"
    }
   ],
   "source": [
    "let ( + ) = Stdlib.( + )\n",
    "let ( - ) = Stdlib.( - )\n",
    "let ( * ) = Stdlib.( * )\n",
    "let ( / ) = Stdlib.( / )"
   ]
  },
  {
   "cell_type": "markdown",
   "id": "9c1eabf7",
   "metadata": {},
   "source": [
    "## Example: The Writer Monad\n",
    "\n",
    "When trying to diagnose faults in a system, it's often the case that a *log* of\n",
    "what functions have been called, as well as what their inputs and outputs were,\n",
    "would be helpful.\n",
    "\n",
    "Imagine that we had two functions we wanted to debug, both of type `int -> int`.\n",
    "For example:"
   ]
  },
  {
   "cell_type": "code",
   "execution_count": 19,
   "id": "99166a1e",
   "metadata": {},
   "outputs": [
    {
     "data": {
      "text/plain": [
       "val inc : int -> int = <fun>\n"
      ]
     },
     "execution_count": 19,
     "metadata": {},
     "output_type": "execute_result"
    },
    {
     "data": {
      "text/plain": [
       "val dec : int -> int = <fun>\n"
      ]
     },
     "execution_count": 19,
     "metadata": {},
     "output_type": "execute_result"
    }
   ],
   "source": [
    "let inc x = x + 1\n",
    "let dec x = x - 1"
   ]
  },
  {
   "cell_type": "markdown",
   "id": "e83d0a70",
   "metadata": {},
   "source": [
    "(Ok, those are really simple functions; we probably don't need any help\n",
    "debugging them. But imagine they compute something far more complicated, like\n",
    "encryptions or decryptions of integers.)\n",
    "\n",
    "One way to keep a log of function calls would be to augment each function to\n",
    "return a pair: the integer value the function would normally return, as well as\n",
    "a string containing a log message. For example:"
   ]
  },
  {
   "cell_type": "code",
   "execution_count": 20,
   "id": "0b00c64c",
   "metadata": {},
   "outputs": [
    {
     "data": {
      "text/plain": [
       "val inc_log : int -> int * string = <fun>\n"
      ]
     },
     "execution_count": 20,
     "metadata": {},
     "output_type": "execute_result"
    },
    {
     "data": {
      "text/plain": [
       "val dec_log : int -> int * string = <fun>\n"
      ]
     },
     "execution_count": 20,
     "metadata": {},
     "output_type": "execute_result"
    }
   ],
   "source": [
    "let inc_log x = (x + 1, Printf.sprintf \"Called inc on %i; \" x)\n",
    "let dec_log x = (x - 1, Printf.sprintf \"Called dec on %i; \" x)"
   ]
  },
  {
   "cell_type": "markdown",
   "id": "4a044c98",
   "metadata": {},
   "source": [
    "But that changes the return type of both functions, which makes it hard to\n",
    "*compose* the functions. Previously, we could have written code such as"
   ]
  },
  {
   "cell_type": "code",
   "execution_count": 21,
   "id": "e05071b8",
   "metadata": {},
   "outputs": [
    {
     "data": {
      "text/plain": [
       "val id : int -> int = <fun>\n"
      ]
     },
     "execution_count": 21,
     "metadata": {},
     "output_type": "execute_result"
    }
   ],
   "source": [
    "let id x = dec (inc x)"
   ]
  },
  {
   "cell_type": "markdown",
   "id": "f4443f5f",
   "metadata": {},
   "source": [
    "or even better"
   ]
  },
  {
   "cell_type": "code",
   "execution_count": 22,
   "id": "eb9a853c",
   "metadata": {},
   "outputs": [
    {
     "data": {
      "text/plain": [
       "val id : int -> int = <fun>\n"
      ]
     },
     "execution_count": 22,
     "metadata": {},
     "output_type": "execute_result"
    }
   ],
   "source": [
    "let id x = x |> inc |> dec"
   ]
  },
  {
   "cell_type": "markdown",
   "id": "0ce699bb",
   "metadata": {},
   "source": [
    "or even better still, using the *composition operator* `>>`,"
   ]
  },
  {
   "cell_type": "code",
   "execution_count": 23,
   "id": "9e3c0d30",
   "metadata": {},
   "outputs": [
    {
     "data": {
      "text/plain": [
       "val ( >> ) : ('a -> 'b) -> ('b -> 'c) -> 'a -> 'c = <fun>\n"
      ]
     },
     "execution_count": 23,
     "metadata": {},
     "output_type": "execute_result"
    },
    {
     "data": {
      "text/plain": [
       "val id : int -> int = <fun>\n"
      ]
     },
     "execution_count": 23,
     "metadata": {},
     "output_type": "execute_result"
    }
   ],
   "source": [
    "let ( >> ) f g x = x |> f |> g\n",
    "let id = inc >> dec"
   ]
  },
  {
   "cell_type": "markdown",
   "id": "c2440aba",
   "metadata": {},
   "source": [
    "and that would have worked just fine. But trying to do the same thing with the\n",
    "loggable versions of the functions produces a type-checking error:"
   ]
  },
  {
   "cell_type": "code",
   "execution_count": 24,
   "id": "b53a3d51",
   "metadata": {
    "tags": [
     "raises-exception"
    ]
   },
   "outputs": [
    {
     "ename": "error",
     "evalue": "compile_error",
     "output_type": "error",
     "traceback": [
      "File \"[24]\", line 1, characters 20-27:\n1 | let id = inc_log >> dec_log\n                        ^^^^^^^\nError: This expression has type int -> int * string\n       but an expression was expected of type int * string -> 'a\n       Type int is not compatible with type int * string \n"
     ]
    }
   ],
   "source": [
    "let id = inc_log >> dec_log"
   ]
  },
  {
   "cell_type": "markdown",
   "id": "98f69192",
   "metadata": {},
   "source": [
    "That's because `inc_log x` would be a pair, but `dec_log` expects simply an\n",
    "integer as input.\n",
    "\n",
    "We could code up an upgraded version of `dec_log` that is able to take a pair as\n",
    "input:"
   ]
  },
  {
   "cell_type": "code",
   "execution_count": 25,
   "id": "e486d09f",
   "metadata": {},
   "outputs": [
    {
     "data": {
      "text/plain": [
       "val dec_log_upgraded : int * string -> int * string = <fun>\n"
      ]
     },
     "execution_count": 25,
     "metadata": {},
     "output_type": "execute_result"
    },
    {
     "data": {
      "text/plain": [
       "val id : int -> int * string = <fun>\n"
      ]
     },
     "execution_count": 25,
     "metadata": {},
     "output_type": "execute_result"
    }
   ],
   "source": [
    "let dec_log_upgraded (x, s) =\n",
    "  (x - 1, Printf.sprintf \"%s; Called dec on %i; \" s x)\n",
    "\n",
    "let id x = x |> inc_log |> dec_log_upgraded"
   ]
  },
  {
   "cell_type": "markdown",
   "id": "b927de1b",
   "metadata": {},
   "source": [
    "That works fine, but we also will need to code up a similar upgraded version of\n",
    "`f_log` if we ever want to call them in reverse order, e.g.,\n",
    "`let id = dec_log >> inc_log`. So we have to write:"
   ]
  },
  {
   "cell_type": "code",
   "execution_count": 26,
   "id": "8ba8ff31",
   "metadata": {},
   "outputs": [
    {
     "data": {
      "text/plain": [
       "val inc_log_upgraded : int * string -> int * string = <fun>\n"
      ]
     },
     "execution_count": 26,
     "metadata": {},
     "output_type": "execute_result"
    },
    {
     "data": {
      "text/plain": [
       "val id : int -> int * string = <fun>\n"
      ]
     },
     "execution_count": 26,
     "metadata": {},
     "output_type": "execute_result"
    }
   ],
   "source": [
    "let inc_log_upgraded (x, s) =\n",
    "  (x + 1, Printf.sprintf \"%s; Called inc on %i; \" s x)\n",
    "\n",
    "let id = dec_log >> inc_log_upgraded"
   ]
  },
  {
   "cell_type": "markdown",
   "id": "e269d8d4",
   "metadata": {},
   "source": [
    "And at this point we've duplicated far too much code. The implementations of\n",
    "`inc` and `dec` are duplicated inside both `inc_log` and `dec_log`, as well as\n",
    "inside both upgraded versions of the functions. And both the upgrades duplicate\n",
    "the code for concatenating log messages together. The more functions we want to\n",
    "make loggable, the worse this duplication is going to become!\n",
    "\n",
    "So, let's start over, and factor out a couple helper functions. The first helper\n",
    "calls a function and produces a log message:"
   ]
  },
  {
   "cell_type": "code",
   "execution_count": 27,
   "id": "aa58e9be",
   "metadata": {},
   "outputs": [
    {
     "data": {
      "text/plain": [
       "val log : string -> (int -> int) -> int -> int * string = <fun>\n"
      ]
     },
     "execution_count": 27,
     "metadata": {},
     "output_type": "execute_result"
    }
   ],
   "source": [
    "let log (name : string) (f : int -> int) : int -> int * string =\n",
    "  fun x -> (f x, Printf.sprintf \"Called %s on %i; \" name x)"
   ]
  },
  {
   "cell_type": "markdown",
   "id": "ffc68049",
   "metadata": {},
   "source": [
    "The second helper produces a logging function of type\n",
    "`'a * string -> 'b * string` out of a non-loggable function:"
   ]
  },
  {
   "cell_type": "code",
   "execution_count": 28,
   "id": "8bcd06ad",
   "metadata": {},
   "outputs": [
    {
     "data": {
      "text/plain": [
       "val loggable : string -> (int -> int) -> int * string -> int * string = <fun>\n"
      ]
     },
     "execution_count": 28,
     "metadata": {},
     "output_type": "execute_result"
    }
   ],
   "source": [
    "let loggable (name : string) (f : int -> int) : int * string -> int * string =\n",
    "  fun (x, s1) ->\n",
    "    let (y, s2) = log name f x in\n",
    "    (y, s1 ^ s2)"
   ]
  },
  {
   "cell_type": "markdown",
   "id": "dcfca66c",
   "metadata": {},
   "source": [
    "Using those helpers, we can implement the logging versions of our functions\n",
    "without any duplication of code involving pairs or pattern matching or string\n",
    "concatenation:"
   ]
  },
  {
   "cell_type": "code",
   "execution_count": 29,
   "id": "096382f1",
   "metadata": {},
   "outputs": [
    {
     "data": {
      "text/plain": [
       "val inc' : int * string -> int * string = <fun>\n"
      ]
     },
     "execution_count": 29,
     "metadata": {},
     "output_type": "execute_result"
    },
    {
     "data": {
      "text/plain": [
       "val dec' : int * string -> int * string = <fun>\n"
      ]
     },
     "execution_count": 29,
     "metadata": {},
     "output_type": "execute_result"
    },
    {
     "data": {
      "text/plain": [
       "val id' : int * string -> int * string = <fun>\n"
      ]
     },
     "execution_count": 29,
     "metadata": {},
     "output_type": "execute_result"
    }
   ],
   "source": [
    "let inc' : int * string -> int * string =\n",
    "  loggable \"inc\" inc\n",
    "\n",
    "let dec' : int * string -> int * string =\n",
    "  loggable \"dec\" dec\n",
    "\n",
    "let id' : int * string -> int * string =\n",
    "  inc' >> dec'"
   ]
  },
  {
   "cell_type": "markdown",
   "id": "3334983b",
   "metadata": {},
   "source": [
    "Here's an example usage:"
   ]
  },
  {
   "cell_type": "code",
   "execution_count": 30,
   "id": "f1aecb4f",
   "metadata": {},
   "outputs": [
    {
     "data": {
      "text/plain": [
       "- : int * string = (5, \"Called inc on 5; Called dec on 6; \")\n"
      ]
     },
     "execution_count": 30,
     "metadata": {},
     "output_type": "execute_result"
    }
   ],
   "source": [
    "id' (5, \"\")"
   ]
  },
  {
   "cell_type": "markdown",
   "id": "fe589f81",
   "metadata": {},
   "source": [
    "Notice how it's inconvenient to call our loggable functions on integers, since\n",
    "we have to pair the integer with a string. So let's write one more function to\n",
    "help with that by pairing an integer with the *empty* log:"
   ]
  },
  {
   "cell_type": "code",
   "execution_count": 31,
   "id": "ae98b011",
   "metadata": {},
   "outputs": [
    {
     "data": {
      "text/plain": [
       "val e : 'a -> 'a * string = <fun>\n"
      ]
     },
     "execution_count": 31,
     "metadata": {},
     "output_type": "execute_result"
    }
   ],
   "source": [
    "let e x = (x, \"\")"
   ]
  },
  {
   "cell_type": "markdown",
   "id": "a65342c0",
   "metadata": {},
   "source": [
    "And now we can write `id' (e 5)` instead of `id' (5, \"\")`.\n",
    "\n",
    "**Where's the Monad?** The work we just did was to take functions on integers\n",
    "and transform them into functions on integers paired with log messages. We can\n",
    "think of these \"upgraded\" functions as computations that log. They produce\n",
    "metaphorical boxes, and those boxes contain function outputs as well as log\n",
    "messages.\n",
    "\n",
    "There were two fundamental ideas in the code we just wrote, which correspond to\n",
    "the monad operations of `return` and `bind`.\n",
    "\n",
    "The first was upgrading a value from `int` to `int * string` by pairing it with\n",
    "the empty string. That's what `e` does. We could rename it `return`:"
   ]
  },
  {
   "cell_type": "code",
   "execution_count": 32,
   "id": "7f8e045c",
   "metadata": {},
   "outputs": [
    {
     "data": {
      "text/plain": [
       "val return : int -> int * string = <fun>\n"
      ]
     },
     "execution_count": 32,
     "metadata": {},
     "output_type": "execute_result"
    }
   ],
   "source": [
    "let return (x : int) : int * string = (x, \"\")"
   ]
  },
  {
   "cell_type": "markdown",
   "id": "3eafdf25",
   "metadata": {},
   "source": [
    "This function has the *trivial effect* of putting a value into the metaphorical\n",
    "box along with the empty log message.\n",
    "\n",
    "The second idea was factoring out code to handle pattern matching against pairs\n",
    "and string concatenation. Here's that idea expressed as its own function:"
   ]
  },
  {
   "cell_type": "code",
   "execution_count": 33,
   "id": "4a6ae1ff",
   "metadata": {},
   "outputs": [
    {
     "data": {
      "text/plain": [
       "val ( >>= ) : int * string -> (int -> int * string) -> int * string = <fun>\n"
      ]
     },
     "execution_count": 33,
     "metadata": {},
     "output_type": "execute_result"
    }
   ],
   "source": [
    "let ( >>= ) (m : int * string) (f : int -> int * string) : int * string =\n",
    "  let (x, s1) = m in\n",
    "  let (y, s2) = f x in\n",
    "  (y, s1 ^ s2)"
   ]
  },
  {
   "cell_type": "markdown",
   "id": "cb48869b",
   "metadata": {},
   "source": [
    "Using `>>=`, we can re-implement `loggable`, such that no pairs\n",
    "or pattern matching are ever used in its body:"
   ]
  },
  {
   "cell_type": "code",
   "execution_count": 34,
   "id": "a4b84829",
   "metadata": {},
   "outputs": [
    {
     "data": {
      "text/plain": [
       "val loggable : string -> (int -> int) -> int * string -> int * string = <fun>\n"
      ]
     },
     "execution_count": 34,
     "metadata": {},
     "output_type": "execute_result"
    }
   ],
   "source": [
    "let loggable (name : string) (f : int -> int) : int * string -> int * string =\n",
    "  fun m ->\n",
    "    m >>= fun x ->\n",
    "    log name f x"
   ]
  },
  {
   "cell_type": "markdown",
   "id": "2e938559",
   "metadata": {},
   "source": [
    "**The Writer Monad.** The monad we just discovered is usually called the *writer\n",
    "monad* (as in, \"additionally writing to a log or string\"). Here's an\n",
    "implementation of the monad signature for it:"
   ]
  },
  {
   "cell_type": "code",
   "execution_count": 35,
   "id": "7ad32470",
   "metadata": {},
   "outputs": [
    {
     "data": {
      "text/plain": [
       "module Writer : Monad\n"
      ]
     },
     "execution_count": 35,
     "metadata": {},
     "output_type": "execute_result"
    }
   ],
   "source": [
    "module Writer : Monad = struct\n",
    "  type 'a t = 'a * string\n",
    "\n",
    "  let return x = (x, \"\")\n",
    "\n",
    "  let ( >>= ) m f =\n",
    "    let (x, s1) = m in\n",
    "    let (y, s2) = f x in\n",
    "    (y, s1 ^ s2)\n",
    "end"
   ]
  },
  {
   "cell_type": "markdown",
   "id": "a04c935e",
   "metadata": {},
   "source": [
    "As we saw with the maybe monad, these are the same implementations of `return`\n",
    "and `>>=` as we invented above, but without the type annotations to force them\n",
    "to work only on integers. Indeed, we never needed those annotations; they just\n",
    "helped make the code above a little clearer.\n",
    "\n",
    "It's debatable which version of `loggable` is easier to read. Certainly you need\n",
    "to be comfortable with the monadic style of programming to appreciate the\n",
    "version of it that uses `>>=`. But if you were developing a much larger code\n",
    "base (i.e., with more functions involving paired strings than just `loggable`),\n",
    "using the `>>=` operator is likely to be a good choice: it means the code you\n",
    "write can concentrate on the `'a` in the type `'a Writer.t` instead of on the\n",
    "strings. In other words, the writer monad will take care of the strings for you,\n",
    "as long as you use `return` and `>>=`.\n",
    "\n",
    "## Example: The Lwt Monad\n",
    "\n",
    "By now, it's probably obvious that the Lwt promises library that we discussed is\n",
    "also a monad. The type `'a Lwt.t` of promises has a `return` and `bind`\n",
    "operation of the right types to be a monad:\n",
    "\n",
    "```ocaml\n",
    "val return : 'a -> 'a t\n",
    "val bind : 'a t -> ('a -> 'b t) -> 'b t\n",
    "```\n",
    "\n",
    "And `Lwt.Infix.( >>= )` is a synonym for `Lwt.bind`, so the library does provide\n",
    "an infix bind operator.\n",
    "\n",
    "Now we start to see some of the great power of the monad design pattern. The\n",
    "implementation of `'a t` and `return` that we saw before involves creating\n",
    "references, but those references are completely hidden behind the monadic\n",
    "interface. Moreover, we know that `bind` involves registering callbacks, but\n",
    "that functionality (which as you might imagine involves maintaining collections\n",
    "of callbacks) is entirely encapsulated.\n",
    "\n",
    "Metaphorically, as we discussed before, the box involved here is one that starts\n",
    "out empty but eventually will be filled with a value of type `'a`. The\n",
    "\"something more\" in these computations is that values are being produced\n",
    "asynchronously, rather than immediately.\n",
    "\n",
    "## Monad Laws\n",
    "\n",
    "Every data structure has not just a signature, but some expected behavior. For\n",
    "example, a stack has a push and a pop operation, and we expect those operations\n",
    "to satisfy certain algebraic laws.  We saw those for stacks when we studied\n",
    "equational specification:\n",
    "\n",
    "* `peek (push x s) = x`\n",
    "* `pop (push x empty) = empty`\n",
    "* etc.\n",
    "\n",
    "A monad, though, is not just a single data structure. It's a design pattern for\n",
    "data structures. So it's impossible to write specifications of `return` and\n",
    "`>>=` for monads in general: the specifications would need to discuss the\n",
    "particular monad, like the writer monad or the Lwt monad.\n",
    "\n",
    "On the other hand, it turns out that we can write down some laws that ought to\n",
    "hold of any monad. The reason for that goes back to one of the intuitions we\n",
    "gave about monads, namely, that they represent computations that have effects.\n",
    "Consider Lwt, for example. We might register a callback C on promise X with\n",
    "`bind`. That produces a new promise Y, on which we could register another\n",
    "callback D. We expect a sequential ordering on those callbacks: C must run\n",
    "before D, because Y cannot be resolved before X.\n",
    "\n",
    "That notion of *sequential order* is part of what the monad laws stipulate. We\n",
    "will state those laws below. But first, let's pause to consider sequential order\n",
    "in imperative languages.\n",
    "\n",
    "**Sequential Order.* In languages like Java and C, there is a semicolon that\n",
    "imposes a sequential order on statements, e.g.:\n",
    "\n",
    "```java\n",
    "System.out.println(x);\n",
    "x++;\n",
    "System.out.println(x);\n",
    "```\n",
    "\n",
    "First `x` is printed, then incremented, then printed again. The effects that\n",
    "those statements have must occur in that sequential order.\n",
    "\n",
    "Let's imagine a hypothetical statement that causes no effect whatsoever. For\n",
    "example, `assert true` causes nothing to happen in Java. (Some compilers will\n",
    "completely ignore it and not even produce bytecode for it.) In most assembly\n",
    "languages, there is likewise a \"no op\" instruction whose mnemonic is usually\n",
    "`NOP` that also causes nothing to happen. (Technically, some clock cycles would\n",
    "elapse. But there wouldn't be any changes to registers or memory.) In the theory\n",
    "of programming languages, statements like this are usually called `skip`, as in,\n",
    "\"skip over me because I don't do anything interesting.\"\n",
    "\n",
    "Here are two laws that should hold of `skip` and semicolon:\n",
    "\n",
    "* `skip; s;` should behave the same as just `s;`.\n",
    "\n",
    "* `s; skip;` should behave the same as just `s;`.\n",
    "\n",
    "In other words, you can remove any occurrences of `skip`, because it has no\n",
    "effects. Mathematically, we say that `skip` is a *left identity* (the first law)\n",
    "and a *right identity* (the second law) of semicolon.\n",
    "\n",
    "Imperative languages also usually have a way of grouping statements together\n",
    "into blocks. In Java and C, this is usually done with curly braces. Here is a\n",
    "law that should hold of blocks and semicolon:\n",
    "\n",
    "* `{s1; s2;} s3;` should behave the same as `s1; {s2; s3;}`.\n",
    "\n",
    "In other words, the order is always `s1` then `s2` then `s3`, regardless of\n",
    "whether you group the first two statements into a block or the second two into a\n",
    "block. So you could even remove the braces and just write `s1; s2; s3;`, which\n",
    "is what we normally do anyway. Mathematically, we say that semicolon is\n",
    "*associative.*\n",
    "\n",
    "**Sequential Order with the Monad Laws.** The three laws above embody exactly\n",
    "the same intuition as the monad laws, which we will now state. The monad laws\n",
    "are just a bit more abstract hence harder to understand at first.\n",
    "\n",
    "Suppose that we have any monad, which as usual must have the following\n",
    "signature:"
   ]
  },
  {
   "cell_type": "code",
   "execution_count": 36,
   "id": "3fc47fb5",
   "metadata": {},
   "outputs": [
    {
     "data": {
      "text/plain": [
       "module type Monad =\n",
       "  sig\n",
       "    type 'a t\n",
       "    val return : 'a -> 'a t\n",
       "    val ( >>= ) : 'a t -> ('a -> 'b t) -> 'b t\n",
       "  end\n"
      ]
     },
     "execution_count": 36,
     "metadata": {},
     "output_type": "execute_result"
    }
   ],
   "source": [
    "module type Monad = sig\n",
    "  type 'a t\n",
    "  val return : 'a -> 'a t\n",
    "  val ( >>= ) : 'a t -> ('a -> 'b t) -> 'b t\n",
    "end"
   ]
  },
  {
   "cell_type": "markdown",
   "id": "a72aad3d",
   "metadata": {},
   "source": [
    "The three monad laws are as follows:\n",
    "\n",
    "* **Law 1:** `return x >>= f` behaves the same as `f x`.\n",
    "\n",
    "* **Law 2:** `m >>= return` behaves the same as `m`.\n",
    "\n",
    "* **Law 3:** `(m >>= f) >>= g` behaves the same as `m >>= (fun x -> f x >>= g)`.\n",
    "\n",
    "Here, \"behaves the same as\" means that the two expressions will both evaluate to\n",
    "the same value, or they will both go into an infinite loop, or they will both\n",
    "raise the same exception.\n",
    "\n",
    "These laws are mathematically saying the same things as the laws for `skip`,\n",
    "semicolon, and braces that we saw above: `return` is a left and right identity\n",
    "of `>>=`, and `>>=` is associative. Let's look at each law in more detail.\n",
    "\n",
    "*Law 1* says that having the trivial effect on a value, then binding a function\n",
    "on it, is the same as just calling the function on the value. Consider the maybe\n",
    "monad: `return x` would be `Some x`, and `>>= f` would extract `x` and apply `f`\n",
    "to it. Or consider the Lwt monad: `return x` would be a promise that is already\n",
    "resolved with `x`, and `>>= f` would register `f` as a callback to run on `x`.\n",
    "\n",
    "*Law 2* says that binding on the trivial effect is the same as just not having\n",
    "the effect. Consider the maybe monad: `m >>= return` would depend upon whether\n",
    "`m` is `Some x` or `None`. In the former case, binding would extract `x`, and\n",
    "`return` would just re-wrap it with `Some`. In the latter case, binding would\n",
    "just return `None`. Similarly, with Lwt, binding on `m` would register `return`\n",
    "as a callback to be run on the contents of `m` after it is resolved, and\n",
    "`return` would just take those contents and put them back into an already\n",
    "resolved promise.\n",
    "\n",
    "*Law 3* says that bind sequences effects correctly, but it's harder to see it in\n",
    "this law than it was in the version above with semicolon and braces. Law 3 would\n",
    "be clearer if we could rewrite it as\n",
    "\n",
    ">`(m >>= f) >>= g` behaves the same as `m >>= (f >>= g)`.\n",
    "\n",
    "But the problem is that doesn't type check: `f >>= g` doesn't have the right\n",
    "type to be on the right-hand side of `>>=`. So we have to insert an extra\n",
    "anonymous function `fun x -> ...` to make the types correct.\n",
    "\n",
    "## Composition and Monad Laws\n",
    "\n",
    "There is another monad operator called `compose` that can be used to compose\n",
    "monadic functions. For example, suppose you have a monad with type `'a t`, and\n",
    "two functions:\n",
    "\n",
    "* `f : 'a -> 'b t`\n",
    "* `g : 'b -> 'c t`\n",
    "\n",
    "The composition of those functions would be\n",
    "\n",
    "* `compose f g : 'a -> 'c t`\n",
    "\n",
    "That is, the composition would take a value of type `'a`, apply `f` to it, extract\n",
    "the `'b` out of the result, apply `g` to it, and return that value.\n",
    "\n",
    "We can code up `compose` using `>>=`; we don't need to know anything more about\n",
    "the inner workings of the monad:"
   ]
  },
  {
   "cell_type": "code",
   "execution_count": 37,
   "id": "af9c8dca",
   "metadata": {},
   "outputs": [
    {
     "data": {
      "text/plain": [
       "val compose :\n",
       "  ('a -> int * string) -> (int -> int * string) -> 'a -> int * string = <fun>\n"
      ]
     },
     "execution_count": 37,
     "metadata": {},
     "output_type": "execute_result"
    },
    {
     "data": {
      "text/plain": [
       "val ( >=> ) :\n",
       "  ('a -> int * string) -> (int -> int * string) -> 'a -> int * string = <fun>\n"
      ]
     },
     "execution_count": 37,
     "metadata": {},
     "output_type": "execute_result"
    }
   ],
   "source": [
    "let compose f g x =\n",
    "  f x >>= fun y ->\n",
    "  g y\n",
    "\n",
    "let ( >=> ) = compose"
   ]
  },
  {
   "cell_type": "markdown",
   "id": "c56e77f5",
   "metadata": {},
   "source": [
    "As the last line suggests, `compose` can be expressed as infix operator written\n",
    "`>=>`.\n",
    "\n",
    "Returning to our example of the maybe monad with a safe division operator,\n",
    "imagine that we have increment and decrement functions:"
   ]
  },
  {
   "cell_type": "code",
   "execution_count": 38,
   "id": "ae2e0c83",
   "metadata": {},
   "outputs": [
    {
     "data": {
      "text/plain": [
       "val inc : int -> int option = <fun>\n"
      ]
     },
     "execution_count": 38,
     "metadata": {},
     "output_type": "execute_result"
    },
    {
     "data": {
      "text/plain": [
       "val dec : int -> int option = <fun>\n"
      ]
     },
     "execution_count": 38,
     "metadata": {},
     "output_type": "execute_result"
    },
    {
     "data": {
      "text/plain": [
       "val ( >>= ) : 'a option -> ('a -> 'b option) -> 'b option = <fun>\n"
      ]
     },
     "execution_count": 38,
     "metadata": {},
     "output_type": "execute_result"
    }
   ],
   "source": [
    "let inc (x : int) : int option = Some (x + 1)\n",
    "let dec (x : int) : int option = Some (x - 1)\n",
    "let ( >>= ) x op =\n",
    "  match x with\n",
    "  | None -> None\n",
    "  | Some a -> op a"
   ]
  },
  {
   "cell_type": "markdown",
   "id": "be3baa16",
   "metadata": {},
   "source": [
    "The monadic compose operator would enable us to compose those two into\n",
    "an identity function without having to write any additional code:"
   ]
  },
  {
   "cell_type": "code",
   "execution_count": 39,
   "id": "2416d059",
   "metadata": {},
   "outputs": [
    {
     "data": {
      "text/plain": [
       "val ( >=> ) : ('a -> 'b option) -> ('b -> 'c option) -> 'a -> 'c option =\n",
       "  <fun>\n"
      ]
     },
     "execution_count": 39,
     "metadata": {},
     "output_type": "execute_result"
    },
    {
     "data": {
      "text/plain": [
       "val id : int -> int option = <fun>\n"
      ]
     },
     "execution_count": 39,
     "metadata": {},
     "output_type": "execute_result"
    }
   ],
   "source": [
    "let ( >=> ) f g x =\n",
    "  f x >>= fun y ->\n",
    "  g y\n",
    "\n",
    "let id : int -> int option = inc >=> dec"
   ]
  },
  {
   "cell_type": "markdown",
   "id": "fa9f4297",
   "metadata": {},
   "source": [
    "Using the compose operator, there is a much cleaner formulation of the monad\n",
    "laws:\n",
    "\n",
    "* **Law 1:** `return >=> f` behaves the same as `f`.\n",
    "\n",
    "* **Law 2:** `f >=> return` behaves the same as `f`.\n",
    "\n",
    "* **Law 3:** `(f >=> g) >=> h` behaves the same as `f >=> (g >=> h)`.\n",
    "\n",
    "In that formulation, it becomes immediately clear that `return` is a left and\n",
    "right identity, and that composition is associative."
   ]
  }
 ],
 "metadata": {
  "jupytext": {
   "cell_metadata_filter": "-all",
   "formats": "md:myst",
   "text_representation": {
    "extension": ".md",
    "format_name": "myst",
    "format_version": 0.13,
    "jupytext_version": "1.10.3"
   }
  },
  "kernelspec": {
   "display_name": "OCaml",
   "language": "OCaml",
   "name": "ocaml-jupyter"
  },
  "language_info": {
   "codemirror_mode": "text/x-ocaml",
   "file_extension": ".ml",
   "mimetype": "text/x-ocaml",
   "name": "OCaml",
   "nbconverter_exporter": null,
   "pygments_lexer": "OCaml",
   "version": "4.14.0"
  },
  "source_map": [
   14,
   49,
   56,
   94,
   101,
   139,
   144,
   153,
   162,
   194,
   197,
   204,
   213,
   224,
   233,
   239,
   246,
   250,
   255,
   272,
   274,
   283,
   290,
   297,
   300,
   305,
   307,
   312,
   332,
   344,
   356,
   367,
   378,
   398,
   403,
   414,
   417,
   427,
   430,
   435,
   437,
   441,
   443,
   447,
   450,
   455,
   458,
   466,
   471,
   477,
   482,
   493,
   496,
   500,
   505,
   511,
   520,
   524,
   526,
   532,
   534,
   550,
   552,
   559,
   564,
   569,
   574,
   580,
   591,
   711,
   717,
   779,
   785,
   793,
   800,
   805,
   811
  ]
 },
 "nbformat": 4,
 "nbformat_minor": 5
}